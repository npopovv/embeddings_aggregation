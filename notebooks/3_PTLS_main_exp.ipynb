{
  "cells": [
    {
      "cell_type": "code",
      "execution_count": null,
      "metadata": {
        "id": "5uUgqv_i-RY3"
      },
      "outputs": [],
      "source": [
        "from IPython.display import clear_output\n",
        "! pip install bayesian-optimization\n",
        "! pip install cvxopt\n",
        "! pip install qpsolvers==3.4.0\n",
        "# ! pip install accelerate==0.20.3 -U\n",
        "! pip install git+https://github.com/simonzhang00/ripser-plusplus.git\n",
        "! pip install git+https://github.com/IlyaTrofimov/RTD.git\n",
        "clear_output()\n",
        "!pip install -U lightautoml\n",
        "!git clone https://github.com/mklabunde/resi.git\n",
        "!pip install loguru\n",
        "!pip install git+https://github.com/KhrulkovV/geometry-score.git\n",
        "!pip install git+https://github.com/xgfs/imd.git\n",
        "!pip install gudhi\n",
        "!pip install --upgrade numpy catboost\n",
        "\n",
        "clear_output()"
      ]
    },
    {
      "cell_type": "code",
      "execution_count": null,
      "metadata": {
        "id": "Dt_bzdZUNi9U"
      },
      "outputs": [],
      "source": [
        "import numpy as np\n",
        "import pandas as pd\n",
        "from tqdm import tqdm\n",
        "import warnings\n",
        "import torch\n",
        "from sklearn.model_selection import train_test_split\n",
        "from sklearn.metrics import accuracy_score, f1_score, roc_auc_score\n",
        "import pickle\n",
        "import sys\n",
        "from matplotlib import pyplot as plt\n",
        "from IPython.display import clear_output\n",
        "\n",
        "device = torch.device('cuda')"
      ]
    },
    {
      "cell_type": "code",
      "source": [
        "sys.path.append('/content/resi/')\n",
        "warnings.filterwarnings(\"ignore\")\n",
        "from repsim.measures import ALL_MEASURES\n",
        "from repsim.measures import FUNCTIONAL_SIMILARITY_MEASURES\n",
        "import rtd\n",
        "from rtd.barcodes import h1sum, calc_embed_dist\n",
        "from qpsolvers import solve_qp\n",
        "warnings.filterwarnings(\"ignore\")\n"
      ],
      "metadata": {
        "id": "vOlps06pLq5b",
        "colab": {
          "base_uri": "https://localhost:8080/"
        },
        "outputId": "4249da67-4023-412a-ec09-1956580af34a"
      },
      "execution_count": null,
      "outputs": [
        {
          "output_type": "stream",
          "name": "stderr",
          "text": [
            "\u001b[32m2025-03-24 17:23:47.325\u001b[0m | \u001b[1mINFO    \u001b[0m | \u001b[36mrepsim.measures.rtd\u001b[0m:\u001b[36m__init__\u001b[0m:\u001b[36m56\u001b[0m - \u001b[1mRTD will use cuda devices to compute barcodes. It is not possible to specify which GPU directly. Use the CUDA_VISIBLE_DEVICES environment variable to specify which GPU to use.\u001b[0m\n",
            "\u001b[32m2025-03-24 17:23:47.326\u001b[0m | \u001b[1mINFO    \u001b[0m | \u001b[36mrepsim.measures.rtd\u001b[0m:\u001b[36m__init__\u001b[0m:\u001b[36m56\u001b[0m - \u001b[1mRTD will use cuda devices to compute barcodes. It is not possible to specify which GPU directly. Use the CUDA_VISIBLE_DEVICES environment variable to specify which GPU to use.\u001b[0m\n"
          ]
        }
      ]
    },
    {
      "cell_type": "code",
      "execution_count": null,
      "metadata": {
        "id": "kbxQji-6bA-H",
        "colab": {
          "base_uri": "https://localhost:8080/"
        },
        "outputId": "6bec7cf7-4d58-4547-aa3a-7447d6dac0bb"
      },
      "outputs": [
        {
          "output_type": "stream",
          "name": "stderr",
          "text": [
            "WARNING:lightautoml.utils.installation:'nlp' extra dependency package 'gensim' isn't installed. Look at README.md in repo 'LightAutoML' for installation instructions.\n",
            "WARNING:lightautoml.utils.installation:'nlp' extra dependency package 'gensim' isn't installed. Look at README.md in repo 'LightAutoML' for installation instructions.\n"
          ]
        }
      ],
      "source": [
        "from lightautoml.automl.presets.tabular_presets import TabularAutoML, TabularUtilizedAutoML\n",
        "from lightautoml.tasks import Task"
      ]
    },
    {
      "cell_type": "code",
      "execution_count": null,
      "metadata": {
        "id": "U5QqxQjNNlen",
        "colab": {
          "base_uri": "https://localhost:8080/"
        },
        "outputId": "5ed265b9-ca8e-43b6-85ac-8faac4a5d321"
      },
      "outputs": [
        {
          "output_type": "stream",
          "name": "stdout",
          "text": [
            "Mounted at /content/drive\n"
          ]
        }
      ],
      "source": [
        "from google.colab import drive\n",
        "drive.mount('/content/drive')"
      ]
    },
    {
      "cell_type": "markdown",
      "source": [
        "# Функции"
      ],
      "metadata": {
        "id": "XreE73feOw4u"
      }
    },
    {
      "cell_type": "code",
      "source": [
        "def save_res(dct, path):\n",
        "  with open(path, 'wb') as handle:\n",
        "      pickle.dump(dct, handle, protocol=pickle.HIGHEST_PROTOCOL)"
      ],
      "metadata": {
        "id": "vmCCmGqDO1yb"
      },
      "execution_count": null,
      "outputs": []
    },
    {
      "cell_type": "code",
      "source": [
        "def load_res(path):\n",
        "  try:\n",
        "    with open(path, 'rb') as handle:\n",
        "      results = pickle.load(handle)\n",
        "  except:\n",
        "    results = {}\n",
        "\n",
        "  return results"
      ],
      "metadata": {
        "id": "ccOm-IlCPrji"
      },
      "execution_count": null,
      "outputs": []
    },
    {
      "cell_type": "code",
      "source": [
        "def opt_full(a, corr_matrix, n = 6):\n",
        "  \"\"\"\n",
        "  полная оптимизация\n",
        "  \"\"\"\n",
        "  P = 2 * corr_matrix\n",
        "  c = np.diag(corr_matrix)\n",
        "  q = a - c\n",
        "  A = np.ones((1, corr_matrix.shape[0]))\n",
        "  b = np.ones(1)\n",
        "  lb = np.zeros(corr_matrix.shape[0])\n",
        "  ub = np.ones(corr_matrix.shape[0])\n",
        "  x_sol = solve_qp(P, q, A=A, b=b, lb=lb, ub=ub, initvals=np.ones(n)*1/n, solver='cvxopt', verbose=False)\n",
        "  return x_sol"
      ],
      "metadata": {
        "id": "kQ3QZjJbOy8s"
      },
      "execution_count": null,
      "outputs": []
    },
    {
      "cell_type": "code",
      "source": [
        "def weight_embeds(tmp_emb, weights):\n",
        "  final_embeds_train = tmp_emb[0][0].copy()\n",
        "  final_embeds_test = tmp_emb[0][1].copy()\n",
        "\n",
        "  # Применяем веса к копиям\n",
        "  final_embeds_train.iloc[:, :256] = final_embeds_train.iloc[:, :256] * weights[0]\n",
        "  final_embeds_test.iloc[:, :256] = final_embeds_test.iloc[:, :256] * weights[0]\n",
        "\n",
        "  # Суммируем взвешенные эмбеддинги\n",
        "  for i, (train, test) in enumerate(tmp_emb[1:], start=1):\n",
        "      final_embeds_train.iloc[:, :256] += train.iloc[:, :256] * weights[i]\n",
        "      final_embeds_test.iloc[:, :256] += test.iloc[:, :256] * weights[i]\n",
        "\n",
        "  return final_embeds_train, final_embeds_test\n",
        "\n",
        "\n",
        "def weight_embeds_w_val(tmp_emb, weights):\n",
        "  final_embeds_train = tmp_emb[0][0].copy()\n",
        "  final_embeds_test = tmp_emb[0][2].copy()\n",
        "\n",
        "  # Применяем веса к копиям\n",
        "  final_embeds_train.iloc[:, :256] = final_embeds_train.iloc[:, :256] * weights[0]\n",
        "  final_embeds_test.iloc[:, :256] = final_embeds_test.iloc[:, :256] * weights[0]\n",
        "\n",
        "  # Суммируем взвешенные эмбеддинги\n",
        "  for i, (train, val, test) in enumerate(tmp_emb[1:], start=1):\n",
        "      final_embeds_train.iloc[:, :256] += train.iloc[:, :256] * weights[i]\n",
        "      final_embeds_test.iloc[:, :256] += test.iloc[:, :256] * weights[i]\n",
        "\n",
        "  return final_embeds_train, final_embeds_test"
      ],
      "metadata": {
        "id": "v7zw6bahOy-d"
      },
      "execution_count": null,
      "outputs": []
    },
    {
      "cell_type": "code",
      "source": [
        "N_THREADS = 4\n",
        "N_FOLDS = 5\n",
        "RANDOM_STATE = 42\n",
        "TIMEOUT = 200\n",
        "TARGET_NAME = 'target'\n",
        "roles = {\n",
        "    'target': TARGET_NAME,\n",
        "    'drop': ['client_id']\n",
        "}\n",
        "task = Task('multiclass', metric='crossentropy')\n",
        "\n",
        "\n",
        "def calc_accuracy_of_combination(final_embeds_train, final_embeds_test):\n",
        "  # Обучаем и оцениваем на первом наборе эмбеддингов\n",
        "  automl = TabularAutoML(\n",
        "      task=task,\n",
        "      timeout=TIMEOUT,\n",
        "      cpu_limit=N_THREADS,\n",
        "      reader_params={'n_jobs': N_THREADS, 'cv': N_FOLDS, 'random_state': RANDOM_STATE},\n",
        "  )\n",
        "\n",
        "  # Обучаем модель и получаем out-of-fold предсказания\n",
        "  out_of_fold_predictions = automl.fit_predict(final_embeds_train, roles=roles, verbose=0).data\n",
        "\n",
        "  # Предсказания на тесте\n",
        "  y_proba = automl.predict(final_embeds_test).data\n",
        "  y_pred = y_proba.argmax(axis=1)  # Выбираем класс с максимальной вероятностью\n",
        "\n",
        "\n",
        "\n",
        "  # Метрики для многоклассовой классификации\n",
        "  metrics = {\n",
        "      \"Accuracy\": accuracy_score,\n",
        "      \"F1 Score\": lambda y_true, y_pred: f1_score(y_true, y_pred, average='weighted'),\n",
        "      \"ROC-AUC\": lambda y_true, y_proba: roc_auc_score(y_true, y_proba, multi_class='ovr', average='weighted')\n",
        "  }\n",
        "\n",
        "  y_true = final_embeds_test[TARGET_NAME].values\n",
        "\n",
        "  all_metrics = {\n",
        "      metric_name: metric_func(y_true, y_pred if metric_name != \"ROC-AUC\" else y_proba)\n",
        "      for metric_name, metric_func in metrics.items()\n",
        "  }\n",
        "\n",
        "  return all_metrics"
      ],
      "metadata": {
        "id": "njDhz_zyO9Mw"
      },
      "execution_count": null,
      "outputs": []
    },
    {
      "cell_type": "code",
      "source": [
        "def softmax(x, temperature=1.0):\n",
        "    \"\"\"Compute softmax values for each sets of scores in x.\"\"\"\n",
        "    x = x / temperature  # Scale the logits by the temperature\n",
        "    e_x = np.exp(x - np.max(x))  # Subtract max for numerical stability\n",
        "    return e_x / e_x.sum(axis=0)  # Normalize to get probabilities"
      ],
      "metadata": {
        "id": "Hp_Vzq9nPGFB"
      },
      "execution_count": null,
      "outputs": []
    },
    {
      "cell_type": "markdown",
      "source": [
        "# Подсчет качества отдельных моделей"
      ],
      "metadata": {
        "id": "1Dt95VdzlE4T"
      }
    },
    {
      "cell_type": "code",
      "source": [
        "# берем для примера 6 наборов эмбедов\n",
        "from tqdm import tqdm\n",
        "\n",
        "embeds = []\n",
        "\n",
        "for i in tqdm(range(102)):\n",
        "\n",
        "    train = pd.read_csv(f'/content/drive/MyDrive/PTLS/data_ensemble_age_group/train_df{i}.csv').iloc[:,1:]\n",
        "    test = pd.read_csv(f'/content/drive/MyDrive/PTLS/data_ensemble_age_group/test_df{i}.csv').iloc[:,1:]\n",
        "\n",
        "    embeds.append((train, test))"
      ],
      "metadata": {
        "id": "jX3envRIlHAC",
        "colab": {
          "base_uri": "https://localhost:8080/"
        },
        "outputId": "b2bdb0ae-358b-4d38-a9c7-6e77a904e457"
      },
      "execution_count": null,
      "outputs": [
        {
          "output_type": "stream",
          "name": "stderr",
          "text": [
            "100%|██████████| 102/102 [06:40<00:00,  3.93s/it]\n"
          ]
        }
      ]
    },
    {
      "cell_type": "code",
      "source": [
        "PATH = '/content/drive/MyDrive/PTLS/data_ensemble_age_group/individual_accuracy.pkl'\n",
        "results = load_res(PATH)"
      ],
      "metadata": {
        "id": "6Y85c90glQbt"
      },
      "execution_count": null,
      "outputs": []
    },
    {
      "cell_type": "code",
      "source": [
        "results"
      ],
      "metadata": {
        "colab": {
          "base_uri": "https://localhost:8080/"
        },
        "id": "ylg7Ct6_NP1u",
        "outputId": "75ff164e-813b-40ef-b682-58e2208afd8d"
      },
      "execution_count": null,
      "outputs": [
        {
          "output_type": "execute_result",
          "data": {
            "text/plain": [
              "{}"
            ]
          },
          "metadata": {},
          "execution_count": 13
        }
      ]
    },
    {
      "cell_type": "code",
      "source": [
        "for i, (train, test) in enumerate(embeds):\n",
        "\n",
        "  metrics = calc_accuracy_of_combination(train, test)\n",
        "  results[i] = metrics\n",
        "  save_res(results, PATH)\n",
        "  clear_output()\n",
        "  print(results[i])"
      ],
      "metadata": {
        "id": "-SH3hymsljPE",
        "colab": {
          "base_uri": "https://localhost:8080/"
        },
        "outputId": "fb7df74c-aacd-454b-e74e-bd8a865577fe"
      },
      "execution_count": null,
      "outputs": [
        {
          "output_type": "stream",
          "name": "stdout",
          "text": [
            "{'Accuracy': 0.445, 'F1 Score': 0.4325103275943284, 'ROC-AUC': 0.7157440041770836}\n"
          ]
        }
      ]
    },
    {
      "cell_type": "markdown",
      "source": [
        "# Конкатенация эмбеддингов"
      ],
      "metadata": {
        "id": "nJUYWUX49HCD"
      }
    },
    {
      "cell_type": "code",
      "source": [
        "# берем для примера 6 наборов эмбедов\n",
        "from tqdm import tqdm\n",
        "\n",
        "embeds = []\n",
        "\n",
        "for i in tqdm(range(102)):\n",
        "\n",
        "    train = pd.read_csv(f'/content/drive/MyDrive/PTLS/data_ensemble_age_group/train_df{i}.csv').iloc[:,1:]\n",
        "    test = pd.read_csv(f'/content/drive/MyDrive/PTLS/data_ensemble_age_group/test_df{i}.csv').iloc[:,1:]\n",
        "\n",
        "    embeds.append((train, test))"
      ],
      "metadata": {
        "colab": {
          "base_uri": "https://localhost:8080/"
        },
        "id": "4Wt2d3GU-iIW",
        "outputId": "5bb0c27f-66d1-483a-8b30-3759044cca76"
      },
      "execution_count": null,
      "outputs": [
        {
          "output_type": "stream",
          "name": "stderr",
          "text": [
            "100%|██████████| 102/102 [03:39<00:00,  2.16s/it]\n"
          ]
        }
      ]
    },
    {
      "cell_type": "code",
      "source": [
        "def concat_embeds(embeds):\n",
        "\n",
        "    # Проверка структуры входных данных\n",
        "    for e in embeds:\n",
        "        if len(e) != 2:\n",
        "            raise ValueError(\"Каждый элемент embeds должен быть кортежем из 2 датафреймов.\")\n",
        "\n",
        "    # Конкатенация по столбцам для train, val, test\n",
        "    concat_train = pd.concat([e[0].drop(columns = ['client_id', 'target']) for e in embeds], axis=1)\n",
        "    concat_test = pd.concat([e[1].drop(columns = ['client_id', 'target']) for e in embeds], axis=1)\n",
        "\n",
        "    concat_train.columns = [f'emb_{i}' for i in range(concat_train.shape[1])]\n",
        "    concat_test.columns = [f'emb_{i}' for i in range(concat_test.shape[1])]\n",
        "\n",
        "    concat_train['target'] = embeds[0][0]['target']\n",
        "    concat_test['target'] = embeds[0][1]['target']\n",
        "\n",
        "    return concat_train, concat_test"
      ],
      "metadata": {
        "id": "7_OecPbN-XtC"
      },
      "execution_count": null,
      "outputs": []
    },
    {
      "cell_type": "code",
      "source": [
        "PATH = '/content/drive/MyDrive/PTLS/data_ensemble_age_group/concat_perfomance.pickle'\n",
        "results = load_res(PATH)\n",
        "n = 6"
      ],
      "metadata": {
        "id": "p2E7dJ4--vw6"
      },
      "execution_count": null,
      "outputs": []
    },
    {
      "cell_type": "code",
      "source": [
        "N_THREADS = 4\n",
        "N_FOLDS = 5\n",
        "RANDOM_STATE = 42\n",
        "TIMEOUT = 300\n",
        "TARGET_NAME = 'target'\n",
        "roles = {\n",
        "    'target': TARGET_NAME,\n",
        "    'drop': ['client_id']\n",
        "}\n",
        "task = Task('multiclass', metric='crossentropy')\n",
        "\n",
        "\n",
        "def calc_accuracy_of_combination(final_embeds_train, final_embeds_test):\n",
        "  # Обучаем и оцениваем на первом наборе эмбеддингов\n",
        "  automl = TabularAutoML(\n",
        "      task=task,\n",
        "      timeout=TIMEOUT,\n",
        "      cpu_limit=N_THREADS,\n",
        "      reader_params={'n_jobs': N_THREADS, 'cv': N_FOLDS, 'random_state': RANDOM_STATE},\n",
        "  )\n",
        "\n",
        "  # Обучаем модель и получаем out-of-fold предсказания\n",
        "  out_of_fold_predictions = automl.fit_predict(final_embeds_train, roles=roles, verbose=0).data\n",
        "\n",
        "  # Предсказания на тесте\n",
        "  y_proba = automl.predict(final_embeds_test).data\n",
        "  y_pred = y_proba.argmax(axis=1)  # Выбираем класс с максимальной вероятностью\n",
        "\n",
        "\n",
        "\n",
        "  # Метрики для многоклассовой классификации\n",
        "  metrics = {\n",
        "      \"Accuracy\": accuracy_score,\n",
        "      \"F1 Score\": lambda y_true, y_pred: f1_score(y_true, y_pred, average='weighted'),\n",
        "      \"ROC-AUC\": lambda y_true, y_proba: roc_auc_score(y_true, y_proba, multi_class='ovr', average='weighted')\n",
        "  }\n",
        "\n",
        "  y_true = final_embeds_test[TARGET_NAME].values\n",
        "\n",
        "  all_metrics = {\n",
        "      metric_name: metric_func(y_true, y_pred if metric_name != \"ROC-AUC\" else y_proba)\n",
        "      for metric_name, metric_func in metrics.items()\n",
        "  }\n",
        "\n",
        "  return all_metrics"
      ],
      "metadata": {
        "id": "ySeZnwjWGCSd"
      },
      "execution_count": null,
      "outputs": []
    },
    {
      "cell_type": "code",
      "source": [
        "%%time\n",
        "for i in range(0, len(embeds), n):\n",
        "\n",
        "  results[i] = {}\n",
        "\n",
        "  tmp_emb = embeds[i:i+n].copy()\n",
        "\n",
        "  concat_train, concat_test = concat_embeds(tmp_emb)\n",
        "\n",
        "  metrs = calc_accuracy_of_combination(concat_train, concat_test)\n",
        "  results[i]['uniform_emb_metrs'] = metrs\n",
        "  save_res(results, PATH)\n",
        "\n",
        "  clear_output()\n",
        "  print(f'Эксперимент {i}')\n",
        "  print(results[i])\n",
        "\n",
        "  save_res(results, PATH)"
      ],
      "metadata": {
        "colab": {
          "base_uri": "https://localhost:8080/"
        },
        "id": "YY-o4jkS7_sA",
        "outputId": "05245c96-3751-4810-b93c-096ff5256204"
      },
      "execution_count": null,
      "outputs": [
        {
          "output_type": "stream",
          "name": "stdout",
          "text": [
            "Эксперимент 96\n",
            "{'uniform_emb_metrs': {'Accuracy': 0.5376666666666666, 'F1 Score': 0.5317736480695252, 'ROC-AUC': 0.7962740343951392}}\n",
            "CPU times: user 12h 51min 59s, sys: 1min 4s, total: 12h 53min 4s\n",
            "Wall time: 3h 30min 20s\n"
          ]
        }
      ]
    },
    {
      "cell_type": "code",
      "source": [],
      "metadata": {
        "id": "0dkaWSU1Ib3x"
      },
      "execution_count": null,
      "outputs": []
    },
    {
      "cell_type": "markdown",
      "source": [
        "# Сумма эмбеддингов"
      ],
      "metadata": {
        "id": "-mQBRLlqIchn"
      }
    },
    {
      "cell_type": "code",
      "source": [
        "# берем для примера 6 наборов эмбедов\n",
        "from tqdm import tqdm\n",
        "\n",
        "embeds = []\n",
        "\n",
        "for i in tqdm(range(102)):\n",
        "\n",
        "    train = pd.read_csv(f'/content/drive/MyDrive/PTLS/data_ensemble_age_group/train_df{i}.csv').iloc[:,1:]\n",
        "    test = pd.read_csv(f'/content/drive/MyDrive/PTLS/data_ensemble_age_group/test_df{i}.csv').iloc[:,1:]\n",
        "\n",
        "    embeds.append((train, test))"
      ],
      "metadata": {
        "id": "-qy-j-8VIb9Y"
      },
      "execution_count": null,
      "outputs": []
    },
    {
      "cell_type": "code",
      "source": [
        "N_THREADS = 4\n",
        "N_FOLDS = 5\n",
        "RANDOM_STATE = 42\n",
        "TIMEOUT = 300\n",
        "TARGET_NAME = 'target'\n",
        "roles = {\n",
        "    'target': TARGET_NAME,\n",
        "    'drop': ['client_id']\n",
        "}\n",
        "task = Task('multiclass', metric='crossentropy')\n",
        "\n",
        "\n",
        "def calc_accuracy_of_combination(final_embeds_train, final_embeds_test):\n",
        "  # Обучаем и оцениваем на первом наборе эмбеддингов\n",
        "  automl = TabularAutoML(\n",
        "      task=task,\n",
        "      timeout=TIMEOUT,\n",
        "      cpu_limit=N_THREADS,\n",
        "      reader_params={'n_jobs': N_THREADS, 'cv': N_FOLDS, 'random_state': RANDOM_STATE},\n",
        "  )\n",
        "\n",
        "  # Обучаем модель и получаем out-of-fold предсказания\n",
        "  out_of_fold_predictions = automl.fit_predict(final_embeds_train, roles=roles, verbose=0).data\n",
        "\n",
        "  # Предсказания на тесте\n",
        "  y_proba = automl.predict(final_embeds_test).data\n",
        "  y_pred = y_proba.argmax(axis=1)  # Выбираем класс с максимальной вероятностью\n",
        "\n",
        "\n",
        "\n",
        "  # Метрики для многоклассовой классификации\n",
        "  metrics = {\n",
        "      \"Accuracy\": accuracy_score,\n",
        "      \"F1 Score\": lambda y_true, y_pred: f1_score(y_true, y_pred, average='weighted'),\n",
        "      \"ROC-AUC\": lambda y_true, y_proba: roc_auc_score(y_true, y_proba, multi_class='ovr', average='weighted')\n",
        "  }\n",
        "\n",
        "  y_true = final_embeds_test[TARGET_NAME].values\n",
        "\n",
        "  all_metrics = {\n",
        "      metric_name: metric_func(y_true, y_pred if metric_name != \"ROC-AUC\" else y_proba)\n",
        "      for metric_name, metric_func in metrics.items()\n",
        "  }\n",
        "\n",
        "  return all_metrics"
      ],
      "metadata": {
        "colab": {
          "base_uri": "https://localhost:8080/"
        },
        "id": "RiIgV6uc9OF4",
        "outputId": "faa8dda6-e38b-4ac0-f348-a0bb5a5c3ecf"
      },
      "execution_count": null,
      "outputs": [
        {
          "output_type": "execute_result",
          "data": {
            "text/plain": [
              "1"
            ]
          },
          "metadata": {},
          "execution_count": 70
        }
      ]
    },
    {
      "cell_type": "code",
      "source": [
        "PATH = '/gdrive/MyDrive/PTLS/PTLS/data_ensemble_age_group/mean_perfomance.pickle'\n",
        "results = load_res(PATH)\n",
        "n = 6"
      ],
      "metadata": {
        "id": "BKpuwqgJ9OJD"
      },
      "execution_count": null,
      "outputs": []
    },
    {
      "cell_type": "code",
      "source": [
        "%%time\n",
        "for i in range(0, len(embeds), n):\n",
        "\n",
        "  results[i] = {}\n",
        "\n",
        "  tmp_emb = embeds[i:i+n].copy()\n",
        "\n",
        "  unif_weights = np.ones(len(tmp_emb))/len(tmp_emb)\n",
        "  mean_train, mean_test = weight_embeds(tmp_emb, unif_weights)\n",
        "\n",
        "  metrs = calc_accuracy_of_combination(mean_train, mean_test)\n",
        "  results[i] = metrs\n",
        "  save_res(results, PATH)\n",
        "\n",
        "  clear_output()\n",
        "  print(f'Эксперимент {i}')\n",
        "  print(results[i])\n",
        "\n",
        "  save_res(results, PATH)"
      ],
      "metadata": {
        "id": "GRKe05r_9OMl"
      },
      "execution_count": null,
      "outputs": []
    },
    {
      "cell_type": "markdown",
      "source": [
        "# Сравнение суммы, конкатениции и максимума"
      ],
      "metadata": {
        "id": "jHca3tkxGDBs"
      }
    },
    {
      "cell_type": "code",
      "source": [
        "# # старое среднее, косячное\n",
        "# metr = 'Accuracy'\n",
        "\n",
        "# PATH = '/content/drive/MyDrive/PTLS/data_ensemble_age_group/individual_accuracy.pkl'\n",
        "# individual_accuracy = load_res(PATH)\n",
        "\n",
        "# PATH = '/content/drive/MyDrive/PTLS/data_ensemble_age_group/my_metrics_weights.pickle'\n",
        "# metrics = load_res(PATH)\n",
        "# uniform = np.array([i['uniform_emb_metrs'][metr] for i in metrics.values()])\n",
        "\n",
        "# ind_acc = np.array([i[metr] for i in individual_accuracy.values()])\n",
        "# maximum_accuracy = []\n",
        "# for i in range(0, 102, 6):\n",
        "#   maximum_accuracy.append(max(ind_acc[i:i+6]))\n",
        "\n",
        "\n",
        "# experiments = np.arange(1, len(maximum_accuracy) + 1)\n",
        "\n",
        "# plt.figure(figsize=(10, 6))\n",
        "\n",
        "\n",
        "# plt.plot(experiments, uniform, marker='o', label='uniform')\n",
        "# plt.plot(experiments, maximum_accuracy, marker='^', label='ind_max')\n",
        "\n",
        "# plt.title(f'Сравнение {metr} моделей', fontsize=16)\n",
        "# plt.xlabel('Номер эксперимента', fontsize=14)\n",
        "# plt.ylabel('Качество модели', fontsize=14)\n",
        "\n",
        "# plt.legend(fontsize=12)\n",
        "\n",
        "# plt.grid(True)\n",
        "\n",
        "# # Показать график\n",
        "# plt.show()"
      ],
      "metadata": {
        "id": "RmDeetZIGHB9"
      },
      "execution_count": null,
      "outputs": []
    },
    {
      "cell_type": "code",
      "source": [
        "metr = 'Accuracy'\n",
        "\n",
        "PATH = '/content/drive/MyDrive/PTLS/data_ensemble_age_group/individual_accuracy.pkl'\n",
        "individual_accuracy = load_res(PATH)\n",
        "\n",
        "PATH = '/content/drive/MyDrive/PTLS/data_ensemble_age_group/mean_perfomance.pickle'\n",
        "mean = load_res(PATH)\n",
        "\n",
        "PATH = '/content/drive/MyDrive/PTLS/data_ensemble_age_group/concat_perfomance.pickle'\n",
        "concat = load_res(PATH)\n",
        "\n",
        "\n",
        "mean_metrs = np.array([i[metr] for i in mean.values()])\n",
        "concat_metrs = np.array([i['uniform_emb_metrs'][metr] for i in concat.values()])\n",
        "\n",
        "\n",
        "\n",
        "ind_acc = np.array([i[metr] for i in individual_accuracy.values()])\n",
        "maximum_metrs = []\n",
        "for i in range(0, 102, 6):\n",
        "  maximum_metrs.append(max(ind_acc[i:i+6]))\n",
        "\n",
        "\n",
        "experiments = np.arange(1, len(maximum_metrs) + 1)\n",
        "\n",
        "plt.figure(figsize=(10, 6))\n",
        "\n",
        "\n",
        "plt.plot(experiments, mean_metrs, marker='o', label='mean')\n",
        "plt.plot(experiments, maximum_metrs, marker='^', label='max')\n",
        "plt.plot(experiments, concat_metrs, marker='^', label='concat')\n",
        "\n",
        "plt.title(f'Сравнение {metr} моделей', fontsize=16)\n",
        "plt.xlabel('Номер эксперимента', fontsize=14)\n",
        "plt.ylabel('Качество модели', fontsize=14)\n",
        "\n",
        "plt.legend(fontsize=12)\n",
        "\n",
        "plt.grid(True)\n",
        "\n",
        "# Показать график\n",
        "plt.show()"
      ],
      "metadata": {
        "colab": {
          "base_uri": "https://localhost:8080/",
          "height": 572
        },
        "id": "2EjrlF1zG4Kv",
        "outputId": "5129ea23-3276-4b7b-ba9f-ee64b7926e58"
      },
      "execution_count": null,
      "outputs": [
        {
          "output_type": "display_data",
          "data": {
            "text/plain": [
              "<Figure size 1000x600 with 1 Axes>"
            ],
            "image/png": "[encoded data removed]"
          },
          "metadata": {}
        }
      ]
    },
    {
      "cell_type": "markdown",
      "source": [
        "Сравнение максимума и конката со средним"
      ],
      "metadata": {
        "id": "q3YYy43VIlvl"
      }
    },
    {
      "cell_type": "code",
      "source": [
        "\n",
        "metrics = [\n",
        "    ('Max', maximum_metrs),\n",
        "    ('Concat', concat_metrs)\n",
        "]\n",
        "\n",
        "results = []\n",
        "for name, metric in metrics:\n",
        "    diff = (metric - mean_metrs) / mean_metrs\n",
        "    row = {\n",
        "        'Metric': name,\n",
        "        'Mean (%)': diff.mean() * 100,      # Относительное изменение в %\n",
        "        'Std (%)': diff.std() * 100,         # Стандартное отклонение в %\n",
        "        'Better (%)': (metric > mean_metrs).mean() * 100  # Процент случаев\n",
        "    }\n",
        "    results.append(row)\n",
        "\n",
        "# Создание и вывод таблицы\n",
        "df = pd.DataFrame(results)\n",
        "df"
      ],
      "metadata": {
        "colab": {
          "base_uri": "https://localhost:8080/",
          "height": 112
        },
        "id": "cR5przKuGHFK",
        "outputId": "afaca401-ebf8-4575-f7e1-9465cc438e2a"
      },
      "execution_count": null,
      "outputs": [
        {
          "output_type": "execute_result",
          "data": {
            "text/plain": [
              "   Metric  Mean (%)   Std (%)  Better (%)\n",
              "0     Max  2.517965  2.961116   94.117647\n",
              "1  Concat  3.679347  1.486141  100.000000"
            ],
            "text/html": [
              "\n",
              "  <div id=\"df-3bd4ea8e-3cc8-40ff-83e2-8fa9dd4d643b\" class=\"colab-df-container\">\n",
              "    <div>\n",
              "<style scoped>\n",
              "    .dataframe tbody tr th:only-of-type {\n",
              "        vertical-align: middle;\n",
              "    }\n",
              "\n",
              "    .dataframe tbody tr th {\n",
              "        vertical-align: top;\n",
              "    }\n",
              "\n",
              "    .dataframe thead th {\n",
              "        text-align: right;\n",
              "    }\n",
              "</style>\n",
              "<table border=\"1\" class=\"dataframe\">\n",
              "  <thead>\n",
              "    <tr style=\"text-align: right;\">\n",
              "      <th></th>\n",
              "      <th>Metric</th>\n",
              "      <th>Mean (%)</th>\n",
              "      <th>Std (%)</th>\n",
              "      <th>Better (%)</th>\n",
              "    </tr>\n",
              "  </thead>\n",
              "  <tbody>\n",
              "    <tr>\n",
              "      <th>0</th>\n",
              "      <td>Max</td>\n",
              "      <td>2.517965</td>\n",
              "      <td>2.961116</td>\n",
              "      <td>94.117647</td>\n",
              "    </tr>\n",
              "    <tr>\n",
              "      <th>1</th>\n",
              "      <td>Concat</td>\n",
              "      <td>3.679347</td>\n",
              "      <td>1.486141</td>\n",
              "      <td>100.000000</td>\n",
              "    </tr>\n",
              "  </tbody>\n",
              "</table>\n",
              "</div>\n",
              "    <div class=\"colab-df-buttons\">\n",
              "\n",
              "  <div class=\"colab-df-container\">\n",
              "    <button class=\"colab-df-convert\" onclick=\"convertToInteractive('df-3bd4ea8e-3cc8-40ff-83e2-8fa9dd4d643b')\"\n",
              "            title=\"Convert this dataframe to an interactive table.\"\n",
              "            style=\"display:none;\">\n",
              "\n",
              "  <svg xmlns=\"http://www.w3.org/2000/svg\" height=\"24px\" viewBox=\"0 -960 960 960\">\n",
              "    <path d=\"M120-120v-720h720v720H120Zm60-500h600v-160H180v160Zm220 220h160v-160H400v160Zm0 220h160v-160H400v160ZM180-400h160v-160H180v160Zm440 0h160v-160H620v160ZM180-180h160v-160H180v160Zm440 0h160v-160H620v160Z\"/>\n",
              "  </svg>\n",
              "    </button>\n",
              "\n",
              "  <style>\n",
              "    .colab-df-container {\n",
              "      display:flex;\n",
              "      gap: 12px;\n",
              "    }\n",
              "\n",
              "    .colab-df-convert {\n",
              "      background-color: #E8F0FE;\n",
              "      border: none;\n",
              "      border-radius: 50%;\n",
              "      cursor: pointer;\n",
              "      display: none;\n",
              "      fill: #1967D2;\n",
              "      height: 32px;\n",
              "      padding: 0 0 0 0;\n",
              "      width: 32px;\n",
              "    }\n",
              "\n",
              "    .colab-df-convert:hover {\n",
              "      background-color: #E2EBFA;\n",
              "      box-shadow: 0px 1px 2px rgba(60, 64, 67, 0.3), 0px 1px 3px 1px rgba(60, 64, 67, 0.15);\n",
              "      fill: #174EA6;\n",
              "    }\n",
              "\n",
              "    .colab-df-buttons div {\n",
              "      margin-bottom: 4px;\n",
              "    }\n",
              "\n",
              "    [theme=dark] .colab-df-convert {\n",
              "      background-color: #3B4455;\n",
              "      fill: #D2E3FC;\n",
              "    }\n",
              "\n",
              "    [theme=dark] .colab-df-convert:hover {\n",
              "      background-color: #434B5C;\n",
              "      box-shadow: 0px 1px 3px 1px rgba(0, 0, 0, 0.15);\n",
              "      filter: drop-shadow(0px 1px 2px rgba(0, 0, 0, 0.3));\n",
              "      fill: #FFFFFF;\n",
              "    }\n",
              "  </style>\n",
              "\n",
              "    <script>\n",
              "      const buttonEl =\n",
              "        document.querySelector('#df-3bd4ea8e-3cc8-40ff-83e2-8fa9dd4d643b button.colab-df-convert');\n",
              "      buttonEl.style.display =\n",
              "        google.colab.kernel.accessAllowed ? 'block' : 'none';\n",
              "\n",
              "      async function convertToInteractive(key) {\n",
              "        const element = document.querySelector('#df-3bd4ea8e-3cc8-40ff-83e2-8fa9dd4d643b');\n",
              "        const dataTable =\n",
              "          await google.colab.kernel.invokeFunction('convertToInteractive',\n",
              "                                                    [key], {});\n",
              "        if (!dataTable) return;\n",
              "\n",
              "        const docLinkHtml = 'Like what you see? Visit the ' +\n",
              "          '<a target=\"_blank\" href=https://colab.research.google.com/notebooks/data_table.ipynb>data table notebook</a>'\n",
              "          + ' to learn more about interactive tables.';\n",
              "        element.innerHTML = '';\n",
              "        dataTable['output_type'] = 'display_data';\n",
              "        await google.colab.output.renderOutput(dataTable, element);\n",
              "        const docLink = document.createElement('div');\n",
              "        docLink.innerHTML = docLinkHtml;\n",
              "        element.appendChild(docLink);\n",
              "      }\n",
              "    </script>\n",
              "  </div>\n",
              "\n",
              "\n",
              "<div id=\"df-471532ed-d5b8-4a8d-b718-848dfbf36e1c\">\n",
              "  <button class=\"colab-df-quickchart\" onclick=\"quickchart('df-471532ed-d5b8-4a8d-b718-848dfbf36e1c')\"\n",
              "            title=\"Suggest charts\"\n",
              "            style=\"display:none;\">\n",
              "\n",
              "<svg xmlns=\"http://www.w3.org/2000/svg\" height=\"24px\"viewBox=\"0 0 24 24\"\n",
              "     width=\"24px\">\n",
              "    <g>\n",
              "        <path d=\"M19 3H5c-1.1 0-2 .9-2 2v14c0 1.1.9 2 2 2h14c1.1 0 2-.9 2-2V5c0-1.1-.9-2-2-2zM9 17H7v-7h2v7zm4 0h-2V7h2v10zm4 0h-2v-4h2v4z\"/>\n",
              "    </g>\n",
              "</svg>\n",
              "  </button>\n",
              "\n",
              "<style>\n",
              "  .colab-df-quickchart {\n",
              "      --bg-color: #E8F0FE;\n",
              "      --fill-color: #1967D2;\n",
              "      --hover-bg-color: #E2EBFA;\n",
              "      --hover-fill-color: #174EA6;\n",
              "      --disabled-fill-color: #AAA;\n",
              "      --disabled-bg-color: #DDD;\n",
              "  }\n",
              "\n",
              "  [theme=dark] .colab-df-quickchart {\n",
              "      --bg-color: #3B4455;\n",
              "      --fill-color: #D2E3FC;\n",
              "      --hover-bg-color: #434B5C;\n",
              "      --hover-fill-color: #FFFFFF;\n",
              "      --disabled-bg-color: #3B4455;\n",
              "      --disabled-fill-color: #666;\n",
              "  }\n",
              "\n",
              "  .colab-df-quickchart {\n",
              "    background-color: var(--bg-color);\n",
              "    border: none;\n",
              "    border-radius: 50%;\n",
              "    cursor: pointer;\n",
              "    display: none;\n",
              "    fill: var(--fill-color);\n",
              "    height: 32px;\n",
              "    padding: 0;\n",
              "    width: 32px;\n",
              "  }\n",
              "\n",
              "  .colab-df-quickchart:hover {\n",
              "    background-color: var(--hover-bg-color);\n",
              "    box-shadow: 0 1px 2px rgba(60, 64, 67, 0.3), 0 1px 3px 1px rgba(60, 64, 67, 0.15);\n",
              "    fill: var(--button-hover-fill-color);\n",
              "  }\n",
              "\n",
              "  .colab-df-quickchart-complete:disabled,\n",
              "  .colab-df-quickchart-complete:disabled:hover {\n",
              "    background-color: var(--disabled-bg-color);\n",
              "    fill: var(--disabled-fill-color);\n",
              "    box-shadow: none;\n",
              "  }\n",
              "\n",
              "  .colab-df-spinner {\n",
              "    border: 2px solid var(--fill-color);\n",
              "    border-color: transparent;\n",
              "    border-bottom-color: var(--fill-color);\n",
              "    animation:\n",
              "      spin 1s steps(1) infinite;\n",
              "  }\n",
              "\n",
              "  @keyframes spin {\n",
              "    0% {\n",
              "      border-color: transparent;\n",
              "      border-bottom-color: var(--fill-color);\n",
              "      border-left-color: var(--fill-color);\n",
              "    }\n",
              "    20% {\n",
              "      border-color: transparent;\n",
              "      border-left-color: var(--fill-color);\n",
              "      border-top-color: var(--fill-color);\n",
              "    }\n",
              "    30% {\n",
              "      border-color: transparent;\n",
              "      border-left-color: var(--fill-color);\n",
              "      border-top-color: var(--fill-color);\n",
              "      border-right-color: var(--fill-color);\n",
              "    }\n",
              "    40% {\n",
              "      border-color: transparent;\n",
              "      border-right-color: var(--fill-color);\n",
              "      border-top-color: var(--fill-color);\n",
              "    }\n",
              "    60% {\n",
              "      border-color: transparent;\n",
              "      border-right-color: var(--fill-color);\n",
              "    }\n",
              "    80% {\n",
              "      border-color: transparent;\n",
              "      border-right-color: var(--fill-color);\n",
              "      border-bottom-color: var(--fill-color);\n",
              "    }\n",
              "    90% {\n",
              "      border-color: transparent;\n",
              "      border-bottom-color: var(--fill-color);\n",
              "    }\n",
              "  }\n",
              "</style>\n",
              "\n",
              "  <script>\n",
              "    async function quickchart(key) {\n",
              "      const quickchartButtonEl =\n",
              "        document.querySelector('#' + key + ' button');\n",
              "      quickchartButtonEl.disabled = true;  // To prevent multiple clicks.\n",
              "      quickchartButtonEl.classList.add('colab-df-spinner');\n",
              "      try {\n",
              "        const charts = await google.colab.kernel.invokeFunction(\n",
              "            'suggestCharts', [key], {});\n",
              "      } catch (error) {\n",
              "        console.error('Error during call to suggestCharts:', error);\n",
              "      }\n",
              "      quickchartButtonEl.classList.remove('colab-df-spinner');\n",
              "      quickchartButtonEl.classList.add('colab-df-quickchart-complete');\n",
              "    }\n",
              "    (() => {\n",
              "      let quickchartButtonEl =\n",
              "        document.querySelector('#df-471532ed-d5b8-4a8d-b718-848dfbf36e1c button');\n",
              "      quickchartButtonEl.style.display =\n",
              "        google.colab.kernel.accessAllowed ? 'block' : 'none';\n",
              "    })();\n",
              "  </script>\n",
              "</div>\n",
              "    </div>\n",
              "  </div>\n"
            ],
            "application/vnd.google.colaboratory.intrinsic+json": {
              "type": "dataframe",
              "variable_name": "df",
              "summary": "{\n  \"name\": \"df\",\n  \"rows\": 2,\n  \"fields\": [\n    {\n      \"column\": \"Metric\",\n      \"properties\": {\n        \"dtype\": \"string\",\n        \"num_unique_values\": 2,\n        \"samples\": [\n          \"Concat\",\n          \"Max\"\n        ],\n        \"semantic_type\": \"\",\n        \"description\": \"\"\n      }\n    },\n    {\n      \"column\": \"Mean (%)\",\n      \"properties\": {\n        \"dtype\": \"number\",\n        \"std\": 0.8212208938393152,\n        \"min\": 2.517965031027478,\n        \"max\": 3.6793467567991933,\n        \"num_unique_values\": 2,\n        \"samples\": [\n          3.6793467567991933,\n          2.517965031027478\n        ],\n        \"semantic_type\": \"\",\n        \"description\": \"\"\n      }\n    },\n    {\n      \"column\": \"Std (%)\",\n      \"properties\": {\n        \"dtype\": \"number\",\n        \"std\": 1.042965371062317,\n        \"min\": 1.4861405585869958,\n        \"max\": 2.961116331428812,\n        \"num_unique_values\": 2,\n        \"samples\": [\n          1.4861405585869958,\n          2.961116331428812\n        ],\n        \"semantic_type\": \"\",\n        \"description\": \"\"\n      }\n    },\n    {\n      \"column\": \"Better (%)\",\n      \"properties\": {\n        \"dtype\": \"number\",\n        \"std\": 4.15945165403852,\n        \"min\": 94.11764705882352,\n        \"max\": 100.0,\n        \"num_unique_values\": 2,\n        \"samples\": [\n          100.0,\n          94.11764705882352\n        ],\n        \"semantic_type\": \"\",\n        \"description\": \"\"\n      }\n    }\n  ]\n}"
            }
          },
          "metadata": {},
          "execution_count": 17
        }
      ]
    },
    {
      "cell_type": "markdown",
      "source": [
        "Сравнение конката с максимумом"
      ],
      "metadata": {
        "id": "zxDJpygnJRbY"
      }
    },
    {
      "cell_type": "code",
      "source": [
        "diff = (concat_metrs - maximum_metrs) / maximum_metrs\n",
        "row = {\n",
        "    'Mean (%)': diff.mean() * 100,      # Относительное изменение в %\n",
        "    'Std (%)': diff.std() * 100,         # Стандартное отклонение в %\n",
        "    'Better (%)': (metric > maximum_metrs).mean() * 100  # Процент случаев\n",
        "}\n",
        "\n",
        "# Создание и вывод таблицы\n",
        "df = pd.DataFrame(row, index = [0])\n",
        "df"
      ],
      "metadata": {
        "colab": {
          "base_uri": "https://localhost:8080/",
          "height": 81
        },
        "id": "Hkn21vmdIprl",
        "outputId": "5f66b8bd-e05c-4b5d-a147-a1fa41955f2b"
      },
      "execution_count": null,
      "outputs": [
        {
          "output_type": "execute_result",
          "data": {
            "text/plain": [
              "   Mean (%)   Std (%)  Better (%)\n",
              "0  1.207417  2.952977   58.823529"
            ],
            "text/html": [
              "\n",
              "  <div id=\"df-260ad7bf-061d-4215-8883-3d026169878b\" class=\"colab-df-container\">\n",
              "    <div>\n",
              "<style scoped>\n",
              "    .dataframe tbody tr th:only-of-type {\n",
              "        vertical-align: middle;\n",
              "    }\n",
              "\n",
              "    .dataframe tbody tr th {\n",
              "        vertical-align: top;\n",
              "    }\n",
              "\n",
              "    .dataframe thead th {\n",
              "        text-align: right;\n",
              "    }\n",
              "</style>\n",
              "<table border=\"1\" class=\"dataframe\">\n",
              "  <thead>\n",
              "    <tr style=\"text-align: right;\">\n",
              "      <th></th>\n",
              "      <th>Mean (%)</th>\n",
              "      <th>Std (%)</th>\n",
              "      <th>Better (%)</th>\n",
              "    </tr>\n",
              "  </thead>\n",
              "  <tbody>\n",
              "    <tr>\n",
              "      <th>0</th>\n",
              "      <td>1.207417</td>\n",
              "      <td>2.952977</td>\n",
              "      <td>58.823529</td>\n",
              "    </tr>\n",
              "  </tbody>\n",
              "</table>\n",
              "</div>\n",
              "    <div class=\"colab-df-buttons\">\n",
              "\n",
              "  <div class=\"colab-df-container\">\n",
              "    <button class=\"colab-df-convert\" onclick=\"convertToInteractive('df-260ad7bf-061d-4215-8883-3d026169878b')\"\n",
              "            title=\"Convert this dataframe to an interactive table.\"\n",
              "            style=\"display:none;\">\n",
              "\n",
              "  <svg xmlns=\"http://www.w3.org/2000/svg\" height=\"24px\" viewBox=\"0 -960 960 960\">\n",
              "    <path d=\"M120-120v-720h720v720H120Zm60-500h600v-160H180v160Zm220 220h160v-160H400v160Zm0 220h160v-160H400v160ZM180-400h160v-160H180v160Zm440 0h160v-160H620v160ZM180-180h160v-160H180v160Zm440 0h160v-160H620v160Z\"/>\n",
              "  </svg>\n",
              "    </button>\n",
              "\n",
              "  <style>\n",
              "    .colab-df-container {\n",
              "      display:flex;\n",
              "      gap: 12px;\n",
              "    }\n",
              "\n",
              "    .colab-df-convert {\n",
              "      background-color: #E8F0FE;\n",
              "      border: none;\n",
              "      border-radius: 50%;\n",
              "      cursor: pointer;\n",
              "      display: none;\n",
              "      fill: #1967D2;\n",
              "      height: 32px;\n",
              "      padding: 0 0 0 0;\n",
              "      width: 32px;\n",
              "    }\n",
              "\n",
              "    .colab-df-convert:hover {\n",
              "      background-color: #E2EBFA;\n",
              "      box-shadow: 0px 1px 2px rgba(60, 64, 67, 0.3), 0px 1px 3px 1px rgba(60, 64, 67, 0.15);\n",
              "      fill: #174EA6;\n",
              "    }\n",
              "\n",
              "    .colab-df-buttons div {\n",
              "      margin-bottom: 4px;\n",
              "    }\n",
              "\n",
              "    [theme=dark] .colab-df-convert {\n",
              "      background-color: #3B4455;\n",
              "      fill: #D2E3FC;\n",
              "    }\n",
              "\n",
              "    [theme=dark] .colab-df-convert:hover {\n",
              "      background-color: #434B5C;\n",
              "      box-shadow: 0px 1px 3px 1px rgba(0, 0, 0, 0.15);\n",
              "      filter: drop-shadow(0px 1px 2px rgba(0, 0, 0, 0.3));\n",
              "      fill: #FFFFFF;\n",
              "    }\n",
              "  </style>\n",
              "\n",
              "    <script>\n",
              "      const buttonEl =\n",
              "        document.querySelector('#df-260ad7bf-061d-4215-8883-3d026169878b button.colab-df-convert');\n",
              "      buttonEl.style.display =\n",
              "        google.colab.kernel.accessAllowed ? 'block' : 'none';\n",
              "\n",
              "      async function convertToInteractive(key) {\n",
              "        const element = document.querySelector('#df-260ad7bf-061d-4215-8883-3d026169878b');\n",
              "        const dataTable =\n",
              "          await google.colab.kernel.invokeFunction('convertToInteractive',\n",
              "                                                    [key], {});\n",
              "        if (!dataTable) return;\n",
              "\n",
              "        const docLinkHtml = 'Like what you see? Visit the ' +\n",
              "          '<a target=\"_blank\" href=https://colab.research.google.com/notebooks/data_table.ipynb>data table notebook</a>'\n",
              "          + ' to learn more about interactive tables.';\n",
              "        element.innerHTML = '';\n",
              "        dataTable['output_type'] = 'display_data';\n",
              "        await google.colab.output.renderOutput(dataTable, element);\n",
              "        const docLink = document.createElement('div');\n",
              "        docLink.innerHTML = docLinkHtml;\n",
              "        element.appendChild(docLink);\n",
              "      }\n",
              "    </script>\n",
              "  </div>\n",
              "\n",
              "    </div>\n",
              "  </div>\n"
            ],
            "application/vnd.google.colaboratory.intrinsic+json": {
              "type": "dataframe",
              "variable_name": "df",
              "summary": "{\n  \"name\": \"df\",\n  \"rows\": 1,\n  \"fields\": [\n    {\n      \"column\": \"Mean (%)\",\n      \"properties\": {\n        \"dtype\": \"number\",\n        \"std\": null,\n        \"min\": 1.207416519320925,\n        \"max\": 1.207416519320925,\n        \"num_unique_values\": 1,\n        \"samples\": [\n          1.207416519320925\n        ],\n        \"semantic_type\": \"\",\n        \"description\": \"\"\n      }\n    },\n    {\n      \"column\": \"Std (%)\",\n      \"properties\": {\n        \"dtype\": \"number\",\n        \"std\": null,\n        \"min\": 2.9529773244098876,\n        \"max\": 2.9529773244098876,\n        \"num_unique_values\": 1,\n        \"samples\": [\n          2.9529773244098876\n        ],\n        \"semantic_type\": \"\",\n        \"description\": \"\"\n      }\n    },\n    {\n      \"column\": \"Better (%)\",\n      \"properties\": {\n        \"dtype\": \"number\",\n        \"std\": null,\n        \"min\": 58.82352941176471,\n        \"max\": 58.82352941176471,\n        \"num_unique_values\": 1,\n        \"samples\": [\n          58.82352941176471\n        ],\n        \"semantic_type\": \"\",\n        \"description\": \"\"\n      }\n    }\n  ]\n}"
            }
          },
          "metadata": {},
          "execution_count": 16
        }
      ]
    },
    {
      "cell_type": "markdown",
      "source": [
        "# Основные наблюдения"
      ],
      "metadata": {
        "id": "G5hijwlT8AFo"
      }
    },
    {
      "cell_type": "markdown",
      "source": [
        "1. простое усреднение эмбеддингов не дает прирост к качеству относительно максимума в наборе.\n",
        "2. Конкатенация дает прирост, но совсем небольшой"
      ],
      "metadata": {
        "id": "vxKKCMwf7_Fw"
      }
    },
    {
      "cell_type": "markdown",
      "source": [
        "#Методы взвешивания из статьи(с валидационной выборкой)"
      ],
      "metadata": {
        "id": "NrHUctBjMBK1"
      }
    },
    {
      "cell_type": "markdown",
      "metadata": {
        "id": "N47gBC4AL-Rg"
      },
      "source": [
        "# Считаем a и попарные метрики"
      ]
    },
    {
      "cell_type": "code",
      "source": [
        "# берем для примера 6 наборов эмбедов\n",
        "from tqdm import tqdm\n",
        "\n",
        "embeds = []\n",
        "\n",
        "for i in tqdm(range(102)):\n",
        "\n",
        "    train = pd.read_csv(f'/content/drive/MyDrive/PTLS/data_ensemble_age_group/train_df{i}.csv').iloc[:,1:]\n",
        "    test = pd.read_csv(f'/content/drive/MyDrive/PTLS/data_ensemble_age_group/test_df{i}.csv').iloc[:,1:]\n",
        "\n",
        "    val, test = train_test_split(test, test_size = 0.5, random_state=20)\n",
        "    embeds.append((train, val, test))"
      ],
      "metadata": {
        "id": "p7OU3SwqL-Rh"
      },
      "execution_count": null,
      "outputs": []
    },
    {
      "cell_type": "code",
      "execution_count": null,
      "metadata": {
        "id": "F5BN0o2OL-Ri"
      },
      "outputs": [],
      "source": [
        "N_THREADS = 4\n",
        "N_FOLDS = 5\n",
        "RANDOM_STATE = 42\n",
        "TIMEOUT = 200\n",
        "TARGET_NAME = 'target'\n",
        "roles = {\n",
        "    'target': TARGET_NAME,\n",
        "    'drop': ['client_id']\n",
        "}\n",
        "\n",
        "def calc_a(embeds_train, embeds_val, target_column, n_classes):\n",
        "    # Определяем задачу как многоклассовую классификацию\n",
        "    task = Task('multiclass', metric='crossentropy')\n",
        "\n",
        "    automl = TabularAutoML(\n",
        "        task=task,\n",
        "        timeout=TIMEOUT,\n",
        "        cpu_limit=N_THREADS,\n",
        "        reader_params={'n_jobs': N_THREADS, 'cv': N_FOLDS, 'random_state': RANDOM_STATE},\n",
        "    )\n",
        "\n",
        "    # Обучаем модель и получаем out-of-fold предсказания\n",
        "    out_of_fold_predictions = automl.fit_predict(embeds_train, roles=roles, verbose=0).data\n",
        "\n",
        "    # Предсказания на валидационной выборке\n",
        "    y_proba = automl.predict(embeds_val).data\n",
        "    y_pred = y_proba.argmax(axis=1)  # Выбираем класс с максимальной вероятностью\n",
        "\n",
        "    # Метрики для многоклассовой классификации\n",
        "    metrics = {\n",
        "        \"Accuracy\": accuracy_score,\n",
        "        \"F1 Score\": lambda y_true, y_pred: f1_score(y_true, y_pred, average='weighted'),\n",
        "        \"ROC-AUC\": lambda y_true, y_proba: roc_auc_score(y_true, y_proba, multi_class='ovr', average='weighted')\n",
        "    }\n",
        "\n",
        "    y_true = embeds_val[target_column].values\n",
        "\n",
        "    all_metrics = {\n",
        "        metric_name: metric_func(y_true, y_pred if metric_name != \"ROC-AUC\" else y_proba)\n",
        "        for metric_name, metric_func in metrics.items()\n",
        "    }\n",
        "\n",
        "    return all_metrics"
      ]
    },
    {
      "cell_type": "code",
      "execution_count": null,
      "metadata": {
        "id": "DYfdRxDIL-Ri"
      },
      "outputs": [],
      "source": [
        "def find_nearest_neighbors(embeddings, k):\n",
        "    \"\"\"\n",
        "    Находит k ближайших соседей для каждого объекта в наборе эмбеддингов.\n",
        "\n",
        "    Args:\n",
        "        embeddings (torch.Tensor): Матрица эмбеддингов (n_objects, embedding_dim).\n",
        "        k (int): Количество ближайших соседей.\n",
        "\n",
        "    Returns:\n",
        "        torch.Tensor: Матрица размеров (n_objects, k), где указаны индексы ближайших соседей.\n",
        "    \"\"\"\n",
        "    distances = torch.cdist(embeddings, embeddings)  # Вычисляем матрицу расстояний\n",
        "    indices = torch.argsort(distances, dim=1)  # Сортируем по возрастанию расстояний\n",
        "    return indices[:, 1:k+1]  # Пропускаем сам объект (индекс 0) и берем k соседей\n",
        "\n",
        "def my_neighbour_metric_1(X, Y, k= 5):\n",
        "    n_objects = X.shape[0]\n",
        "    nbh_1 = find_nearest_neighbors(X, k)\n",
        "    nbh_2 = find_nearest_neighbors(Y, k)\n",
        "\n",
        "    matches = 0\n",
        "    for obj in range(n_objects):\n",
        "            # Сравниваем списки ближайших соседей\n",
        "            neighbors_1 = set(nbh_1[obj].tolist())\n",
        "            neighbors_2 = set(nbh_2[obj].tolist())\n",
        "            matches += len(neighbors_1.intersection(neighbors_2))/k\n",
        "\n",
        "    return matches / n_objects\n",
        "\n",
        "def my_neighbour_metric_2(X, Y, k= 5):\n",
        "    n_objects = X.shape[0]\n",
        "    nbh_1 = find_nearest_neighbors(X, k)\n",
        "    nbh_2 = find_nearest_neighbors(Y, k)\n",
        "\n",
        "    matches = 0\n",
        "    for obj in range(n_objects):\n",
        "            # Сравниваем списки ближайших соседей\n",
        "            neighbors_1 = set(nbh_1[obj].tolist())\n",
        "            neighbors_2 = set(nbh_2[obj].tolist())\n",
        "            matches += len(neighbors_1.intersection(neighbors_2)) / len(neighbors_1.union(neighbors_2))\n",
        "\n",
        "    return matches / n_objects"
      ]
    },
    {
      "cell_type": "code",
      "execution_count": null,
      "metadata": {
        "id": "21fXAJ-SL-Rj"
      },
      "outputs": [],
      "source": [
        "def extract_upper_triangle(matrix):\n",
        "    \"\"\"\n",
        "    Извлекает верхний треугольник матрицы (без диагонали).\n",
        "    \"\"\"\n",
        "    n = matrix.shape[0]\n",
        "    indices = torch.triu_indices(n, n, offset=1)\n",
        "    return matrix[indices[0], indices[1]]\n",
        "\n",
        "def compute_correlation(distances1, distances2):\n",
        "    \"\"\"\n",
        "    Вычисляет корреляцию между двумя векторами расстояний.\n",
        "    \"\"\"\n",
        "    mean1, mean2 = distances1.mean(), distances2.mean()\n",
        "    centered1, centered2 = distances1 - mean1, distances2 - mean2\n",
        "    covariance = (centered1 * centered2).sum() / len(distances1)\n",
        "    std1, std2 = distances1.std(), distances2.std()\n",
        "    return covariance / (std1 * std2)\n",
        "\n",
        "def my_correlation_metric(X, Y):\n",
        "    distance_1 = extract_upper_triangle(torch.cdist(X, X))\n",
        "    distance_2 = extract_upper_triangle(torch.cdist(Y, Y))\n",
        "    metric = compute_correlation(distance_1, distance_2)\n",
        "    return metric.item()"
      ]
    },
    {
      "cell_type": "code",
      "execution_count": null,
      "metadata": {
        "id": "nuJ4H-OML-Rj"
      },
      "outputs": [],
      "source": [
        "def rtd1(cl1, cl2, pdist_device = 'cuda:0'):\n",
        "    return h1sum(calc_embed_dist(cl1, cl2, pdist_device = pdist_device)), h1sum(calc_embed_dist(cl2, cl1, pdist_device = pdist_device))\n",
        "\n",
        "def rtd_mine(cl1, cl2, pdist_device = 'cuda:0', trials = 10, batch = 500):\n",
        "\n",
        "    assert cl1.shape[0] == cl2.shape[0]\n",
        "    batch = min(batch, cl1.shape[0])\n",
        "\n",
        "    rtd_avg = 0\n",
        "    h1sum_1_avg = 0\n",
        "    h1sum_2_avg = 0\n",
        "\n",
        "    for i in range(trials):\n",
        "        rnd_idx = list(range(cl1.shape[0]))\n",
        "        np.random.shuffle(rnd_idx)\n",
        "        rnd_idx = rnd_idx[:batch]\n",
        "        h1sum_1, h1sum_2 = rtd1(cl1[rnd_idx], cl2[rnd_idx], pdist_device = pdist_device)\n",
        "        h1sum_1_avg += h1sum_1\n",
        "        h1sum_2_avg += h1sum_2\n",
        "        rtd_avg += (h1sum_1 + h1sum_2)/2\n",
        "\n",
        "    return rtd_avg / trials, h1sum_1_avg / trials, h1sum_2_avg / trials"
      ]
    },
    {
      "cell_type": "code",
      "execution_count": null,
      "metadata": {
        "id": "-HwiLdNyL-Rk"
      },
      "outputs": [],
      "source": [
        "def calc_corr_matrix(embeds, metric, n = 6):\n",
        "  if metric in ['RankSimilarity', 'CKA', 'RSA', 'OrthogonalAngularShapeMetricCentered', 'PermutationProcrustes']:\n",
        "    cls = ALL_MEASURES[metric]\n",
        "    corr_matrix = np.zeros((n, n))\n",
        "    for i in range(n):\n",
        "        emb_i = embeds[i][0].iloc[:, :256].values\n",
        "\n",
        "        for j in range(i, n):\n",
        "            emb_j = embeds[j][0].iloc[:, :256].values\n",
        "\n",
        "            current_corr = cls(emb_i, emb_j, shape = 'nd')\n",
        "\n",
        "            corr_matrix[i, j] = current_corr\n",
        "            corr_matrix[j, i] = current_corr\n",
        "\n",
        "    return corr_matrix\n",
        "\n",
        "  elif metric == 'rtd':\n",
        "    # тут будет несколько\n",
        "    corr_matrix_h1 = np.zeros((n, n))\n",
        "    corr_matrix_h2 = np.zeros((n, n))\n",
        "    corr_matrix_rtd = np.zeros((n, n))\n",
        "\n",
        "    for i in range(n):\n",
        "        emb_i = torch.tensor(embeds[i][0].iloc[:, :256].values, device = device)\n",
        "\n",
        "        for j in range(1, n):\n",
        "            if i == j:\n",
        "              corr_matrix_h1[i, j] = 0\n",
        "              corr_matrix_h2[i, j] = 0\n",
        "              corr_matrix_rtd[i, j] = 0\n",
        "              continue\n",
        "\n",
        "\n",
        "            emb_j = torch.tensor(embeds[j][0].iloc[:, :256].values, device = device)\n",
        "\n",
        "            rtd, h1, h2 = rtd_mine(emb_i, emb_j, pdist_device = device)\n",
        "\n",
        "            corr_matrix_h1[i, j] = h1\n",
        "            corr_matrix_h2[i, j] = h2\n",
        "            corr_matrix_rtd[i, j] = rtd\n",
        "\n",
        "    return corr_matrix_h1, corr_matrix_h2, corr_matrix_rtd\n",
        "\n",
        "  elif metric == 'my_correlation_metric':\n",
        "    corr_matrix = np.zeros((n, n))\n",
        "    for i in range(n):\n",
        "        emb_i = torch.tensor(embeds[i][0].iloc[:, :256].values, device = device)\n",
        "\n",
        "        for j in range(i, n):\n",
        "\n",
        "            emb_j = torch.tensor(embeds[j][0].iloc[:, :256].values, device = device)\n",
        "\n",
        "            current_corr = my_correlation_metric(emb_i, emb_j)\n",
        "\n",
        "            corr_matrix[i, j] = current_corr\n",
        "            corr_matrix[j, i] = current_corr\n",
        "\n",
        "    return corr_matrix"
      ]
    },
    {
      "cell_type": "markdown",
      "metadata": {
        "id": "ZXSB4nCfL-Rk"
      },
      "source": [
        "Сначала посчитаем и сохраним без весов. Просто в каждом сеттинге качество (a) на oos + все метрики. Потом уже сообразим как это использовать в весах. Для каждой метрики будет по-разному."
      ]
    },
    {
      "cell_type": "code",
      "execution_count": null,
      "metadata": {
        "id": "kX0EhmSmL-Rl"
      },
      "outputs": [],
      "source": [
        "#rtd потом отдельно можно, очень долго считать"
      ]
    },
    {
      "cell_type": "code",
      "execution_count": null,
      "metadata": {
        "id": "2qWgBFfeL-Rl"
      },
      "outputs": [],
      "source": [
        "PATH = '/content/drive/MyDrive/PTLS/data_ensemble_age_group/calc_a_and_b.pickle'\n",
        "results = load_res(PATH)\n",
        "n = 6"
      ]
    },
    {
      "cell_type": "code",
      "source": [
        "# results.keys()"
      ],
      "metadata": {
        "id": "RbuF5ZqLL-Rl"
      },
      "execution_count": null,
      "outputs": []
    },
    {
      "cell_type": "code",
      "execution_count": null,
      "metadata": {
        "colab": {
          "base_uri": "https://localhost:8080/"
        },
        "outputId": "3d51b878-9dfc-406f-a45a-95d4f3311c44",
        "id": "K3ksq36rL-Rm"
      },
      "outputs": [
        {
          "output_type": "stream",
          "name": "stdout",
          "text": [
            "CPU times: user 1d 1h 29min 7s, sys: 6h 19min 20s, total: 1d 7h 48min 27s\n",
            "Wall time: 18h 21min 20s\n"
          ]
        }
      ],
      "source": [
        "%%time\n",
        "all_metrs = ['RankSimilarity', 'CKA', 'RSA', 'OrthogonalAngularShapeMetricCentered', 'PermutationProcrustes', 'my_correlation_metric']#, 'rtd']\n",
        "\n",
        "for i in range(0, len(embeds), n):\n",
        "\n",
        "  if i in results.keys():\n",
        "    continue\n",
        "\n",
        "  print(f'Эксперимент {i}')\n",
        "  results[i] = {}\n",
        "\n",
        "  tmp_emb = embeds[i:i+n].copy()\n",
        "\n",
        "  #a\n",
        "  a = []\n",
        "  for j in range(n):\n",
        "    embeds_train = tmp_emb[j][0]\n",
        "    embeds_val = tmp_emb[j][1]\n",
        "    cur_a = calc_a(embeds_train, embeds_val, TARGET_NAME, 4)\n",
        "    a.append(cur_a)\n",
        "  results[i]['a'] = a\n",
        "\n",
        "\n",
        "  # b\n",
        "  for metr in all_metrs:\n",
        "    if metr != 'rtd':\n",
        "      corr_matrix = calc_corr_matrix(tmp_emb, metr)\n",
        "      results[i][f'corr_matrix_{metr}'] = corr_matrix\n",
        "      save_res(results, PATH)\n",
        "    else:\n",
        "      corr_matrix_h1, corr_matrix_h2, corr_matrix_rtd = calc_corr_matrix(tmp_emb, metr)\n",
        "      results[i]['corr_matrix_h1'] = corr_matrix_h1\n",
        "      results[i]['corr_matrix_h2'] = corr_matrix_h2\n",
        "      results[i]['corr_matrix_rtd'] = corr_matrix_rtd\n",
        "      save_res(results, PATH)\n",
        "\n",
        "  clear_output()"
      ]
    },
    {
      "cell_type": "code",
      "execution_count": null,
      "metadata": {
        "id": "spv72ABbL-Rm"
      },
      "outputs": [],
      "source": [
        "from google.colab import runtime\n",
        "runtime.unassign()"
      ]
    },
    {
      "cell_type": "markdown",
      "source": [
        "# Метод взвешивания из статьи с разными метриками вместо B"
      ],
      "metadata": {
        "id": "Phai3jIIKEbj"
      }
    },
    {
      "cell_type": "markdown",
      "source": [
        "## считаем метрики"
      ],
      "metadata": {
        "id": "-xZlzZdAGU79"
      }
    },
    {
      "cell_type": "code",
      "source": [
        "from tqdm import tqdm\n",
        "\n",
        "embeds = []\n",
        "\n",
        "for i in tqdm(range(102)):\n",
        "\n",
        "    train = pd.read_csv(f'/content/drive/MyDrive/PTLS/data_ensemble_age_group/train_df{i}.csv').iloc[:,1:]\n",
        "    test = pd.read_csv(f'/content/drive/MyDrive/PTLS/data_ensemble_age_group/test_df{i}.csv').iloc[:,1:]\n",
        "\n",
        "    val, test = train_test_split(test, test_size = 0.5, random_state=20)\n",
        "    embeds.append((train, val, test))"
      ],
      "metadata": {
        "colab": {
          "base_uri": "https://localhost:8080/"
        },
        "id": "GZK762jMPcp5",
        "outputId": "35f73cac-53fc-46ca-fac9-7204b2a26706"
      },
      "execution_count": null,
      "outputs": [
        {
          "output_type": "stream",
          "name": "stderr",
          "text": [
            "100%|██████████| 102/102 [03:35<00:00,  2.11s/it]\n"
          ]
        }
      ]
    },
    {
      "cell_type": "code",
      "execution_count": null,
      "metadata": {
        "id": "Q4BQWQEcKvPk"
      },
      "outputs": [],
      "source": [
        "PATH = '/content/drive/MyDrive/PTLS/data_ensemble_age_group/calc_a_and_b.pickle'\n",
        "a_corr = load_res(PATH)\n",
        "n = 6"
      ]
    },
    {
      "cell_type": "code",
      "execution_count": null,
      "metadata": {
        "id": "R_ztoySXKvPm"
      },
      "outputs": [],
      "source": [
        "PATH = '/content/drive/MyDrive/PTLS/data_ensemble_age_group/metrics_weights.pickle'\n",
        "results = load_res(PATH)"
      ]
    },
    {
      "cell_type": "code",
      "execution_count": null,
      "metadata": {
        "colab": {
          "base_uri": "https://localhost:8080/"
        },
        "outputId": "4838d53e-8a28-4119-8947-0090865cfb09",
        "id": "ia_IJBiKKvPo"
      },
      "outputs": [
        {
          "output_type": "stream",
          "name": "stdout",
          "text": [
            "{'my_correlation_metric_weights': array([0.19068683, 0.14326863, 0.30873831, 0.09792455, 0.17208245,\n",
            "       0.08729924]), 'my_correlation_metric_emb_metrs': {'Accuracy': 0.511, 'F1 Score': 0.5030586443708085, 'ROC-AUC': 0.7747689064764953}, 'CKA_weights': array([0.15804658, 0.14948768, 0.28519802, 0.11913365, 0.17552669,\n",
            "       0.11260737]), 'CKA_emb_metrs': {'Accuracy': 0.5123333333333333, 'F1 Score': 0.50526131687486, 'ROC-AUC': 0.7741680962776993}, 'RSA_weights': array([0.20137202, 0.11854747, 0.30015566, 0.11044326, 0.16532191,\n",
            "       0.10415968]), 'RSA_emb_metrs': {'Accuracy': 0.515, 'F1 Score': 0.507190377618183, 'ROC-AUC': 0.7762649451954167}, 'OrthogonalAngularShapeMetricCentered_weights': array([0.17569456, 0.11450154, 0.251497  , 0.17628417, 0.12558706,\n",
            "       0.15643567]), 'OrthogonalAngularShapeMetricCentered_emb_metrs': {'Accuracy': 0.5126666666666667, 'F1 Score': 0.5054879659658751, 'ROC-AUC': 0.7785032240690635}, 'accuracy_weights': array([0.1705788 , 0.13082546, 0.18952685, 0.17944416, 0.15149168,\n",
            "       0.17813305]), 'accuracy_emb_metrs': {'Accuracy': 0.5123333333333333, 'F1 Score': 0.5054760069245544, 'ROC-AUC': 0.7764790618388888}}\n",
            "CPU times: user 13h 24min 33s, sys: 10min 5s, total: 13h 34min 39s\n",
            "Wall time: 3h 43min 40s\n"
          ]
        }
      ],
      "source": [
        "%%time\n",
        "for i in range(0, len(embeds), n):\n",
        "  if i in results.keys():\n",
        "    continue\n",
        "\n",
        "  print(f'Эксперимент {i}')\n",
        "  results[i] = {}\n",
        "\n",
        "  tmp_emb = embeds[i:i+n].copy()\n",
        "\n",
        "\n",
        "  #считаем вектор a\n",
        "  accuracy = [j['Accuracy'] for j in a_corr[i]['a']]\n",
        "  a = [1 - j['Accuracy'] for j in a_corr[i]['a']]\n",
        "  a, accuracy = np.array(a), np.array(accuracy)\n",
        "  a_norm = a/a.max()\n",
        "\n",
        "  # вместо B my_correlation_metric\n",
        "  corr_matrix = a_corr[i]['corr_matrix_my_correlation_metric']\n",
        "  opt_weights = opt_full(a_norm, corr_matrix)\n",
        "  results[i]['my_correlation_metric_weights'] = opt_weights\n",
        "\n",
        "  final_embeds_train, final_embeds_test = weight_embeds_w_val(tmp_emb, opt_weights)\n",
        "  metrs = calc_accuracy_of_combination(final_embeds_train, final_embeds_test)\n",
        "  results[i]['my_correlation_metric_emb_metrs'] = metrs\n",
        "  save_res(results, PATH)\n",
        "  clear_output()\n",
        "\n",
        "  # вместо B CKA\n",
        "  corr_matrix = a_corr[i]['corr_matrix_CKA']\n",
        "  opt_weights = opt_full(a_norm, corr_matrix)\n",
        "  results[i]['CKA_weights'] = opt_weights\n",
        "\n",
        "  final_embeds_train, final_embeds_test = weight_embeds_w_val(tmp_emb, opt_weights)\n",
        "  metrs = calc_accuracy_of_combination(final_embeds_train, final_embeds_test)\n",
        "  results[i]['CKA_emb_metrs'] = metrs\n",
        "  save_res(results, PATH)\n",
        "\n",
        "\n",
        "  # вместо B RSA\n",
        "  corr_matrix = a_corr[i]['corr_matrix_RSA']\n",
        "  opt_weights = opt_full(a_norm, corr_matrix)\n",
        "  results[i]['RSA_weights'] = opt_weights\n",
        "\n",
        "  final_embeds_train, final_embeds_test = weight_embeds_w_val(tmp_emb, opt_weights)\n",
        "  metrs = calc_accuracy_of_combination(final_embeds_train, final_embeds_test)\n",
        "  results[i]['RSA_emb_metrs'] = metrs\n",
        "  save_res(results, PATH)\n",
        "  clear_output()\n",
        "\n",
        "\n",
        "  #OrthogonalAngularShapeMetricCentered\n",
        "  corr_matrix = a_corr[i]['corr_matrix_OrthogonalAngularShapeMetricCentered']\n",
        "  corr_matrix = 1 - corr_matrix/corr_matrix.max()\n",
        "  opt_weights = opt_full(a_norm, corr_matrix)\n",
        "  results[i]['OrthogonalAngularShapeMetricCentered_weights'] = opt_weights\n",
        "\n",
        "  final_embeds_train, final_embeds_test = weight_embeds_w_val(tmp_emb, opt_weights)\n",
        "  metrs = calc_accuracy_of_combination(final_embeds_train, final_embeds_test)\n",
        "  results[i]['OrthogonalAngularShapeMetricCentered_emb_metrs'] = metrs\n",
        "  save_res(results, PATH)\n",
        "\n",
        "\n",
        "  #вес пропорционален accuracy\n",
        "  accuracy_weights = softmax(accuracy, 0.5)\n",
        "  results[i]['accuracy_weights'] = accuracy_weights\n",
        "  final_embeds_train, final_embeds_test = weight_embeds_w_val(tmp_emb, accuracy_weights)\n",
        "  metrs = calc_accuracy_of_combination(final_embeds_train, final_embeds_test)\n",
        "  results[i]['accuracy_emb_metrs'] = metrs\n",
        "  save_res(results, PATH)\n",
        "\n",
        "  clear_output()\n",
        "  print(results[i])"
      ]
    },
    {
      "cell_type": "markdown",
      "source": [
        "+ добавим еще качество на тесте без валидации. неужели оно так сильно отличается?"
      ],
      "metadata": {
        "id": "vUAw2SZ12WnE"
      }
    },
    {
      "cell_type": "code",
      "source": [
        "%%time\n",
        "for i in range(0, len(embeds), n):\n",
        "\n",
        "  print(f'Эксперимент {i}')\n",
        "\n",
        "  tmp_emb = embeds[i:i+n].copy()\n",
        "\n",
        "  weights = np.ones(n)/n\n",
        "  final_embeds_train, final_embeds_test = weight_embeds_w_val(tmp_emb, weights)\n",
        "  metrs = calc_accuracy_of_combination(final_embeds_train, final_embeds_test)\n",
        "  results[i]['uniform_metrs'] = metrs\n",
        "  save_res(results, PATH)\n",
        "  clear_output()"
      ],
      "metadata": {
        "colab": {
          "base_uri": "https://localhost:8080/"
        },
        "id": "r2sz7zpl2gsD",
        "outputId": "e998bc82-5f10-42ba-ae42-8a2d503f6dd7"
      },
      "execution_count": null,
      "outputs": [
        {
          "output_type": "stream",
          "name": "stdout",
          "text": [
            "CPU times: user 2h 41min 26s, sys: 2min, total: 2h 43min 27s\n",
            "Wall time: 44min 56s\n"
          ]
        }
      ]
    },
    {
      "cell_type": "code",
      "source": [
        "from google.colab import runtime\n",
        "runtime.unassign()"
      ],
      "metadata": {
        "id": "FC3EO8tU9YkV"
      },
      "execution_count": null,
      "outputs": []
    },
    {
      "cell_type": "markdown",
      "source": [
        "## сравнение по качеству"
      ],
      "metadata": {
        "id": "-w4BVH62GXOP"
      }
    },
    {
      "cell_type": "markdown",
      "source": [
        "загрузка максимума, среднего и конкатенации"
      ],
      "metadata": {
        "id": "6i3GGkYwG1nv"
      }
    },
    {
      "cell_type": "code",
      "source": [
        "ind_acc"
      ],
      "metadata": {
        "colab": {
          "base_uri": "https://localhost:8080/"
        },
        "id": "4WQzTDB2DwhX",
        "outputId": "0e68c3d6-1f2d-4ff3-e159-1b5b8e86c039"
      },
      "execution_count": null,
      "outputs": [
        {
          "output_type": "execute_result",
          "data": {
            "text/plain": [
              "array([], dtype=float64)"
            ]
          },
          "metadata": {},
          "execution_count": 5
        }
      ]
    },
    {
      "cell_type": "code",
      "source": [
        "metr = 'Accuracy'\n",
        "\n",
        "PATH = '/content/drive/MyDrive/PTLS/data_ensemble_age_group/individual_accuracy.pkl'\n",
        "individual_accuracy = load_res(PATH)\n",
        "\n",
        "#здесь timeout 300 и lama лучше обучилась, нечестное соревнование\n",
        "# PATH = '/content/drive/MyDrive/PTLS/data_ensemble_age_group/mean_perfomance.pickle'\n",
        "# mean = load_res(PATH)\n",
        "# mean_metrs = np.array([i[metr] for i in mean.values()])\n",
        "\n",
        "#аналогично для concat, но тут не пересчитываю\n",
        "PATH = '/content/drive/MyDrive/PTLS/data_ensemble_age_group/concat_perfomance.pickle'\n",
        "concat = load_res(PATH)\n",
        "concat_metrs = np.array([i['uniform_emb_metrs'][metr] for i in concat.values()])\n",
        "\n",
        "\n",
        "\n",
        "ind_acc = np.array([i[metr] for i in individual_accuracy.values()])\n",
        "maximum_metrs = []\n",
        "for i in range(0, 102, 6):\n",
        "  maximum_metrs.append(max(ind_acc[i:i+6]))"
      ],
      "metadata": {
        "id": "qroo8DHvGpx-"
      },
      "execution_count": null,
      "outputs": []
    },
    {
      "cell_type": "code",
      "source": [
        "maximum_metrs = np.array(maximum_metrs)"
      ],
      "metadata": {
        "id": "0dqcXTD0Ih0e"
      },
      "execution_count": null,
      "outputs": []
    },
    {
      "cell_type": "code",
      "source": [
        "PATH = '/content/drive/MyDrive/PTLS/data_ensemble_age_group/metrics_weights.pickle'\n",
        "results = load_res(PATH)\n",
        "\n",
        "mean_metrs = np.array([i['uniform_metrs'][metr] for i in results.values()])\n",
        "my_correlation_metric = np.array([i['my_correlation_metric_emb_metrs'][metr] for i in results.values()])\n",
        "CKA_metric = np.array([i['CKA_emb_metrs'][metr] for i in results.values()])\n",
        "RSA_metric = np.array([i['RSA_emb_metrs'][metr] for i in results.values()])\n",
        "OrthogonalAngularShapeMetricCentered_metric = np.array([i['OrthogonalAngularShapeMetricCentered_emb_metrs'][metr] for i in results.values()])\n",
        "# accuracy_w = np.array([i['accuracy_emb_metrs'][metr] for i in results.values()])"
      ],
      "metadata": {
        "colab": {
          "base_uri": "https://localhost:8080/"
        },
        "id": "Ks53P_LuG0fg",
        "outputId": "a65ee108-cc2c-4cfe-a820-84f6e56f1942"
      },
      "execution_count": null,
      "outputs": [
        {
          "output_type": "stream",
          "name": "stderr",
          "text": [
            "<ipython-input-3-f10bc467a461>:4: DeprecationWarning: numpy.core.numeric is deprecated and has been renamed to numpy._core.numeric. The numpy._core namespace contains private NumPy internals and its use is discouraged, as NumPy internals can change without warning in any release. In practice, most real-world usage of numpy.core is to access functionality in the public NumPy API. If that is the case, use the public NumPy API. If not, you are using NumPy internals. If you would still like to access an internal attribute, use numpy._core.numeric._frombuffer.\n",
            "  results = pickle.load(handle)\n"
          ]
        }
      ]
    },
    {
      "cell_type": "markdown",
      "source": [
        "Сравнение с средним"
      ],
      "metadata": {
        "id": "PYX6l6igI20U"
      }
    },
    {
      "cell_type": "code",
      "source": [
        "# Сравнение всех метрик с mean\n",
        "metrics = [\n",
        "    ('CKA', CKA_metric),\n",
        "    ('RSA', RSA_metric),\n",
        "    ('my_correlation', my_correlation_metric),\n",
        "    ('OrthogonalAngularShapeMetricCentered', OrthogonalAngularShapeMetricCentered_metric)\n",
        "]\n",
        "\n",
        "results = []\n",
        "for name, metric in metrics:\n",
        "    diff = (metric - mean_metrs) / mean_metrs\n",
        "    row = {\n",
        "        'Metric': name,\n",
        "        'Mean (%)': diff.mean() * 100,      # Относительное изменение в %\n",
        "        'Std (%)': diff.std() * 100,         # Стандартное отклонение в %\n",
        "        'Better (%)': (metric > mean_metrs).mean() * 100  # Процент случаев\n",
        "    }\n",
        "    results.append(row)\n",
        "\n",
        "# Создание и вывод таблицы\n",
        "df = pd.DataFrame(results)\n",
        "df"
      ],
      "metadata": {
        "colab": {
          "base_uri": "https://localhost:8080/",
          "height": 175
        },
        "id": "NzpqmRm8G6Hk",
        "outputId": "dfa7a62e-3b5d-4f68-b3a8-347cc544c4fa"
      },
      "execution_count": null,
      "outputs": [
        {
          "output_type": "execute_result",
          "data": {
            "text/plain": [
              "                                 Metric  Mean (%)   Std (%)  Better (%)\n",
              "0                                   CKA  1.390887  1.454615   70.588235\n",
              "1                                   RSA  1.361126  1.634579   76.470588\n",
              "2                        my_correlation  1.314764  1.616302   76.470588\n",
              "3  OrthogonalAngularShapeMetricCentered  1.515249  1.315415   82.352941"
            ],
            "text/html": [
              "\n",
              "  <div id=\"df-2d18ecfe-9ce9-474f-8c50-8c2bd9a99ed3\" class=\"colab-df-container\">\n",
              "    <div>\n",
              "<style scoped>\n",
              "    .dataframe tbody tr th:only-of-type {\n",
              "        vertical-align: middle;\n",
              "    }\n",
              "\n",
              "    .dataframe tbody tr th {\n",
              "        vertical-align: top;\n",
              "    }\n",
              "\n",
              "    .dataframe thead th {\n",
              "        text-align: right;\n",
              "    }\n",
              "</style>\n",
              "<table border=\"1\" class=\"dataframe\">\n",
              "  <thead>\n",
              "    <tr style=\"text-align: right;\">\n",
              "      <th></th>\n",
              "      <th>Metric</th>\n",
              "      <th>Mean (%)</th>\n",
              "      <th>Std (%)</th>\n",
              "      <th>Better (%)</th>\n",
              "    </tr>\n",
              "  </thead>\n",
              "  <tbody>\n",
              "    <tr>\n",
              "      <th>0</th>\n",
              "      <td>CKA</td>\n",
              "      <td>1.390887</td>\n",
              "      <td>1.454615</td>\n",
              "      <td>70.588235</td>\n",
              "    </tr>\n",
              "    <tr>\n",
              "      <th>1</th>\n",
              "      <td>RSA</td>\n",
              "      <td>1.361126</td>\n",
              "      <td>1.634579</td>\n",
              "      <td>76.470588</td>\n",
              "    </tr>\n",
              "    <tr>\n",
              "      <th>2</th>\n",
              "      <td>my_correlation</td>\n",
              "      <td>1.314764</td>\n",
              "      <td>1.616302</td>\n",
              "      <td>76.470588</td>\n",
              "    </tr>\n",
              "    <tr>\n",
              "      <th>3</th>\n",
              "      <td>OrthogonalAngularShapeMetricCentered</td>\n",
              "      <td>1.515249</td>\n",
              "      <td>1.315415</td>\n",
              "      <td>82.352941</td>\n",
              "    </tr>\n",
              "  </tbody>\n",
              "</table>\n",
              "</div>\n",
              "    <div class=\"colab-df-buttons\">\n",
              "\n",
              "  <div class=\"colab-df-container\">\n",
              "    <button class=\"colab-df-convert\" onclick=\"convertToInteractive('df-2d18ecfe-9ce9-474f-8c50-8c2bd9a99ed3')\"\n",
              "            title=\"Convert this dataframe to an interactive table.\"\n",
              "            style=\"display:none;\">\n",
              "\n",
              "  <svg xmlns=\"http://www.w3.org/2000/svg\" height=\"24px\" viewBox=\"0 -960 960 960\">\n",
              "    <path d=\"M120-120v-720h720v720H120Zm60-500h600v-160H180v160Zm220 220h160v-160H400v160Zm0 220h160v-160H400v160ZM180-400h160v-160H180v160Zm440 0h160v-160H620v160ZM180-180h160v-160H180v160Zm440 0h160v-160H620v160Z\"/>\n",
              "  </svg>\n",
              "    </button>\n",
              "\n",
              "  <style>\n",
              "    .colab-df-container {\n",
              "      display:flex;\n",
              "      gap: 12px;\n",
              "    }\n",
              "\n",
              "    .colab-df-convert {\n",
              "      background-color: #E8F0FE;\n",
              "      border: none;\n",
              "      border-radius: 50%;\n",
              "      cursor: pointer;\n",
              "      display: none;\n",
              "      fill: #1967D2;\n",
              "      height: 32px;\n",
              "      padding: 0 0 0 0;\n",
              "      width: 32px;\n",
              "    }\n",
              "\n",
              "    .colab-df-convert:hover {\n",
              "      background-color: #E2EBFA;\n",
              "      box-shadow: 0px 1px 2px rgba(60, 64, 67, 0.3), 0px 1px 3px 1px rgba(60, 64, 67, 0.15);\n",
              "      fill: #174EA6;\n",
              "    }\n",
              "\n",
              "    .colab-df-buttons div {\n",
              "      margin-bottom: 4px;\n",
              "    }\n",
              "\n",
              "    [theme=dark] .colab-df-convert {\n",
              "      background-color: #3B4455;\n",
              "      fill: #D2E3FC;\n",
              "    }\n",
              "\n",
              "    [theme=dark] .colab-df-convert:hover {\n",
              "      background-color: #434B5C;\n",
              "      box-shadow: 0px 1px 3px 1px rgba(0, 0, 0, 0.15);\n",
              "      filter: drop-shadow(0px 1px 2px rgba(0, 0, 0, 0.3));\n",
              "      fill: #FFFFFF;\n",
              "    }\n",
              "  </style>\n",
              "\n",
              "    <script>\n",
              "      const buttonEl =\n",
              "        document.querySelector('#df-2d18ecfe-9ce9-474f-8c50-8c2bd9a99ed3 button.colab-df-convert');\n",
              "      buttonEl.style.display =\n",
              "        google.colab.kernel.accessAllowed ? 'block' : 'none';\n",
              "\n",
              "      async function convertToInteractive(key) {\n",
              "        const element = document.querySelector('#df-2d18ecfe-9ce9-474f-8c50-8c2bd9a99ed3');\n",
              "        const dataTable =\n",
              "          await google.colab.kernel.invokeFunction('convertToInteractive',\n",
              "                                                    [key], {});\n",
              "        if (!dataTable) return;\n",
              "\n",
              "        const docLinkHtml = 'Like what you see? Visit the ' +\n",
              "          '<a target=\"_blank\" href=https://colab.research.google.com/notebooks/data_table.ipynb>data table notebook</a>'\n",
              "          + ' to learn more about interactive tables.';\n",
              "        element.innerHTML = '';\n",
              "        dataTable['output_type'] = 'display_data';\n",
              "        await google.colab.output.renderOutput(dataTable, element);\n",
              "        const docLink = document.createElement('div');\n",
              "        docLink.innerHTML = docLinkHtml;\n",
              "        element.appendChild(docLink);\n",
              "      }\n",
              "    </script>\n",
              "  </div>\n",
              "\n",
              "\n",
              "<div id=\"df-1c1e16d7-aef1-461f-aa32-259e4399d4e2\">\n",
              "  <button class=\"colab-df-quickchart\" onclick=\"quickchart('df-1c1e16d7-aef1-461f-aa32-259e4399d4e2')\"\n",
              "            title=\"Suggest charts\"\n",
              "            style=\"display:none;\">\n",
              "\n",
              "<svg xmlns=\"http://www.w3.org/2000/svg\" height=\"24px\"viewBox=\"0 0 24 24\"\n",
              "     width=\"24px\">\n",
              "    <g>\n",
              "        <path d=\"M19 3H5c-1.1 0-2 .9-2 2v14c0 1.1.9 2 2 2h14c1.1 0 2-.9 2-2V5c0-1.1-.9-2-2-2zM9 17H7v-7h2v7zm4 0h-2V7h2v10zm4 0h-2v-4h2v4z\"/>\n",
              "    </g>\n",
              "</svg>\n",
              "  </button>\n",
              "\n",
              "<style>\n",
              "  .colab-df-quickchart {\n",
              "      --bg-color: #E8F0FE;\n",
              "      --fill-color: #1967D2;\n",
              "      --hover-bg-color: #E2EBFA;\n",
              "      --hover-fill-color: #174EA6;\n",
              "      --disabled-fill-color: #AAA;\n",
              "      --disabled-bg-color: #DDD;\n",
              "  }\n",
              "\n",
              "  [theme=dark] .colab-df-quickchart {\n",
              "      --bg-color: #3B4455;\n",
              "      --fill-color: #D2E3FC;\n",
              "      --hover-bg-color: #434B5C;\n",
              "      --hover-fill-color: #FFFFFF;\n",
              "      --disabled-bg-color: #3B4455;\n",
              "      --disabled-fill-color: #666;\n",
              "  }\n",
              "\n",
              "  .colab-df-quickchart {\n",
              "    background-color: var(--bg-color);\n",
              "    border: none;\n",
              "    border-radius: 50%;\n",
              "    cursor: pointer;\n",
              "    display: none;\n",
              "    fill: var(--fill-color);\n",
              "    height: 32px;\n",
              "    padding: 0;\n",
              "    width: 32px;\n",
              "  }\n",
              "\n",
              "  .colab-df-quickchart:hover {\n",
              "    background-color: var(--hover-bg-color);\n",
              "    box-shadow: 0 1px 2px rgba(60, 64, 67, 0.3), 0 1px 3px 1px rgba(60, 64, 67, 0.15);\n",
              "    fill: var(--button-hover-fill-color);\n",
              "  }\n",
              "\n",
              "  .colab-df-quickchart-complete:disabled,\n",
              "  .colab-df-quickchart-complete:disabled:hover {\n",
              "    background-color: var(--disabled-bg-color);\n",
              "    fill: var(--disabled-fill-color);\n",
              "    box-shadow: none;\n",
              "  }\n",
              "\n",
              "  .colab-df-spinner {\n",
              "    border: 2px solid var(--fill-color);\n",
              "    border-color: transparent;\n",
              "    border-bottom-color: var(--fill-color);\n",
              "    animation:\n",
              "      spin 1s steps(1) infinite;\n",
              "  }\n",
              "\n",
              "  @keyframes spin {\n",
              "    0% {\n",
              "      border-color: transparent;\n",
              "      border-bottom-color: var(--fill-color);\n",
              "      border-left-color: var(--fill-color);\n",
              "    }\n",
              "    20% {\n",
              "      border-color: transparent;\n",
              "      border-left-color: var(--fill-color);\n",
              "      border-top-color: var(--fill-color);\n",
              "    }\n",
              "    30% {\n",
              "      border-color: transparent;\n",
              "      border-left-color: var(--fill-color);\n",
              "      border-top-color: var(--fill-color);\n",
              "      border-right-color: var(--fill-color);\n",
              "    }\n",
              "    40% {\n",
              "      border-color: transparent;\n",
              "      border-right-color: var(--fill-color);\n",
              "      border-top-color: var(--fill-color);\n",
              "    }\n",
              "    60% {\n",
              "      border-color: transparent;\n",
              "      border-right-color: var(--fill-color);\n",
              "    }\n",
              "    80% {\n",
              "      border-color: transparent;\n",
              "      border-right-color: var(--fill-color);\n",
              "      border-bottom-color: var(--fill-color);\n",
              "    }\n",
              "    90% {\n",
              "      border-color: transparent;\n",
              "      border-bottom-color: var(--fill-color);\n",
              "    }\n",
              "  }\n",
              "</style>\n",
              "\n",
              "  <script>\n",
              "    async function quickchart(key) {\n",
              "      const quickchartButtonEl =\n",
              "        document.querySelector('#' + key + ' button');\n",
              "      quickchartButtonEl.disabled = true;  // To prevent multiple clicks.\n",
              "      quickchartButtonEl.classList.add('colab-df-spinner');\n",
              "      try {\n",
              "        const charts = await google.colab.kernel.invokeFunction(\n",
              "            'suggestCharts', [key], {});\n",
              "      } catch (error) {\n",
              "        console.error('Error during call to suggestCharts:', error);\n",
              "      }\n",
              "      quickchartButtonEl.classList.remove('colab-df-spinner');\n",
              "      quickchartButtonEl.classList.add('colab-df-quickchart-complete');\n",
              "    }\n",
              "    (() => {\n",
              "      let quickchartButtonEl =\n",
              "        document.querySelector('#df-1c1e16d7-aef1-461f-aa32-259e4399d4e2 button');\n",
              "      quickchartButtonEl.style.display =\n",
              "        google.colab.kernel.accessAllowed ? 'block' : 'none';\n",
              "    })();\n",
              "  </script>\n",
              "</div>\n",
              "    </div>\n",
              "  </div>\n"
            ],
            "application/vnd.google.colaboratory.intrinsic+json": {
              "type": "dataframe",
              "variable_name": "df",
              "summary": "{\n  \"name\": \"df\",\n  \"rows\": 4,\n  \"fields\": [\n    {\n      \"column\": \"Metric\",\n      \"properties\": {\n        \"dtype\": \"string\",\n        \"num_unique_values\": 4,\n        \"samples\": [\n          \"RSA\",\n          \"OrthogonalAngularShapeMetricCentered\",\n          \"CKA\"\n        ],\n        \"semantic_type\": \"\",\n        \"description\": \"\"\n      }\n    },\n    {\n      \"column\": \"Mean (%)\",\n      \"properties\": {\n        \"dtype\": \"number\",\n        \"std\": 0.08575380657119676,\n        \"min\": 1.314763553191909,\n        \"max\": 1.515249403055945,\n        \"num_unique_values\": 4,\n        \"samples\": [\n          1.3611259994863603,\n          1.515249403055945,\n          1.3908868769342422\n        ],\n        \"semantic_type\": \"\",\n        \"description\": \"\"\n      }\n    },\n    {\n      \"column\": \"Std (%)\",\n      \"properties\": {\n        \"dtype\": \"number\",\n        \"std\": 0.15017718663373372,\n        \"min\": 1.3154152513667439,\n        \"max\": 1.6345786379725378,\n        \"num_unique_values\": 4,\n        \"samples\": [\n          1.6345786379725378,\n          1.3154152513667439,\n          1.4546152604587084\n        ],\n        \"semantic_type\": \"\",\n        \"description\": \"\"\n      }\n    },\n    {\n      \"column\": \"Better (%)\",\n      \"properties\": {\n        \"dtype\": \"number\",\n        \"std\": 4.802921064280736,\n        \"min\": 70.58823529411765,\n        \"max\": 82.35294117647058,\n        \"num_unique_values\": 3,\n        \"samples\": [\n          70.58823529411765,\n          76.47058823529412,\n          82.35294117647058\n        ],\n        \"semantic_type\": \"\",\n        \"description\": \"\"\n      }\n    }\n  ]\n}"
            }
          },
          "metadata": {},
          "execution_count": 18
        }
      ]
    },
    {
      "cell_type": "markdown",
      "source": [
        "Сравнение с максимумом"
      ],
      "metadata": {
        "id": "w1Anl_DmI9rs"
      }
    },
    {
      "cell_type": "code",
      "source": [
        "# Сравнение всех метрик с mean\n",
        "metrics = [\n",
        "    ('CKA', CKA_metric),\n",
        "    ('RSA', RSA_metric),\n",
        "    ('my_correlation', my_correlation_metric),\n",
        "    ('OrthogonalAngularShapeMetricCentered', OrthogonalAngularShapeMetricCentered_metric)\n",
        "]\n",
        "\n",
        "results = []\n",
        "for name, metric in metrics:\n",
        "    diff = (metric - maximum_metrs) / maximum_metrs\n",
        "    row = {\n",
        "        'Metric': name,\n",
        "        'Mean (%)': diff.mean() * 100,      # Относительное изменение в %\n",
        "        'Std (%)': diff.std() * 100,         # Стандартное отклонение в %\n",
        "        'Better (%)': (metric > maximum_metrs).mean() * 100  # Процент случаев\n",
        "    }\n",
        "    results.append(row)\n",
        "\n",
        "# Создание и вывод таблицы\n",
        "df = pd.DataFrame(results)\n",
        "df"
      ],
      "metadata": {
        "colab": {
          "base_uri": "https://localhost:8080/",
          "height": 175
        },
        "id": "OOJ6OcITG6Lb",
        "outputId": "1f16c73c-e91c-420b-909f-d862bb059d27"
      },
      "execution_count": null,
      "outputs": [
        {
          "output_type": "execute_result",
          "data": {
            "text/plain": [
              "                                 Metric  Mean (%)   Std (%)  Better (%)\n",
              "0                                   CKA -2.735573  3.078526    5.882353\n",
              "1                                   RSA -2.760771  3.267425   17.647059\n",
              "2                        my_correlation -2.810954  3.076638   11.764706\n",
              "3  OrthogonalAngularShapeMetricCentered -2.622682  2.817199    5.882353"
            ],
            "text/html": [
              "\n",
              "  <div id=\"df-87423768-1560-423b-bd31-267f9d769896\" class=\"colab-df-container\">\n",
              "    <div>\n",
              "<style scoped>\n",
              "    .dataframe tbody tr th:only-of-type {\n",
              "        vertical-align: middle;\n",
              "    }\n",
              "\n",
              "    .dataframe tbody tr th {\n",
              "        vertical-align: top;\n",
              "    }\n",
              "\n",
              "    .dataframe thead th {\n",
              "        text-align: right;\n",
              "    }\n",
              "</style>\n",
              "<table border=\"1\" class=\"dataframe\">\n",
              "  <thead>\n",
              "    <tr style=\"text-align: right;\">\n",
              "      <th></th>\n",
              "      <th>Metric</th>\n",
              "      <th>Mean (%)</th>\n",
              "      <th>Std (%)</th>\n",
              "      <th>Better (%)</th>\n",
              "    </tr>\n",
              "  </thead>\n",
              "  <tbody>\n",
              "    <tr>\n",
              "      <th>0</th>\n",
              "      <td>CKA</td>\n",
              "      <td>-2.735573</td>\n",
              "      <td>3.078526</td>\n",
              "      <td>5.882353</td>\n",
              "    </tr>\n",
              "    <tr>\n",
              "      <th>1</th>\n",
              "      <td>RSA</td>\n",
              "      <td>-2.760771</td>\n",
              "      <td>3.267425</td>\n",
              "      <td>17.647059</td>\n",
              "    </tr>\n",
              "    <tr>\n",
              "      <th>2</th>\n",
              "      <td>my_correlation</td>\n",
              "      <td>-2.810954</td>\n",
              "      <td>3.076638</td>\n",
              "      <td>11.764706</td>\n",
              "    </tr>\n",
              "    <tr>\n",
              "      <th>3</th>\n",
              "      <td>OrthogonalAngularShapeMetricCentered</td>\n",
              "      <td>-2.622682</td>\n",
              "      <td>2.817199</td>\n",
              "      <td>5.882353</td>\n",
              "    </tr>\n",
              "  </tbody>\n",
              "</table>\n",
              "</div>\n",
              "    <div class=\"colab-df-buttons\">\n",
              "\n",
              "  <div class=\"colab-df-container\">\n",
              "    <button class=\"colab-df-convert\" onclick=\"convertToInteractive('df-87423768-1560-423b-bd31-267f9d769896')\"\n",
              "            title=\"Convert this dataframe to an interactive table.\"\n",
              "            style=\"display:none;\">\n",
              "\n",
              "  <svg xmlns=\"http://www.w3.org/2000/svg\" height=\"24px\" viewBox=\"0 -960 960 960\">\n",
              "    <path d=\"M120-120v-720h720v720H120Zm60-500h600v-160H180v160Zm220 220h160v-160H400v160Zm0 220h160v-160H400v160ZM180-400h160v-160H180v160Zm440 0h160v-160H620v160ZM180-180h160v-160H180v160Zm440 0h160v-160H620v160Z\"/>\n",
              "  </svg>\n",
              "    </button>\n",
              "\n",
              "  <style>\n",
              "    .colab-df-container {\n",
              "      display:flex;\n",
              "      gap: 12px;\n",
              "    }\n",
              "\n",
              "    .colab-df-convert {\n",
              "      background-color: #E8F0FE;\n",
              "      border: none;\n",
              "      border-radius: 50%;\n",
              "      cursor: pointer;\n",
              "      display: none;\n",
              "      fill: #1967D2;\n",
              "      height: 32px;\n",
              "      padding: 0 0 0 0;\n",
              "      width: 32px;\n",
              "    }\n",
              "\n",
              "    .colab-df-convert:hover {\n",
              "      background-color: #E2EBFA;\n",
              "      box-shadow: 0px 1px 2px rgba(60, 64, 67, 0.3), 0px 1px 3px 1px rgba(60, 64, 67, 0.15);\n",
              "      fill: #174EA6;\n",
              "    }\n",
              "\n",
              "    .colab-df-buttons div {\n",
              "      margin-bottom: 4px;\n",
              "    }\n",
              "\n",
              "    [theme=dark] .colab-df-convert {\n",
              "      background-color: #3B4455;\n",
              "      fill: #D2E3FC;\n",
              "    }\n",
              "\n",
              "    [theme=dark] .colab-df-convert:hover {\n",
              "      background-color: #434B5C;\n",
              "      box-shadow: 0px 1px 3px 1px rgba(0, 0, 0, 0.15);\n",
              "      filter: drop-shadow(0px 1px 2px rgba(0, 0, 0, 0.3));\n",
              "      fill: #FFFFFF;\n",
              "    }\n",
              "  </style>\n",
              "\n",
              "    <script>\n",
              "      const buttonEl =\n",
              "        document.querySelector('#df-87423768-1560-423b-bd31-267f9d769896 button.colab-df-convert');\n",
              "      buttonEl.style.display =\n",
              "        google.colab.kernel.accessAllowed ? 'block' : 'none';\n",
              "\n",
              "      async function convertToInteractive(key) {\n",
              "        const element = document.querySelector('#df-87423768-1560-423b-bd31-267f9d769896');\n",
              "        const dataTable =\n",
              "          await google.colab.kernel.invokeFunction('convertToInteractive',\n",
              "                                                    [key], {});\n",
              "        if (!dataTable) return;\n",
              "\n",
              "        const docLinkHtml = 'Like what you see? Visit the ' +\n",
              "          '<a target=\"_blank\" href=https://colab.research.google.com/notebooks/data_table.ipynb>data table notebook</a>'\n",
              "          + ' to learn more about interactive tables.';\n",
              "        element.innerHTML = '';\n",
              "        dataTable['output_type'] = 'display_data';\n",
              "        await google.colab.output.renderOutput(dataTable, element);\n",
              "        const docLink = document.createElement('div');\n",
              "        docLink.innerHTML = docLinkHtml;\n",
              "        element.appendChild(docLink);\n",
              "      }\n",
              "    </script>\n",
              "  </div>\n",
              "\n",
              "\n",
              "<div id=\"df-cc7e7f23-53d3-47b5-9be5-d47b4923bb1a\">\n",
              "  <button class=\"colab-df-quickchart\" onclick=\"quickchart('df-cc7e7f23-53d3-47b5-9be5-d47b4923bb1a')\"\n",
              "            title=\"Suggest charts\"\n",
              "            style=\"display:none;\">\n",
              "\n",
              "<svg xmlns=\"http://www.w3.org/2000/svg\" height=\"24px\"viewBox=\"0 0 24 24\"\n",
              "     width=\"24px\">\n",
              "    <g>\n",
              "        <path d=\"M19 3H5c-1.1 0-2 .9-2 2v14c0 1.1.9 2 2 2h14c1.1 0 2-.9 2-2V5c0-1.1-.9-2-2-2zM9 17H7v-7h2v7zm4 0h-2V7h2v10zm4 0h-2v-4h2v4z\"/>\n",
              "    </g>\n",
              "</svg>\n",
              "  </button>\n",
              "\n",
              "<style>\n",
              "  .colab-df-quickchart {\n",
              "      --bg-color: #E8F0FE;\n",
              "      --fill-color: #1967D2;\n",
              "      --hover-bg-color: #E2EBFA;\n",
              "      --hover-fill-color: #174EA6;\n",
              "      --disabled-fill-color: #AAA;\n",
              "      --disabled-bg-color: #DDD;\n",
              "  }\n",
              "\n",
              "  [theme=dark] .colab-df-quickchart {\n",
              "      --bg-color: #3B4455;\n",
              "      --fill-color: #D2E3FC;\n",
              "      --hover-bg-color: #434B5C;\n",
              "      --hover-fill-color: #FFFFFF;\n",
              "      --disabled-bg-color: #3B4455;\n",
              "      --disabled-fill-color: #666;\n",
              "  }\n",
              "\n",
              "  .colab-df-quickchart {\n",
              "    background-color: var(--bg-color);\n",
              "    border: none;\n",
              "    border-radius: 50%;\n",
              "    cursor: pointer;\n",
              "    display: none;\n",
              "    fill: var(--fill-color);\n",
              "    height: 32px;\n",
              "    padding: 0;\n",
              "    width: 32px;\n",
              "  }\n",
              "\n",
              "  .colab-df-quickchart:hover {\n",
              "    background-color: var(--hover-bg-color);\n",
              "    box-shadow: 0 1px 2px rgba(60, 64, 67, 0.3), 0 1px 3px 1px rgba(60, 64, 67, 0.15);\n",
              "    fill: var(--button-hover-fill-color);\n",
              "  }\n",
              "\n",
              "  .colab-df-quickchart-complete:disabled,\n",
              "  .colab-df-quickchart-complete:disabled:hover {\n",
              "    background-color: var(--disabled-bg-color);\n",
              "    fill: var(--disabled-fill-color);\n",
              "    box-shadow: none;\n",
              "  }\n",
              "\n",
              "  .colab-df-spinner {\n",
              "    border: 2px solid var(--fill-color);\n",
              "    border-color: transparent;\n",
              "    border-bottom-color: var(--fill-color);\n",
              "    animation:\n",
              "      spin 1s steps(1) infinite;\n",
              "  }\n",
              "\n",
              "  @keyframes spin {\n",
              "    0% {\n",
              "      border-color: transparent;\n",
              "      border-bottom-color: var(--fill-color);\n",
              "      border-left-color: var(--fill-color);\n",
              "    }\n",
              "    20% {\n",
              "      border-color: transparent;\n",
              "      border-left-color: var(--fill-color);\n",
              "      border-top-color: var(--fill-color);\n",
              "    }\n",
              "    30% {\n",
              "      border-color: transparent;\n",
              "      border-left-color: var(--fill-color);\n",
              "      border-top-color: var(--fill-color);\n",
              "      border-right-color: var(--fill-color);\n",
              "    }\n",
              "    40% {\n",
              "      border-color: transparent;\n",
              "      border-right-color: var(--fill-color);\n",
              "      border-top-color: var(--fill-color);\n",
              "    }\n",
              "    60% {\n",
              "      border-color: transparent;\n",
              "      border-right-color: var(--fill-color);\n",
              "    }\n",
              "    80% {\n",
              "      border-color: transparent;\n",
              "      border-right-color: var(--fill-color);\n",
              "      border-bottom-color: var(--fill-color);\n",
              "    }\n",
              "    90% {\n",
              "      border-color: transparent;\n",
              "      border-bottom-color: var(--fill-color);\n",
              "    }\n",
              "  }\n",
              "</style>\n",
              "\n",
              "  <script>\n",
              "    async function quickchart(key) {\n",
              "      const quickchartButtonEl =\n",
              "        document.querySelector('#' + key + ' button');\n",
              "      quickchartButtonEl.disabled = true;  // To prevent multiple clicks.\n",
              "      quickchartButtonEl.classList.add('colab-df-spinner');\n",
              "      try {\n",
              "        const charts = await google.colab.kernel.invokeFunction(\n",
              "            'suggestCharts', [key], {});\n",
              "      } catch (error) {\n",
              "        console.error('Error during call to suggestCharts:', error);\n",
              "      }\n",
              "      quickchartButtonEl.classList.remove('colab-df-spinner');\n",
              "      quickchartButtonEl.classList.add('colab-df-quickchart-complete');\n",
              "    }\n",
              "    (() => {\n",
              "      let quickchartButtonEl =\n",
              "        document.querySelector('#df-cc7e7f23-53d3-47b5-9be5-d47b4923bb1a button');\n",
              "      quickchartButtonEl.style.display =\n",
              "        google.colab.kernel.accessAllowed ? 'block' : 'none';\n",
              "    })();\n",
              "  </script>\n",
              "</div>\n",
              "    </div>\n",
              "  </div>\n"
            ],
            "application/vnd.google.colaboratory.intrinsic+json": {
              "type": "dataframe",
              "variable_name": "df",
              "summary": "{\n  \"name\": \"df\",\n  \"rows\": 4,\n  \"fields\": [\n    {\n      \"column\": \"Metric\",\n      \"properties\": {\n        \"dtype\": \"string\",\n        \"num_unique_values\": 4,\n        \"samples\": [\n          \"RSA\",\n          \"OrthogonalAngularShapeMetricCentered\",\n          \"CKA\"\n        ],\n        \"semantic_type\": \"\",\n        \"description\": \"\"\n      }\n    },\n    {\n      \"column\": \"Mean (%)\",\n      \"properties\": {\n        \"dtype\": \"number\",\n        \"std\": 0.07963211088985456,\n        \"min\": -2.810954255281489,\n        \"max\": -2.622681627821089,\n        \"num_unique_values\": 4,\n        \"samples\": [\n          -2.7607707139416235,\n          -2.622681627821089,\n          -2.7355726300838774\n        ],\n        \"semantic_type\": \"\",\n        \"description\": \"\"\n      }\n    },\n    {\n      \"column\": \"Std (%)\",\n      \"properties\": {\n        \"dtype\": \"number\",\n        \"std\": 0.18493015148143724,\n        \"min\": 2.817198608469217,\n        \"max\": 3.2674245179365,\n        \"num_unique_values\": 4,\n        \"samples\": [\n          3.2674245179365,\n          2.817198608469217,\n          3.0785263014438473\n        ],\n        \"semantic_type\": \"\",\n        \"description\": \"\"\n      }\n    },\n    {\n      \"column\": \"Better (%)\",\n      \"properties\": {\n        \"dtype\": \"number\",\n        \"std\": 5.631924163272578,\n        \"min\": 5.88235294117647,\n        \"max\": 17.647058823529413,\n        \"num_unique_values\": 3,\n        \"samples\": [\n          5.88235294117647,\n          17.647058823529413,\n          11.76470588235294\n        ],\n        \"semantic_type\": \"\",\n        \"description\": \"\"\n      }\n    }\n  ]\n}"
            }
          },
          "metadata": {},
          "execution_count": 19
        }
      ]
    },
    {
      "cell_type": "code",
      "source": [
        "experiments = np.arange(1, len(maximum_metrs) + 1)\n",
        "\n",
        "plt.figure(figsize=(10, 6))\n",
        "\n",
        "\n",
        "plt.plot(experiments, mean_metrs, marker='o', label='mean')\n",
        "# plt.plot(experiments, maximum_metrs, marker='^', label='max')\n",
        "plt.plot(experiments, OrthogonalAngularShapeMetricCentered_metric, marker='^', label='weighted')\n",
        "\n",
        "plt.title(f'Сравнение {metr} моделей', fontsize=16)\n",
        "plt.xlabel('Номер эксперимента', fontsize=14)\n",
        "plt.ylabel('Качество модели', fontsize=14)\n",
        "\n",
        "plt.legend(fontsize=12)\n",
        "\n",
        "plt.grid(True)\n",
        "\n",
        "# Показать график\n",
        "plt.show()"
      ],
      "metadata": {
        "colab": {
          "base_uri": "https://localhost:8080/",
          "height": 572
        },
        "id": "8B5Ibq0jGtv6",
        "outputId": "7d18eb68-03b7-4fc7-eacc-2f32f4c3c367"
      },
      "execution_count": null,
      "outputs": [
        {
          "output_type": "display_data",
          "data": {
            "text/plain": [
              "<Figure size 1000x600 with 1 Axes>"
            ],
            "image/png": "[encoded data removed]"
          },
          "metadata": {}
        }
      ]
    },
    {
      "cell_type": "markdown",
      "source": [
        "Сравним с весами по качеству"
      ],
      "metadata": {
        "id": "5DM9cTqTKhFT"
      }
    },
    {
      "cell_type": "code",
      "source": [
        "PATH = '/content/drive/MyDrive/PTLS/data_ensemble_age_group/metrics_weights.pickle'\n",
        "results = load_res(PATH)\n",
        "acc_w = []\n",
        "for i in range(0, 96, 6):\n",
        "  acc_w.append(results[i]['accuracy_emb_metrs']['Accuracy'])\n",
        "acc_w = np.array(acc_w)"
      ],
      "metadata": {
        "colab": {
          "base_uri": "https://localhost:8080/"
        },
        "id": "ksAyn-TiKdn3",
        "outputId": "bbd30983-a1c2-4f0b-d8e3-975da45c2daf"
      },
      "execution_count": null,
      "outputs": [
        {
          "output_type": "stream",
          "name": "stderr",
          "text": [
            "<ipython-input-3-f10bc467a461>:4: DeprecationWarning: numpy.core.numeric is deprecated and has been renamed to numpy._core.numeric. The numpy._core namespace contains private NumPy internals and its use is discouraged, as NumPy internals can change without warning in any release. In practice, most real-world usage of numpy.core is to access functionality in the public NumPy API. If that is the case, use the public NumPy API. If not, you are using NumPy internals. If you would still like to access an internal attribute, use numpy._core.numeric._frombuffer.\n",
            "  results = pickle.load(handle)\n"
          ]
        }
      ]
    },
    {
      "cell_type": "code",
      "source": [
        "experiments = np.arange(1, len(maximum_metrs) + 1)\n",
        "\n",
        "plt.figure(figsize=(10, 6))\n",
        "\n",
        "\n",
        "plt.plot(experiments[:-1], mean_metrs[:-1], marker='o', label='mean')\n",
        "# plt.plot(experiments, maximum_metrs, marker='^', label='max')\n",
        "plt.plot(experiments[:-1], acc_w, marker='^', label='acc_w')\n",
        "\n",
        "plt.title(f'Сравнение {metr} моделей', fontsize=16)\n",
        "plt.xlabel('Номер эксперимента', fontsize=14)\n",
        "plt.ylabel('Качество модели', fontsize=14)\n",
        "\n",
        "plt.legend(fontsize=12)\n",
        "\n",
        "plt.grid(True)\n",
        "\n",
        "# Показать график\n",
        "plt.show()"
      ],
      "metadata": {
        "colab": {
          "base_uri": "https://localhost:8080/",
          "height": 572
        },
        "id": "ZXl9QgnRLULw",
        "outputId": "85c4c91c-fd88-41e9-a20d-b59b76001181"
      },
      "execution_count": null,
      "outputs": [
        {
          "output_type": "display_data",
          "data": {
            "text/plain": [
              "<Figure size 1000x600 with 1 Axes>"
            ],
            "image/png": "[encoded data removed]"
          },
          "metadata": {}
        }
      ]
    },
    {
      "cell_type": "code",
      "source": [
        "diff = (acc_w - mean_metrs[:-1]) / mean_metrs[:-1]\n",
        "diff.mean(), diff.std(), (acc_w > mean_metrs[:-1]).mean()"
      ],
      "metadata": {
        "colab": {
          "base_uri": "https://localhost:8080/"
        },
        "id": "t3oP_RpiLkgw",
        "outputId": "796219eb-d968-49ba-d2ca-cca0cb19e5c3"
      },
      "execution_count": null,
      "outputs": [
        {
          "output_type": "execute_result",
          "data": {
            "text/plain": [
              "(np.float64(0.013254036708952529),\n",
              " np.float64(0.007203466527308464),\n",
              " np.float64(1.0))"
            ]
          },
          "metadata": {},
          "execution_count": 23
        }
      ]
    },
    {
      "cell_type": "markdown",
      "source": [
        "## Итоги:\n",
        "1) Среднее хуже конката и максимума \\\n",
        "2) Взвешанное среднее лучше просто среднего, но хуже конката \\\n",
        "\n",
        "Всегда нужно ставить одинаковый TIMEOUT у LAMA и делать стратифицированный по таргету train_test_split!!!"
      ],
      "metadata": {
        "id": "pkhXUqGzJ85t"
      }
    },
    {
      "cell_type": "markdown",
      "source": [
        "# Эксперименты с качеством эмбеддингов вместо качества на валидации"
      ],
      "metadata": {
        "id": "-9M1-QtbKvP8"
      }
    },
    {
      "cell_type": "code",
      "source": [
        "# берем для примера 6 наборов эмбедов\n",
        "from tqdm import tqdm\n",
        "\n",
        "embeds = []\n",
        "\n",
        "for i in tqdm(range(102)):\n",
        "\n",
        "    train = pd.read_csv(f'/content/drive/MyDrive/PTLS/data_ensemble_age_group/train_df{i}.csv').iloc[:,1:]\n",
        "    test = pd.read_csv(f'/content/drive/MyDrive/PTLS/data_ensemble_age_group/test_df{i}.csv').iloc[:,1:]\n",
        "\n",
        "    embeds.append((train, test))"
      ],
      "metadata": {
        "colab": {
          "base_uri": "https://localhost:8080/"
        },
        "outputId": "c37b3109-13f9-47d8-8516-aa3f1ecf837f",
        "id": "QZk_kB2MKvP8"
      },
      "execution_count": null,
      "outputs": [
        {
          "output_type": "stream",
          "name": "stderr",
          "text": [
            "100%|██████████| 102/102 [02:17<00:00,  1.35s/it]\n"
          ]
        }
      ]
    },
    {
      "cell_type": "code",
      "source": [
        "TIMEOUT = 300"
      ],
      "metadata": {
        "id": "1DI1paQwJxQk"
      },
      "execution_count": null,
      "outputs": []
    },
    {
      "cell_type": "markdown",
      "source": [
        "##метрики из репо"
      ],
      "metadata": {
        "id": "gf2AxJzjKvP9"
      }
    },
    {
      "cell_type": "markdown",
      "source": [
        "Код метрик отсюда https://github.com/google-research/google-research/blob/master/graph_embedding/metrics/metrics.py"
      ],
      "metadata": {
        "id": "69v1EAgeKvP9"
      }
    },
    {
      "cell_type": "code",
      "source": [
        "\"\"\"A library for computing unsupervised embedding quality metrics.\"\"\"\n",
        "from typing import Mapping, Optional\n",
        "\n",
        "import numpy as np\n",
        "\n",
        "\n",
        "def report_all_metrics(tensor):\n",
        "  \"\"\"Computes all metric values given a tensor and its SVD.\n",
        "\n",
        "  Args:\n",
        "    tensor (dense matrix): Input embeddings.\n",
        "\n",
        "  Returns:\n",
        "    Mapping[str, float]: All metric values.\n",
        "  \"\"\"\n",
        "  # Pre-compute SVD for metric computations.\n",
        "  u, s, _ = np.linalg.svd(tensor, compute_uv=True, full_matrices=False)\n",
        "  fns = [\n",
        "      rankme,\n",
        "      coherence,\n",
        "      pseudo_condition_number,\n",
        "      alpha_req,\n",
        "      stable_rank,\n",
        "      ne_sum,\n",
        "      self_clustering,\n",
        "  ]\n",
        "  return dict((fn.__name__, fn(tensor, u=u, s=s)) for fn in fns)\n",
        "\n",
        "\n",
        "def pseudo_condition_number(\n",
        "    tensor,\n",
        "    s = None,\n",
        "    epsilon = 1e-12,\n",
        "    **_\n",
        "):\n",
        "  \"\"\"Implementation of the pseudo-condition number metric.\n",
        "\n",
        "  Args:\n",
        "    tensor (dense matrix): Input embeddings.\n",
        "    s (optional, dense vector): Singular values of `tensor`.\n",
        "    epsilon (float): Numerical epsilon.\n",
        "\n",
        "  Returns:\n",
        "    float: Pseudo-condition number metric value.\n",
        "  \"\"\"\n",
        "  if s is None:\n",
        "    s = np.linalg.svd(tensor, compute_uv=False)\n",
        "  return s[-1] / (s[0] + epsilon)\n",
        "\n",
        "\n",
        "def coherence(tensor, u = None, **_):\n",
        "  \"\"\"Implementation of the coherence metric.\n",
        "\n",
        "  Args:\n",
        "    tensor (dense matrix): Input embeddings.\n",
        "    u (optional, dense matrix): Left singular vectors of `tensor`.\n",
        "\n",
        "  Returns:\n",
        "    float: Coherence metric value.\n",
        "  \"\"\"\n",
        "  if u is None:\n",
        "    u, _, _ = np.linalg.svd(tensor, compute_uv=True, full_matrices=False)\n",
        "  maxu = np.linalg.norm(u, axis=1).max() ** 2\n",
        "  return maxu * u.shape[0] / u.shape[1]\n",
        "\n",
        "\n",
        "def stable_rank(\n",
        "    tensor,\n",
        "    s = None,\n",
        "    epsilon = 1e-12,\n",
        "    **_\n",
        "):\n",
        "  \"\"\"Implementation of the stable rank metric.\n",
        "\n",
        "  Args:\n",
        "    tensor (dense matrix): Input embeddings.\n",
        "    s (optional, dense vector): Singular values of `tensor`.\n",
        "    epsilon (float): Numerical epsilon.\n",
        "\n",
        "  Returns:\n",
        "    float: Stable rank metric value.\n",
        "  \"\"\"\n",
        "  if s is None:\n",
        "    s = np.linalg.svd(tensor, compute_uv=False)\n",
        "  trace = np.square(tensor).sum()\n",
        "  denominator = s[0] * s[0] + epsilon\n",
        "  return trace / denominator\n",
        "\n",
        "\n",
        "def self_clustering(tensor, epsilon = 1e-12, **_):\n",
        "  \"\"\"Implementation of the SelfCluster metric.\n",
        "\n",
        "  Args:\n",
        "    tensor (dense matrix): Input embeddings.\n",
        "    epsilon (float): Numerical epsilon.\n",
        "\n",
        "  Returns:\n",
        "    float: SelfCluster metric value.\n",
        "  \"\"\"\n",
        "  tensor = tensor + epsilon\n",
        "  tensor /= np.linalg.norm(tensor, axis=1)[:, np.newaxis]\n",
        "  n, d = tensor.shape\n",
        "  expected = n + n * (n - 1) / d\n",
        "  actual = np.sum(np.square(tensor @ tensor.T))\n",
        "  return (actual - expected) / (n * n - expected)\n",
        "\n",
        "\n",
        "def rankme(\n",
        "    tensor,\n",
        "    s = None,\n",
        "    epsilon = 1e-12,\n",
        "    **_\n",
        "):\n",
        "  \"\"\"Implementation of the RankMe metric.\n",
        "\n",
        "  This metric is defined in \"RankMe: Assessing the Downstream Performance of\n",
        "  Pretrained Self-Supervised Representations by Their Rank\". Garrido et al.\n",
        "  arXiv:2210.02885.\n",
        "\n",
        "  Args:\n",
        "    tensor (dense matrix): Input embeddings.\n",
        "    s (optional, dense vector): Singular values of `tensor`.\n",
        "    epsilon (float): Numerical epsilon.\n",
        "\n",
        "  Returns:\n",
        "    float: RankMe metric value.\n",
        "  \"\"\"\n",
        "  if s is None:\n",
        "    s = np.linalg.svd(tensor, compute_uv=False)\n",
        "  p_ks = s / np.sum(s + epsilon) + epsilon\n",
        "  return np.exp(-np.sum(p_ks * np.log(p_ks)))\n",
        "\n",
        "\n",
        "def ne_sum(tensor, epsilon = 1e-12, **_):\n",
        "  \"\"\"Implementation of the NESum metric.\n",
        "\n",
        "  This metric is defined in \"Exploring the Gap between Collapsed & Whitened\n",
        "  Features in Self-Supervised Learning\". He & Ozay, ICML 2022. See Definition\n",
        "  4.1 from the paper for more details.\n",
        "\n",
        "  Args:\n",
        "    tensor (dense matrix): Input embeddings.\n",
        "    epsilon (float): Numerical epsilon.\n",
        "\n",
        "  Returns:\n",
        "    float: NESum metric value.\n",
        "  \"\"\"\n",
        "  cov_t = np.cov(tensor.T)\n",
        "  ei_t = np.linalg.eigvalsh(cov_t) + epsilon\n",
        "  return (ei_t / ei_t[-1]).sum()\n",
        "\n",
        "\n",
        "def alpha_req(\n",
        "    tensor,\n",
        "    s = None,\n",
        "    epsilon = 1e-12,\n",
        "    **_\n",
        "):\n",
        "  \"\"\"Implementation of the Alpha-ReQ metric.\n",
        "\n",
        "  This metric is defined in \"α-ReQ: Assessing representation quality in\n",
        "  self-supervised learning by measuring eigenspectrum decay\". Agrawal et al.,\n",
        "  NeurIPS 2022.\n",
        "\n",
        "  Args:\n",
        "    tensor (dense matrix): Input embeddings.\n",
        "    s (optional, dense vector): Singular values of `tensor`.\n",
        "    epsilon (float): Numerical epsilon.\n",
        "\n",
        "  Returns:\n",
        "    float: Alpha-ReQ metric value.\n",
        "  \"\"\"\n",
        "  if s is None:\n",
        "    s = np.linalg.svd(tensor, compute_uv=False)\n",
        "  n = s.shape[0]\n",
        "  s = s + epsilon\n",
        "  features = np.vstack([np.linspace(1, 0, n), np.ones(n)]).T\n",
        "  a, _, _, _ = np.linalg.lstsq(features, np.log(s), rcond=None)\n",
        "  return a[0]"
      ],
      "metadata": {
        "id": "EmBPrmpxKvP-"
      },
      "execution_count": null,
      "outputs": []
    },
    {
      "cell_type": "code",
      "source": [
        "PATH = '/content/drive/MyDrive/PTLS/data_ensemble_age_group/calc_a_and_b.pickle'\n",
        "a_corr = load_res(PATH)"
      ],
      "metadata": {
        "id": "UdP6Hg3kKvP_"
      },
      "execution_count": null,
      "outputs": []
    },
    {
      "cell_type": "code",
      "source": [
        "def calc_qualities(embeds):\n",
        "    '''\n",
        "    возвращает словарь с ключом - названием метрики, значением - массивом соответствующих значений\n",
        "    '''\n",
        "    metrics = []\n",
        "    for embed in embeds:\n",
        "      cur_embed = embed[0].values[:, :256]\n",
        "      results = report_all_metrics(cur_embed)\n",
        "      metrics.append(results)\n",
        "\n",
        "    return {key: np.array([d[key] for d in metrics])\n",
        "        for key in metrics[0].keys()}"
      ],
      "metadata": {
        "id": "-jl3iUHmKvP_"
      },
      "execution_count": null,
      "outputs": []
    },
    {
      "cell_type": "code",
      "source": [
        "PATH = '/content/drive/MyDrive/PTLS/data_ensemble_age_group/my_metrics_weights.pickle'\n",
        "results = load_res(PATH)\n",
        "n = 6"
      ],
      "metadata": {
        "id": "gN6uZRUOKvP_"
      },
      "execution_count": null,
      "outputs": []
    },
    {
      "cell_type": "code",
      "source": [
        "results"
      ],
      "metadata": {
        "colab": {
          "base_uri": "https://localhost:8080/"
        },
        "id": "iKYlVQ1FL9rj",
        "outputId": "e555bea8-0909-436f-aeb8-99be36af0dfa"
      },
      "execution_count": null,
      "outputs": [
        {
          "output_type": "execute_result",
          "data": {
            "text/plain": [
              "{}"
            ]
          },
          "metadata": {},
          "execution_count": 18
        }
      ]
    },
    {
      "cell_type": "code",
      "source": [
        "%%time\n",
        "for i in range(0, len(embeds), n):\n",
        "\n",
        "  results[i] = {}\n",
        "\n",
        "  tmp_emb = embeds[i:i+n].copy()  # [N, D]\n",
        "\n",
        "  corr_matrix = a_corr[i]['corr_matrix_CKA'] #[6,6]\n",
        "\n",
        "  qualities = calc_qualities(tmp_emb) # качество эмбеддингов\n",
        "\n",
        "  #берем только 3-4 метрики для быстроты\n",
        "  for metric in ['pseudo_condition_number', 'rankme', 'coherence', 'self_clustering']:\n",
        "\n",
        "    a = qualities[metric]\n",
        "\n",
        "    if metric == 'pseudo_condition_number': # чем ментше тем лучше\n",
        "      log_pcn = np.log10(a)\n",
        "      log_min = log_pcn.min()\n",
        "      log_max = log_pcn.max()\n",
        "      a = (log_pcn - log_min) / (log_max - log_min)\n",
        "    else:\n",
        "      #нормализуем\n",
        "      a = a/a.max()\n",
        "      #метрики показывают качество, нам нужна ошибка\n",
        "      a = [1 - i for i in a]\n",
        "\n",
        "    opt_weights = opt_full(a, corr_matrix)\n",
        "    results[i][f'opt_weights_{metric}'] = opt_weights\n",
        "\n",
        "    final_embeds_train, final_embeds_test = weight_embeds(tmp_emb, opt_weights)\n",
        "    metrs = calc_accuracy_of_combination(final_embeds_train, final_embeds_test)\n",
        "    results[i][f'opt_emb_metrs_{metric}'] = metrs\n",
        "    save_res(results, PATH)\n",
        "\n",
        "    clear_output()\n",
        "\n",
        "  print(f'Эксперимент {i}')\n",
        "  print(results[i])"
      ],
      "metadata": {
        "colab": {
          "base_uri": "https://localhost:8080/"
        },
        "outputId": "10c32065-124e-41ff-86d9-0bda4d27d500",
        "id": "k5z0Oa5bKvQA"
      },
      "execution_count": null,
      "outputs": [
        {
          "output_type": "stream",
          "name": "stdout",
          "text": [
            "Эксперимент 96\n",
            "{'opt_weights_pseudo_condition_number': array([2.89729282e-08, 9.50356334e-02, 1.85042983e-01, 1.76849165e-01,\n",
            "       2.54559031e-02, 5.17616287e-01]), 'opt_emb_metrs_pseudo_condition_number': {'Accuracy': 0.5128333333333334, 'F1 Score': 0.505326127110321, 'ROC-AUC': 0.7835897316880251}, 'opt_weights_rankme': array([6.10154919e-08, 1.72072563e-01, 2.38753271e-01, 1.62685242e-01,\n",
            "       4.23792489e-01, 2.69637465e-03]), 'opt_emb_metrs_rankme': {'Accuracy': 0.5083333333333333, 'F1 Score': 0.4984208642990574, 'ROC-AUC': 0.7692175576536155}, 'opt_weights_coherence': array([1.42471057e-01, 8.57645444e-02, 3.34293238e-01, 3.37939180e-09,\n",
            "       7.75097345e-07, 4.37470382e-01]), 'opt_emb_metrs_coherence': {'Accuracy': 0.52, 'F1 Score': 0.5130886277753125, 'ROC-AUC': 0.7829389874396627}, 'opt_weights_self_clustering': array([1.91532283e-01, 3.93656915e-02, 2.92016867e-01, 2.23250146e-01,\n",
            "       1.06747740e-06, 2.53833945e-01]), 'opt_emb_metrs_self_clustering': {'Accuracy': 0.5221666666666667, 'F1 Score': 0.5162937690677317, 'ROC-AUC': 0.7872554711578748}}\n",
            "CPU times: user 12h 20min 18s, sys: 59min 19s, total: 13h 19min 38s\n",
            "Wall time: 4h 14min 1s\n"
          ]
        }
      ]
    },
    {
      "cell_type": "code",
      "source": [
        "from google.colab import runtime\n",
        "runtime.unassign()"
      ],
      "metadata": {
        "id": "Yz9jKk4RKvQA"
      },
      "execution_count": null,
      "outputs": []
    },
    {
      "cell_type": "code",
      "source": [
        "import pandas as pd\n",
        "import numpy as np\n",
        "from matplotlib import pyplot as plt\n",
        "import pickle"
      ],
      "metadata": {
        "id": "JTdrfHdhKvQB"
      },
      "execution_count": null,
      "outputs": []
    },
    {
      "cell_type": "code",
      "source": [
        "PATH = '/content/drive/MyDrive/PTLS/data_ensemble_age_group/my_metrics_weights.pickle'\n",
        "results = load_res(PATH)"
      ],
      "metadata": {
        "colab": {
          "base_uri": "https://localhost:8080/"
        },
        "outputId": "b34194ee-1e09-43a8-a15a-4bc2708cc1c6",
        "id": "4MmMxZMsKvQB"
      },
      "execution_count": null,
      "outputs": [
        {
          "output_type": "stream",
          "name": "stderr",
          "text": [
            "<ipython-input-4-f10bc467a461>:4: DeprecationWarning: numpy.core.numeric is deprecated and has been renamed to numpy._core.numeric. The numpy._core namespace contains private NumPy internals and its use is discouraged, as NumPy internals can change without warning in any release. In practice, most real-world usage of numpy.core is to access functionality in the public NumPy API. If that is the case, use the public NumPy API. If not, you are using NumPy internals. If you would still like to access an internal attribute, use numpy._core.numeric._frombuffer.\n",
            "  results = pickle.load(handle)\n"
          ]
        }
      ]
    },
    {
      "cell_type": "code",
      "source": [
        "results[0].keys()"
      ],
      "metadata": {
        "colab": {
          "base_uri": "https://localhost:8080/"
        },
        "id": "1rH-6I0rJzmw",
        "outputId": "1488b209-9be2-4f29-ccbd-55a45e3fea65"
      },
      "execution_count": null,
      "outputs": [
        {
          "output_type": "execute_result",
          "data": {
            "text/plain": [
              "dict_keys(['opt_weights_pseudo_condition_number', 'opt_emb_metrs_pseudo_condition_number', 'opt_weights_rankme', 'opt_emb_metrs_rankme', 'opt_weights_coherence', 'opt_emb_metrs_coherence', 'opt_weights_self_clustering', 'opt_emb_metrs_self_clustering'])"
            ]
          },
          "metadata": {},
          "execution_count": 10
        }
      ]
    },
    {
      "cell_type": "markdown",
      "source": [
        "надем победителя по метрикам"
      ],
      "metadata": {
        "id": "f5HFiELxKvQC"
      }
    },
    {
      "cell_type": "code",
      "source": [
        "metr = 'Accuracy'\n",
        "# uniform = np.array([i['uniform_emb_metrs'][metr] for i in results.values()])\n",
        "rankme = np.array([i['opt_emb_metrs_rankme'][metr] for i in results.values()])\n",
        "coherence  = np.array([i['opt_emb_metrs_coherence'][metr] for i in results.values()])\n",
        "clustering  = np.array([i['opt_emb_metrs_self_clustering'][metr] for i in results.values()])\n",
        "pseudo_condition_number  = np.array([i['opt_emb_metrs_pseudo_condition_number'][metr] for i in results.values()])"
      ],
      "metadata": {
        "id": "On5siqv2KvQC"
      },
      "execution_count": null,
      "outputs": []
    },
    {
      "cell_type": "code",
      "source": [
        "PATH = '/content/drive/MyDrive/PTLS/data_ensemble_age_group/mean_perfomance.pickle'\n",
        "mean = load_res(PATH)\n",
        "mean_metrs = np.array([i[metr] for i in mean.values()])"
      ],
      "metadata": {
        "id": "d7jTX2PdJ7LD"
      },
      "execution_count": null,
      "outputs": []
    },
    {
      "cell_type": "markdown",
      "source": [
        "Сравниваем все метрики со средним"
      ],
      "metadata": {
        "id": "bWla9Tx-KO5p"
      }
    },
    {
      "cell_type": "code",
      "source": [
        "# Сравнение всех метрик с mean\n",
        "metrics = [\n",
        "    ('rankme', rankme),\n",
        "    ('coherence', coherence),\n",
        "    ('clustering', clustering),\n",
        "    ('pseudo_condition_number', pseudo_condition_number)\n",
        "]\n",
        "\n",
        "results = []\n",
        "for name, metric in metrics:\n",
        "    diff = (metric - mean_metrs) / mean_metrs\n",
        "    row = {\n",
        "        'Metric': name,\n",
        "        'Mean (%)': diff.mean() * 100,      # Относительное изменение в %\n",
        "        'Std (%)': diff.std() * 100,         # Стандартное отклонение в %\n",
        "        'Better (%)': (metric > mean_metrs).mean() * 100  # Процент случаев\n",
        "    }\n",
        "    results.append(row)\n",
        "\n",
        "# Создание и вывод таблицы\n",
        "df = pd.DataFrame(results)\n",
        "df"
      ],
      "metadata": {
        "colab": {
          "base_uri": "https://localhost:8080/",
          "height": 175
        },
        "id": "MsMIrJ-YKFYe",
        "outputId": "ff82b572-7126-43d3-cea5-96beacd38bbb"
      },
      "execution_count": null,
      "outputs": [
        {
          "output_type": "execute_result",
          "data": {
            "text/plain": [
              "                    Metric  Mean (%)   Std (%)  Better (%)\n",
              "0                   rankme -3.444348  4.468292   23.529412\n",
              "1                coherence -3.170850  6.492412   47.058824\n",
              "2               clustering -0.223205  2.986977   52.941176\n",
              "3  pseudo_condition_number -0.945163  4.510633   41.176471"
            ],
            "text/html": [
              "\n",
              "  <div id=\"df-f81f3726-a10c-4977-a8db-31d242ca7d1c\" class=\"colab-df-container\">\n",
              "    <div>\n",
              "<style scoped>\n",
              "    .dataframe tbody tr th:only-of-type {\n",
              "        vertical-align: middle;\n",
              "    }\n",
              "\n",
              "    .dataframe tbody tr th {\n",
              "        vertical-align: top;\n",
              "    }\n",
              "\n",
              "    .dataframe thead th {\n",
              "        text-align: right;\n",
              "    }\n",
              "</style>\n",
              "<table border=\"1\" class=\"dataframe\">\n",
              "  <thead>\n",
              "    <tr style=\"text-align: right;\">\n",
              "      <th></th>\n",
              "      <th>Metric</th>\n",
              "      <th>Mean (%)</th>\n",
              "      <th>Std (%)</th>\n",
              "      <th>Better (%)</th>\n",
              "    </tr>\n",
              "  </thead>\n",
              "  <tbody>\n",
              "    <tr>\n",
              "      <th>0</th>\n",
              "      <td>rankme</td>\n",
              "      <td>-3.444348</td>\n",
              "      <td>4.468292</td>\n",
              "      <td>23.529412</td>\n",
              "    </tr>\n",
              "    <tr>\n",
              "      <th>1</th>\n",
              "      <td>coherence</td>\n",
              "      <td>-3.170850</td>\n",
              "      <td>6.492412</td>\n",
              "      <td>47.058824</td>\n",
              "    </tr>\n",
              "    <tr>\n",
              "      <th>2</th>\n",
              "      <td>clustering</td>\n",
              "      <td>-0.223205</td>\n",
              "      <td>2.986977</td>\n",
              "      <td>52.941176</td>\n",
              "    </tr>\n",
              "    <tr>\n",
              "      <th>3</th>\n",
              "      <td>pseudo_condition_number</td>\n",
              "      <td>-0.945163</td>\n",
              "      <td>4.510633</td>\n",
              "      <td>41.176471</td>\n",
              "    </tr>\n",
              "  </tbody>\n",
              "</table>\n",
              "</div>\n",
              "    <div class=\"colab-df-buttons\">\n",
              "\n",
              "  <div class=\"colab-df-container\">\n",
              "    <button class=\"colab-df-convert\" onclick=\"convertToInteractive('df-f81f3726-a10c-4977-a8db-31d242ca7d1c')\"\n",
              "            title=\"Convert this dataframe to an interactive table.\"\n",
              "            style=\"display:none;\">\n",
              "\n",
              "  <svg xmlns=\"http://www.w3.org/2000/svg\" height=\"24px\" viewBox=\"0 -960 960 960\">\n",
              "    <path d=\"M120-120v-720h720v720H120Zm60-500h600v-160H180v160Zm220 220h160v-160H400v160Zm0 220h160v-160H400v160ZM180-400h160v-160H180v160Zm440 0h160v-160H620v160ZM180-180h160v-160H180v160Zm440 0h160v-160H620v160Z\"/>\n",
              "  </svg>\n",
              "    </button>\n",
              "\n",
              "  <style>\n",
              "    .colab-df-container {\n",
              "      display:flex;\n",
              "      gap: 12px;\n",
              "    }\n",
              "\n",
              "    .colab-df-convert {\n",
              "      background-color: #E8F0FE;\n",
              "      border: none;\n",
              "      border-radius: 50%;\n",
              "      cursor: pointer;\n",
              "      display: none;\n",
              "      fill: #1967D2;\n",
              "      height: 32px;\n",
              "      padding: 0 0 0 0;\n",
              "      width: 32px;\n",
              "    }\n",
              "\n",
              "    .colab-df-convert:hover {\n",
              "      background-color: #E2EBFA;\n",
              "      box-shadow: 0px 1px 2px rgba(60, 64, 67, 0.3), 0px 1px 3px 1px rgba(60, 64, 67, 0.15);\n",
              "      fill: #174EA6;\n",
              "    }\n",
              "\n",
              "    .colab-df-buttons div {\n",
              "      margin-bottom: 4px;\n",
              "    }\n",
              "\n",
              "    [theme=dark] .colab-df-convert {\n",
              "      background-color: #3B4455;\n",
              "      fill: #D2E3FC;\n",
              "    }\n",
              "\n",
              "    [theme=dark] .colab-df-convert:hover {\n",
              "      background-color: #434B5C;\n",
              "      box-shadow: 0px 1px 3px 1px rgba(0, 0, 0, 0.15);\n",
              "      filter: drop-shadow(0px 1px 2px rgba(0, 0, 0, 0.3));\n",
              "      fill: #FFFFFF;\n",
              "    }\n",
              "  </style>\n",
              "\n",
              "    <script>\n",
              "      const buttonEl =\n",
              "        document.querySelector('#df-f81f3726-a10c-4977-a8db-31d242ca7d1c button.colab-df-convert');\n",
              "      buttonEl.style.display =\n",
              "        google.colab.kernel.accessAllowed ? 'block' : 'none';\n",
              "\n",
              "      async function convertToInteractive(key) {\n",
              "        const element = document.querySelector('#df-f81f3726-a10c-4977-a8db-31d242ca7d1c');\n",
              "        const dataTable =\n",
              "          await google.colab.kernel.invokeFunction('convertToInteractive',\n",
              "                                                    [key], {});\n",
              "        if (!dataTable) return;\n",
              "\n",
              "        const docLinkHtml = 'Like what you see? Visit the ' +\n",
              "          '<a target=\"_blank\" href=https://colab.research.google.com/notebooks/data_table.ipynb>data table notebook</a>'\n",
              "          + ' to learn more about interactive tables.';\n",
              "        element.innerHTML = '';\n",
              "        dataTable['output_type'] = 'display_data';\n",
              "        await google.colab.output.renderOutput(dataTable, element);\n",
              "        const docLink = document.createElement('div');\n",
              "        docLink.innerHTML = docLinkHtml;\n",
              "        element.appendChild(docLink);\n",
              "      }\n",
              "    </script>\n",
              "  </div>\n",
              "\n",
              "\n",
              "<div id=\"df-5781f6e0-6c28-47cb-be3a-97839a40d419\">\n",
              "  <button class=\"colab-df-quickchart\" onclick=\"quickchart('df-5781f6e0-6c28-47cb-be3a-97839a40d419')\"\n",
              "            title=\"Suggest charts\"\n",
              "            style=\"display:none;\">\n",
              "\n",
              "<svg xmlns=\"http://www.w3.org/2000/svg\" height=\"24px\"viewBox=\"0 0 24 24\"\n",
              "     width=\"24px\">\n",
              "    <g>\n",
              "        <path d=\"M19 3H5c-1.1 0-2 .9-2 2v14c0 1.1.9 2 2 2h14c1.1 0 2-.9 2-2V5c0-1.1-.9-2-2-2zM9 17H7v-7h2v7zm4 0h-2V7h2v10zm4 0h-2v-4h2v4z\"/>\n",
              "    </g>\n",
              "</svg>\n",
              "  </button>\n",
              "\n",
              "<style>\n",
              "  .colab-df-quickchart {\n",
              "      --bg-color: #E8F0FE;\n",
              "      --fill-color: #1967D2;\n",
              "      --hover-bg-color: #E2EBFA;\n",
              "      --hover-fill-color: #174EA6;\n",
              "      --disabled-fill-color: #AAA;\n",
              "      --disabled-bg-color: #DDD;\n",
              "  }\n",
              "\n",
              "  [theme=dark] .colab-df-quickchart {\n",
              "      --bg-color: #3B4455;\n",
              "      --fill-color: #D2E3FC;\n",
              "      --hover-bg-color: #434B5C;\n",
              "      --hover-fill-color: #FFFFFF;\n",
              "      --disabled-bg-color: #3B4455;\n",
              "      --disabled-fill-color: #666;\n",
              "  }\n",
              "\n",
              "  .colab-df-quickchart {\n",
              "    background-color: var(--bg-color);\n",
              "    border: none;\n",
              "    border-radius: 50%;\n",
              "    cursor: pointer;\n",
              "    display: none;\n",
              "    fill: var(--fill-color);\n",
              "    height: 32px;\n",
              "    padding: 0;\n",
              "    width: 32px;\n",
              "  }\n",
              "\n",
              "  .colab-df-quickchart:hover {\n",
              "    background-color: var(--hover-bg-color);\n",
              "    box-shadow: 0 1px 2px rgba(60, 64, 67, 0.3), 0 1px 3px 1px rgba(60, 64, 67, 0.15);\n",
              "    fill: var(--button-hover-fill-color);\n",
              "  }\n",
              "\n",
              "  .colab-df-quickchart-complete:disabled,\n",
              "  .colab-df-quickchart-complete:disabled:hover {\n",
              "    background-color: var(--disabled-bg-color);\n",
              "    fill: var(--disabled-fill-color);\n",
              "    box-shadow: none;\n",
              "  }\n",
              "\n",
              "  .colab-df-spinner {\n",
              "    border: 2px solid var(--fill-color);\n",
              "    border-color: transparent;\n",
              "    border-bottom-color: var(--fill-color);\n",
              "    animation:\n",
              "      spin 1s steps(1) infinite;\n",
              "  }\n",
              "\n",
              "  @keyframes spin {\n",
              "    0% {\n",
              "      border-color: transparent;\n",
              "      border-bottom-color: var(--fill-color);\n",
              "      border-left-color: var(--fill-color);\n",
              "    }\n",
              "    20% {\n",
              "      border-color: transparent;\n",
              "      border-left-color: var(--fill-color);\n",
              "      border-top-color: var(--fill-color);\n",
              "    }\n",
              "    30% {\n",
              "      border-color: transparent;\n",
              "      border-left-color: var(--fill-color);\n",
              "      border-top-color: var(--fill-color);\n",
              "      border-right-color: var(--fill-color);\n",
              "    }\n",
              "    40% {\n",
              "      border-color: transparent;\n",
              "      border-right-color: var(--fill-color);\n",
              "      border-top-color: var(--fill-color);\n",
              "    }\n",
              "    60% {\n",
              "      border-color: transparent;\n",
              "      border-right-color: var(--fill-color);\n",
              "    }\n",
              "    80% {\n",
              "      border-color: transparent;\n",
              "      border-right-color: var(--fill-color);\n",
              "      border-bottom-color: var(--fill-color);\n",
              "    }\n",
              "    90% {\n",
              "      border-color: transparent;\n",
              "      border-bottom-color: var(--fill-color);\n",
              "    }\n",
              "  }\n",
              "</style>\n",
              "\n",
              "  <script>\n",
              "    async function quickchart(key) {\n",
              "      const quickchartButtonEl =\n",
              "        document.querySelector('#' + key + ' button');\n",
              "      quickchartButtonEl.disabled = true;  // To prevent multiple clicks.\n",
              "      quickchartButtonEl.classList.add('colab-df-spinner');\n",
              "      try {\n",
              "        const charts = await google.colab.kernel.invokeFunction(\n",
              "            'suggestCharts', [key], {});\n",
              "      } catch (error) {\n",
              "        console.error('Error during call to suggestCharts:', error);\n",
              "      }\n",
              "      quickchartButtonEl.classList.remove('colab-df-spinner');\n",
              "      quickchartButtonEl.classList.add('colab-df-quickchart-complete');\n",
              "    }\n",
              "    (() => {\n",
              "      let quickchartButtonEl =\n",
              "        document.querySelector('#df-5781f6e0-6c28-47cb-be3a-97839a40d419 button');\n",
              "      quickchartButtonEl.style.display =\n",
              "        google.colab.kernel.accessAllowed ? 'block' : 'none';\n",
              "    })();\n",
              "  </script>\n",
              "</div>\n",
              "    </div>\n",
              "  </div>\n"
            ],
            "application/vnd.google.colaboratory.intrinsic+json": {
              "type": "dataframe",
              "variable_name": "df",
              "summary": "{\n  \"name\": \"df\",\n  \"rows\": 4,\n  \"fields\": [\n    {\n      \"column\": \"Metric\",\n      \"properties\": {\n        \"dtype\": \"string\",\n        \"num_unique_values\": 4,\n        \"samples\": [\n          \"coherence\",\n          \"pseudo_condition_number\",\n          \"rankme\"\n        ],\n        \"semantic_type\": \"\",\n        \"description\": \"\"\n      }\n    },\n    {\n      \"column\": \"Mean (%)\",\n      \"properties\": {\n        \"dtype\": \"number\",\n        \"std\": 1.6036421038645294,\n        \"min\": -3.444348396885285,\n        \"max\": -0.22320503940041836,\n        \"num_unique_values\": 4,\n        \"samples\": [\n          -3.1708503292835686,\n          -0.9451626930471609,\n          -3.444348396885285\n        ],\n        \"semantic_type\": \"\",\n        \"description\": \"\"\n      }\n    },\n    {\n      \"column\": \"Std (%)\",\n      \"properties\": {\n        \"dtype\": \"number\",\n        \"std\": 1.438465283014234,\n        \"min\": 2.986977395239918,\n        \"max\": 6.492411598671427,\n        \"num_unique_values\": 4,\n        \"samples\": [\n          6.492411598671427,\n          4.510632593792048,\n          4.468291599655979\n        ],\n        \"semantic_type\": \"\",\n        \"description\": \"\"\n      }\n    },\n    {\n      \"column\": \"Better (%)\",\n      \"properties\": {\n        \"dtype\": \"number\",\n        \"std\": 12.70733470276051,\n        \"min\": 23.52941176470588,\n        \"max\": 52.94117647058824,\n        \"num_unique_values\": 4,\n        \"samples\": [\n          47.05882352941176,\n          41.17647058823529,\n          23.52941176470588\n        ],\n        \"semantic_type\": \"\",\n        \"description\": \"\"\n      }\n    }\n  ]\n}"
            }
          },
          "metadata": {},
          "execution_count": 15
        }
      ]
    },
    {
      "cell_type": "markdown",
      "source": [
        "## Вывод:\n",
        "1) при подстановке метрик качества результат не улучшается"
      ],
      "metadata": {
        "id": "vDl5txttLReO"
      }
    }
  ],
  "metadata": {
    "colab": {
      "machine_shape": "hm",
      "provenance": [],
      "gpuType": "T4"
    },
    "kernelspec": {
      "display_name": "Python 3",
      "name": "python3"
    },
    "language_info": {
      "name": "python"
    },
    "accelerator": "GPU"
  },
  "nbformat": 4,
  "nbformat_minor": 0
}