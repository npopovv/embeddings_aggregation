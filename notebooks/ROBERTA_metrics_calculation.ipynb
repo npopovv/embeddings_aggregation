{
 "cells": [
  {
   "cell_type": "code",
   "execution_count": null,
   "metadata": {
    "id": "FyoPY1A28SIh"
   },
   "outputs": [],
   "source": [
    "from IPython.display import clear_output\n",
    "import sys\n",
    "!pip install mteb\n",
    "!pip install -q transformers accelerate bitsandbytes\n",
    "! pip install git+https://github.com/simonzhang00/ripser-plusplus.git\n",
    "! pip install git+https://github.com/IlyaTrofimov/RTD.git\n",
    "!git clone https://github.com/mklabunde/resi.git\n",
    "# !cd resi && pip install -r requirements.txt && pip install -e .\n",
    "!pip install loguru\n",
    "!pip install git+https://github.com/KhrulkovV/geometry-score.git\n",
    "!pip install git+https://github.com/xgfs/imd.git\n",
    "!pip install gudhi\n",
    "!pip install hf_xet\n",
    "sys.path.append('/content/resi/')\n",
    "clear_output()"
   ]
  },
  {
   "cell_type": "code",
   "execution_count": null,
   "metadata": {
    "id": "RFn6B7RmlexD"
   },
   "outputs": [],
   "source": [
    "import torch\n",
    "from transformers import AutoTokenizer, AutoModel\n",
    "from datasets import load_dataset\n",
    "from tqdm.auto import tqdm\n",
    "import numpy as np\n",
    "from matplotlib import pyplot as plt\n",
    "import seaborn as sns\n",
    "import gc\n",
    "import os\n",
    "import cvxpy as cp\n",
    "\n",
    "\n",
    "from typing import List\n",
    "import mteb\n",
    "\n",
    "import numpy as np\n",
    "from tqdm.auto import tqdm\n",
    "import json\n",
    "\n",
    "\n",
    "from sklearn.decomposition import IncrementalPCA"
   ]
  },
  {
   "cell_type": "code",
   "execution_count": null,
   "metadata": {
    "colab": {
     "base_uri": "https://localhost:8080/"
    },
    "id": "F2fdL7YGZtxM",
    "outputId": "abd4f572-264e-426e-8ecf-75b4fc71c0bf"
   },
   "outputs": [
    {
     "name": "stderr",
     "output_type": "stream",
     "text": [
      "\u001b[32m2025-05-10 13:24:56.388\u001b[0m | \u001b[1mINFO    \u001b[0m | \u001b[36mrepsim.measures.rtd\u001b[0m:\u001b[36m__init__\u001b[0m:\u001b[36m56\u001b[0m - \u001b[1mRTD will use cuda devices to compute barcodes. It is not possible to specify which GPU directly. Use the CUDA_VISIBLE_DEVICES environment variable to specify which GPU to use.\u001b[0m\n",
      "\u001b[32m2025-05-10 13:24:56.389\u001b[0m | \u001b[1mINFO    \u001b[0m | \u001b[36mrepsim.measures.rtd\u001b[0m:\u001b[36m__init__\u001b[0m:\u001b[36m56\u001b[0m - \u001b[1mRTD will use cuda devices to compute barcodes. It is not possible to specify which GPU directly. Use the CUDA_VISIBLE_DEVICES environment variable to specify which GPU to use.\u001b[0m\n"
     ]
    }
   ],
   "source": [
    "from repsim.measures import ALL_MEASURES\n",
    "from repsim.measures import FUNCTIONAL_SIMILARITY_MEASURES\n",
    "\n",
    "import pickle\n",
    "def save_res(dct, path):\n",
    "  with open(path, 'wb') as handle:\n",
    "      pickle.dump(dct, handle, protocol=pickle.HIGHEST_PROTOCOL)\n",
    "\n",
    "def load_res(path):\n",
    "  try:\n",
    "    with open(path, 'rb') as handle:\n",
    "      results = pickle.load(handle)\n",
    "  except:\n",
    "    results = {}\n",
    "\n",
    "  return results"
   ]
  },
  {
   "cell_type": "code",
   "execution_count": null,
   "metadata": {
    "colab": {
     "base_uri": "https://localhost:8080/"
    },
    "id": "-jKfTZKWYU5K",
    "outputId": "8d940d0f-f082-4d8f-b647-2c56a1d9d2bb"
   },
   "outputs": [
    {
     "name": "stdout",
     "output_type": "stream",
     "text": [
      "Mounted at /content/drive/\n"
     ]
    }
   ],
   "source": [
    "from google.colab import drive\n",
    "drive.mount('/content/drive/')"
   ]
  },
  {
   "cell_type": "markdown",
   "metadata": {
    "id": "rU69WGfu887H"
   },
   "source": [
    "# Выбираем задачи из MTEB"
   ]
  },
  {
   "cell_type": "code",
   "execution_count": null,
   "metadata": {
    "id": "ylCou7tu_s9x"
   },
   "outputs": [],
   "source": [
    "TASKS = ['MassiveIntentClassification', 'CUADCovenantNotToSueLegalBenchClassification',\n",
    "         'FrenkEnClassification', 'LearnedHandsHousingLegalBenchClassification',\n",
    "         'WikipediaSolidStateColloidalClassification']"
   ]
  },
  {
   "cell_type": "markdown",
   "metadata": {
    "id": "8d5YHS4j_8Ee"
   },
   "source": [
    "## Классификация"
   ]
  },
  {
   "cell_type": "code",
   "execution_count": null,
   "metadata": {
    "id": "cTPUDPx5BFfu"
   },
   "outputs": [],
   "source": [
    "tasks_eng = mteb.get_tasks(task_types=[\"Classification\"], languages=['eng'])"
   ]
  },
  {
   "cell_type": "code",
   "execution_count": null,
   "metadata": {
    "id": "U2xXsufOBPAN"
   },
   "outputs": [],
   "source": [
    "# tasks_eng"
   ]
  },
  {
   "cell_type": "code",
   "execution_count": null,
   "metadata": {
    "id": "R73toKO-_3Ul"
   },
   "outputs": [],
   "source": [
    "banking = mteb.get_task('Banking77Classification')\n",
    "banking.load_data()"
   ]
  },
  {
   "cell_type": "code",
   "execution_count": null,
   "metadata": {
    "colab": {
     "base_uri": "https://localhost:8080/"
    },
    "id": "bkLSwDGXAAuF",
    "outputId": "d7365538-fc4f-4706-8171-80d1f1b5ebef"
   },
   "outputs": [
    {
     "data": {
      "text/plain": [
       "DatasetDict({\n",
       "    train: Dataset({\n",
       "        features: ['text', 'label', 'label_text'],\n",
       "        num_rows: 10003\n",
       "    })\n",
       "    test: Dataset({\n",
       "        features: ['text', 'label', 'label_text'],\n",
       "        num_rows: 3080\n",
       "    })\n",
       "})"
      ]
     },
     "execution_count": 7,
     "metadata": {},
     "output_type": "execute_result"
    }
   ],
   "source": [
    "banking.dataset"
   ]
  },
  {
   "cell_type": "code",
   "execution_count": null,
   "metadata": {
    "colab": {
     "base_uri": "https://localhost:8080/"
    },
    "id": "4GxKMtfNAmof",
    "outputId": "45224c22-5d15-4f32-d69e-2d9ec3ff377c"
   },
   "outputs": [
    {
     "data": {
      "text/plain": [
       "77"
      ]
     },
     "execution_count": 13,
     "metadata": {},
     "output_type": "execute_result"
    }
   ],
   "source": [
    "len(np.unique(banking.dataset['train']['label']))"
   ]
  },
  {
   "cell_type": "code",
   "execution_count": null,
   "metadata": {
    "colab": {
     "base_uri": "https://localhost:8080/",
     "height": 145,
     "referenced_widgets": [
      "42e354b617b8443daec3fe8d6b860c2b",
      "394a5e9531794b4ba54ff86597416a50",
      "33e4507dd2174e7a89a3d9e6afa3f030",
      "9faa1156fb5548a9b8bbe0dacb5cbab1",
      "5ed652b1418c4c6b9cf43e3cc50593ab",
      "dbda7ef1dd024f1faaa10d505894d126",
      "c7b2df219924494394d2d80d1fbed518",
      "2ca262f336834b1bad1372ee4d2fc38b",
      "302f623d2f15418a97c0faeb3c97a695",
      "87dcde3e79c14a55aaa8fd8e5954fde3",
      "90501239b6f9404286cd8297cba97088",
      "394537793b0a42119e8db504c36fa01a",
      "bef8a3fd91434866a75c3404d01e08f0",
      "797543c657d94f958c1fea694a783546",
      "33e7b903762c494c829d0846a34a9492",
      "1977fae4360f41c38d7aa8a775398581",
      "54185df06fd04874af93713bfc1e81f6",
      "da93d115d0de44f6b6ee1e749cf017e7",
      "4b0f1ed72858415cacc46093e21b4d29",
      "87ccd7ea53ef41ef99aaaa256fab95e2",
      "0c562c154bf7462aa57b044793519b8d",
      "955f9087db4b4cb69e7ad0e4e7514038",
      "ce221e011f5a4ee69d12a8222899e381",
      "d0585968758f46e2afc081b3e1404131",
      "9f721061ad354d0b96a57ed1e002f047",
      "af482e7833074f148728d74df10066c9",
      "99026a5479b24c3e822121512b997a6b",
      "7a03f49d52b8444ea91bf17565ebf893",
      "82fcc60a1cf947339d2ddfb8572d80bc",
      "91fd0999856547c68ada1b30b6e87ad2",
      "e020d7ea7434497f9dd680fbf27a9663",
      "16b5ac076fa744eaad113d752121c931",
      "6c6812fd53994810a87c4eeb32184bfe",
      "61f99ad4fc704fd3a89005f560111637",
      "8bdb0eb4786846b4a6c32331fdc8442d",
      "0aeaa0bc5ea5431ca666ce582a66daef",
      "eaeb56fbaa334d47984f7dc435978efb",
      "bee290f461d04c8faad0abcb63b395cb",
      "f21f2857f4fb4280bd20091126cc2fa7",
      "517a1900cca64346bb361299ca84afe2",
      "4a577884dcfb41fd9fde559349a9b3c9",
      "ada79b8a02384287a45fd5145a71c235",
      "4294606ae31e484eae1efc4b23a31eb9",
      "90eadd99ca0b438da5e57d027738e3bd"
     ]
    },
    "id": "YRYpIUuf8_yn",
    "outputId": "a5cb0ae0-75a5-4fd7-a548-f1ff449d50c3"
   },
   "outputs": [
    {
     "data": {
      "application/vnd.jupyter.widget-view+json": {
       "model_id": "42e354b617b8443daec3fe8d6b860c2b",
       "version_major": 2,
       "version_minor": 0
      },
      "text/plain": [
       "Downloading data:   0%|          | 0.00/34.5M [00:00<?, ?B/s]"
      ]
     },
     "metadata": {},
     "output_type": "display_data"
    },
    {
     "data": {
      "application/vnd.jupyter.widget-view+json": {
       "model_id": "394537793b0a42119e8db504c36fa01a",
       "version_major": 2,
       "version_minor": 0
      },
      "text/plain": [
       "Downloading data:   0%|          | 0.00/33.7M [00:00<?, ?B/s]"
      ]
     },
     "metadata": {},
     "output_type": "display_data"
    },
    {
     "data": {
      "application/vnd.jupyter.widget-view+json": {
       "model_id": "ce221e011f5a4ee69d12a8222899e381",
       "version_major": 2,
       "version_minor": 0
      },
      "text/plain": [
       "Generating train split: 0 examples [00:00, ? examples/s]"
      ]
     },
     "metadata": {},
     "output_type": "display_data"
    },
    {
     "data": {
      "application/vnd.jupyter.widget-view+json": {
       "model_id": "61f99ad4fc704fd3a89005f560111637",
       "version_major": 2,
       "version_minor": 0
      },
      "text/plain": [
       "Generating test split: 0 examples [00:00, ? examples/s]"
      ]
     },
     "metadata": {},
     "output_type": "display_data"
    }
   ],
   "source": [
    "imdb = mteb.get_task('ImdbClassification')\n",
    "imdb.load_data()"
   ]
  },
  {
   "cell_type": "code",
   "execution_count": null,
   "metadata": {
    "colab": {
     "base_uri": "https://localhost:8080/"
    },
    "id": "1kQHDOzsAgnR",
    "outputId": "a81917d2-e9cf-4504-e96b-7ec7019c1de3"
   },
   "outputs": [
    {
     "data": {
      "text/plain": [
       "DatasetDict({\n",
       "    train: Dataset({\n",
       "        features: ['text', 'label', 'label_text'],\n",
       "        num_rows: 25000\n",
       "    })\n",
       "    test: Dataset({\n",
       "        features: ['text', 'label', 'label_text'],\n",
       "        num_rows: 25000\n",
       "    })\n",
       "})"
      ]
     },
     "execution_count": 10,
     "metadata": {},
     "output_type": "execute_result"
    }
   ],
   "source": [
    "imdb.dataset"
   ]
  },
  {
   "cell_type": "code",
   "execution_count": null,
   "metadata": {
    "colab": {
     "base_uri": "https://localhost:8080/"
    },
    "id": "6orhhUbHAh1z",
    "outputId": "7f916547-6e47-4eeb-8395-6dad1541b4ec"
   },
   "outputs": [
    {
     "data": {
      "text/plain": [
       "2"
      ]
     },
     "execution_count": 14,
     "metadata": {},
     "output_type": "execute_result"
    }
   ],
   "source": [
    "len(np.unique(imdb.dataset['train']['label']))"
   ]
  },
  {
   "cell_type": "code",
   "execution_count": null,
   "metadata": {
    "colab": {
     "base_uri": "https://localhost:8080/",
     "height": 277,
     "referenced_widgets": [
      "d7f6a08f4160475898f40cad47119d3e",
      "b2241aa92d764f3bb9c150df1f15e403",
      "8e88b96d2447439daaa16e75d0cbedce",
      "5a148d1d86e0467fa9c043b5224a1e13",
      "773528236d9e464781eda9df58080cc9",
      "b4f9091d56a64cc59b1223b743a68307",
      "4c78a2597e424fea8bb2edae4ac020de",
      "f0ae7ce193c64bf38ddbac6767e3e2a5",
      "099e381e0b6b45a0bf04dfef7e26c1cf",
      "19e633e551404dd9bbbb10f6b1791111",
      "fa8561b7998d48768a4f8ab0b6be604c",
      "e78c62ede8d640b4b5994f045aec1101",
      "0c881e9e4d494f87b57da3c50cf2b1e1",
      "db47519bb21c42c5ae9a71b2a9610e4c",
      "488417b997244d0f89c0928e7214f6c9",
      "c1843d0a8e5c44bca55fcae86a356529",
      "e03c9573f42f4e63b940272dfed847f6",
      "054e17451a0b419db0824947d6ca2a31",
      "4be96c1475234569b7fea61a7f55b8f2",
      "696873707e754746919d79341321eb45",
      "bb60b36defd84f3da3d7f5b136b97ef9",
      "2020c78dc0d84aeb8cf17da5826cc3c0",
      "dcde9a0625b94428ae6d130cf0ae1f3f",
      "3d030fb31cb64c5fba4f955e5e938d65",
      "8eb5185f52fd4833ac6ddab657605d20",
      "e8a1e6a018594842895c5b3c94b9e912",
      "30f7e18a4a5a42d193d480129b92ca4c",
      "7f37f335ea114a679ab08cffd1da4343",
      "2231ebccaa3a4fce8d9e72b38fee97fe",
      "a4a9b51f49a74e41841d6f7c3642f27e",
      "055b7d45802e48c1800e1ffd5a37489d",
      "942df619d3cd4051ab86afe30a5979cc",
      "8fa1dea25b0f4c199702df8efb487560",
      "04d10a841b434d9e90aec1420e3fba89",
      "539338ba02e0459b908e3997ceab6e13",
      "0a0508c7c34b4fa19076cf1fe7de5e19",
      "9a038b0b7a664dcaad622f3b0d45c491",
      "ad66772c71d7431e8899652d54f0da6f",
      "bd2007445acd4b1f925580d3779c00e6",
      "af743d8bbb6344de88fed7526f3df8c0",
      "0378e8ad81a041b78b5f4c28bd4553fe",
      "0013775c96cd4b789314a4af4772d649",
      "41af9084b0ca4ac487ba78e1021807e5",
      "846f70a3b8d7480bbf4e479d46e70334",
      "1628b169af044fd081bd2bf1f90a0ed7",
      "dc9fc8cd4bdf45e1825314d3cd084372",
      "f541ad68490a41d9ba77978f9ab2d974",
      "d3ff26d6e90d484ca38872dea6bc883a",
      "1051fb0fc1034a6ab16b117f48bd24b2",
      "0f9abb0c29da4adbb3d1022ccca2db12",
      "c4a050b8d75742e6a4729a05a61a86dd",
      "047bda25debb4bf6bf3002ab78377873",
      "52fbfd96b6374adbb41883fec7fabff8",
      "ec81c65b43a942fe8010d11acd8a99f1",
      "d0d6a977e3f04567ba8d40328c04b124",
      "71066810fa3641a7a752904fe442845f",
      "26a6ed769d394fff892ed9a205c09497",
      "c5203462dcc74770b274bfe7ff350874",
      "39200f3875ec48c8bbf0446abc253bdd",
      "1f1e6710573849079c4efdaed09d1359",
      "ec01ae21907341969a65e053091c60b8",
      "7ccd131d539d4745936fa5bdea4c2f33",
      "d8d6c10868c0422faad32d09f95b24c4",
      "b2fd4bd8e4294315a799a8893ea7d7a5",
      "fbfa8fb0efdb443ca70b0994a5ac91ec",
      "b3eb70cff91441eb95db9b4d166e3a04",
      "6a2273d1a7f94c8a896da74681089434",
      "3f55f949fb03482793c970804cb6678f",
      "e4ead7da11c144fc814ecbed4606108e",
      "9646993794a24987b4559448d714cc42",
      "4ae0f33d820142ab945c5b58a7f1cead",
      "ad1e119e23d3404ab8aefb74818b4b78",
      "7e069ea9a3204ca88486b5cf956c82fd",
      "562b14dddee94115836a75c2f9e47360",
      "4b73d5e91b4144c58dd1865e879af81b",
      "4a932c4c9ee640f6bd9c4364eeee4201",
      "978175ce62e4463397d0001d118284b8"
     ]
    },
    "id": "a758k66yAxOy",
    "outputId": "0ec0e457-476c-4fd5-a66a-233a9a935afb"
   },
   "outputs": [
    {
     "data": {
      "application/vnd.jupyter.widget-view+json": {
       "model_id": "d7f6a08f4160475898f40cad47119d3e",
       "version_major": 2,
       "version_minor": 0
      },
      "text/plain": [
       "Downloading readme:   0%|          | 0.00/194 [00:00<?, ?B/s]"
      ]
     },
     "metadata": {},
     "output_type": "display_data"
    },
    {
     "name": "stderr",
     "output_type": "stream",
     "text": [
      "Repo card metadata block was not found. Setting CardData to empty.\n",
      "WARNING:huggingface_hub.repocard:Repo card metadata block was not found. Setting CardData to empty.\n"
     ]
    },
    {
     "data": {
      "application/vnd.jupyter.widget-view+json": {
       "model_id": "e78c62ede8d640b4b5994f045aec1101",
       "version_major": 2,
       "version_minor": 0
      },
      "text/plain": [
       "Downloading data:   0%|          | 0.00/2.23M [00:00<?, ?B/s]"
      ]
     },
     "metadata": {},
     "output_type": "display_data"
    },
    {
     "data": {
      "application/vnd.jupyter.widget-view+json": {
       "model_id": "dcde9a0625b94428ae6d130cf0ae1f3f",
       "version_major": 2,
       "version_minor": 0
      },
      "text/plain": [
       "Downloading data:   0%|          | 0.00/276k [00:00<?, ?B/s]"
      ]
     },
     "metadata": {},
     "output_type": "display_data"
    },
    {
     "data": {
      "application/vnd.jupyter.widget-view+json": {
       "model_id": "04d10a841b434d9e90aec1420e3fba89",
       "version_major": 2,
       "version_minor": 0
      },
      "text/plain": [
       "Downloading data:   0%|          | 0.00/279k [00:00<?, ?B/s]"
      ]
     },
     "metadata": {},
     "output_type": "display_data"
    },
    {
     "data": {
      "application/vnd.jupyter.widget-view+json": {
       "model_id": "1628b169af044fd081bd2bf1f90a0ed7",
       "version_major": 2,
       "version_minor": 0
      },
      "text/plain": [
       "Generating train split: 0 examples [00:00, ? examples/s]"
      ]
     },
     "metadata": {},
     "output_type": "display_data"
    },
    {
     "data": {
      "application/vnd.jupyter.widget-view+json": {
       "model_id": "71066810fa3641a7a752904fe442845f",
       "version_major": 2,
       "version_minor": 0
      },
      "text/plain": [
       "Generating validation split: 0 examples [00:00, ? examples/s]"
      ]
     },
     "metadata": {},
     "output_type": "display_data"
    },
    {
     "data": {
      "application/vnd.jupyter.widget-view+json": {
       "model_id": "6a2273d1a7f94c8a896da74681089434",
       "version_major": 2,
       "version_minor": 0
      },
      "text/plain": [
       "Generating test split: 0 examples [00:00, ? examples/s]"
      ]
     },
     "metadata": {},
     "output_type": "display_data"
    }
   ],
   "source": [
    "emotion = mteb.get_task('EmotionClassification')\n",
    "emotion.load_data()"
   ]
  },
  {
   "cell_type": "code",
   "execution_count": null,
   "metadata": {
    "colab": {
     "base_uri": "https://localhost:8080/"
    },
    "id": "UitDXoL7BUcf",
    "outputId": "9e2bf996-840c-4315-e631-212d2aff77b7"
   },
   "outputs": [
    {
     "data": {
      "text/plain": [
       "DatasetDict({\n",
       "    train: Dataset({\n",
       "        features: ['text', 'label', 'label_text'],\n",
       "        num_rows: 16000\n",
       "    })\n",
       "    validation: Dataset({\n",
       "        features: ['text', 'label', 'label_text'],\n",
       "        num_rows: 2000\n",
       "    })\n",
       "    test: Dataset({\n",
       "        features: ['text', 'label', 'label_text'],\n",
       "        num_rows: 2000\n",
       "    })\n",
       "})"
      ]
     },
     "execution_count": 19,
     "metadata": {},
     "output_type": "execute_result"
    }
   ],
   "source": [
    "emotion.dataset"
   ]
  },
  {
   "cell_type": "code",
   "execution_count": null,
   "metadata": {
    "colab": {
     "base_uri": "https://localhost:8080/"
    },
    "id": "U2x4FU4NBV_n",
    "outputId": "7a3e7cc4-7363-4b45-e977-2ba6ff6f9558"
   },
   "outputs": [
    {
     "data": {
      "text/plain": [
       "6"
      ]
     },
     "execution_count": 20,
     "metadata": {},
     "output_type": "execute_result"
    }
   ],
   "source": [
    "len(np.unique(emotion.dataset['train']['label']))"
   ]
  },
  {
   "cell_type": "code",
   "execution_count": null,
   "metadata": {
    "id": "AtU09AFzBXtx"
   },
   "outputs": [],
   "source": []
  },
  {
   "cell_type": "markdown",
   "metadata": {
    "id": "qbtnXHvJCuui"
   },
   "source": [
    "## Retrieval"
   ]
  },
  {
   "cell_type": "code",
   "execution_count": null,
   "metadata": {
    "id": "NeJ9mPjjCxNe"
   },
   "outputs": [],
   "source": [
    "tasks_eng = mteb.get_tasks(task_types=[\"Retrieval\"], languages=['eng'])"
   ]
  },
  {
   "cell_type": "code",
   "execution_count": null,
   "metadata": {
    "id": "f9k9PqMgC0wx"
   },
   "outputs": [],
   "source": [
    "# tasks_eng"
   ]
  },
  {
   "cell_type": "code",
   "execution_count": null,
   "metadata": {
    "colab": {
     "base_uri": "https://localhost:8080/",
     "height": 241,
     "referenced_widgets": [
      "cd9547bca5694455a17dc2af813dc35f",
      "48fae90d094a433795e77038465c4fd9",
      "d138a925e23f4e149e1434baeba989b4",
      "b7f9607f32874e7582e71116c1c31bc2",
      "3a572d7b0e6a46289e037ad063209c6f",
      "2a12d10ac4104d1aa579acf4d2db3f2b",
      "6b14b817dfed437ea4de07915067d463",
      "ec3682b6d2a3486fa8fa650abdb59176",
      "8fa353aadc38475789f320f873b54643",
      "c2bb3322aa8e4f7ebe4a82b08a970339",
      "0b02cbf7d44f4e8bbf747b391bad1546",
      "806b8c1d0c6947148e7cb8e9b9304147",
      "e590a48c78c04d08a204e45d4f2fdde8",
      "d77fdf2d8e194b2dbbe96d1978bbed82",
      "9196fbbe15fa4ec2bdd07a832c2b0c5e",
      "3be1236e3a0d47749a194f4a01c50bc6",
      "5fe81e3eede04089ae31cd6e90736588",
      "0488c4eb2e0843bf9c5e348a412f1ac1",
      "2ec152f112d7473d96eb61830d224f47",
      "4ef083d2925346ebb2566ac52061958c",
      "0ddef23bcfe84232a052920ecaed6b5e",
      "2eb15e7dab634f3b8bb948d2832f47e0",
      "a83fa72bd9634c56a7ce185c18bc19c4",
      "bf0acece73f742beb2860d27ca4dc1f3",
      "67925775593546e48ebb3ba26af65338",
      "681520428e864569a7833a0a1dbd3224",
      "bf034f22ddbe464a8146e4cd9f81a360",
      "548ccf8d4d404f3cab0b9661d399b464",
      "f2da8083e32f40b2ae4624d8091a6caa",
      "474b2ea412244bf795df9b9c1512df8f",
      "12fe8dee16fa4b64bd39524714b390ca",
      "3e2c194f090a4eb09e76d560f8c3a418",
      "f56ef61b944944328e24d78b8de59cb2",
      "66e33ba9065d45779a7b5646cf13dff6",
      "52975329c965486fbd85d808ade5978d",
      "b06025a07f824332b0118442029805e5",
      "38af4558e00e4f0488d567f161f87afa",
      "1e72c3f09993400b93692e730892a258",
      "42377dfcd0ef4eb2a2b13baaa6d5259d",
      "700d2e76e9ec40cca8d43a67e49acac4",
      "6389d053080f4a71a08d1ecb51c57af0",
      "74dcd5cc21044a5fba22748947bf7ca0",
      "c3206a780b934e648282f8e969a63b55",
      "4ba86daad95c40d8a378d46c914a61ac",
      "ed1d584679eb475eb68f887302c8849b",
      "026fa0e42b7f4d99a7350f226b6bbc2e",
      "bffc7d66595641df97d2194eaf1bc314",
      "cc739332812e44d2b3055589c4906373",
      "81c28782ba14412ab9dbd3c92147a52e",
      "05bb194599d34cbb89895999abf5d719",
      "e9314566326c450786620d9ddcd96b71",
      "e7c7a7ccb2234d0888b64efb97be2334",
      "2403958c98a64ef593fc665cce70e8d1",
      "a49d239f5b1a4a5b89fcefe0d8ecf098",
      "234fb3dcd6a2408c96a44621dadfb1e4",
      "41f5c1fbc77746a1974e17693e8af46b",
      "f433e68b7cab476b877cf7f46516aa83",
      "5d8526c90fe94989afd383edc1c83d57",
      "6f9bbe0c7f5e42ee8a8f9a6760f24aca",
      "267e1c6c43f74ea78b0da1df5951da32",
      "571c067cb18e4860b6a11774651f87ce",
      "65b0935e15ba4dd2b6e480d4ebee9950",
      "8984f4fd7b99440594b92ca45bca4d75",
      "c753bb1eee5242a3a8f6d486652fc44b",
      "74807c84d9a74cdd85d89d36fc47a025",
      "588ef1c2faae4bf495fad0ef64850bb1",
      "70cd1e2ee0c847e4b5af86495d2c6175",
      "7f5dc98d9d9d437ebd9c9c76dfdbd783",
      "9fe0fee5410d4d01925be62c81323eb4",
      "3a58391280e44108a753df6dca3b8208",
      "1e4ee1e26ee34302ae676751fe25e5e7",
      "7b9ab0fbe67b45b1afa9f5f449012e65",
      "a63582da30ab4cbe936157f30a009c47",
      "bb81be68d0b14d7da9e37b0e471d06b5",
      "98c94cc2116e4f819afa773d9938aa77",
      "4296656da5914e78a72eb2ef2733b11b",
      "f399c48fc7a744aea8d5489994710ce9"
     ]
    },
    "id": "UNxtezK3FEti",
    "outputId": "3012f24c-11bf-486f-caaa-79f63cbc8388"
   },
   "outputs": [
    {
     "data": {
      "application/vnd.jupyter.widget-view+json": {
       "model_id": "cd9547bca5694455a17dc2af813dc35f",
       "version_major": 2,
       "version_minor": 0
      },
      "text/plain": [
       "Downloading readme:   0%|          | 0.00/7.58k [00:00<?, ?B/s]"
      ]
     },
     "metadata": {},
     "output_type": "display_data"
    },
    {
     "data": {
      "application/vnd.jupyter.widget-view+json": {
       "model_id": "806b8c1d0c6947148e7cb8e9b9304147",
       "version_major": 2,
       "version_minor": 0
      },
      "text/plain": [
       "Downloading data:   0%|          | 0.00/11.4M [00:00<?, ?B/s]"
      ]
     },
     "metadata": {},
     "output_type": "display_data"
    },
    {
     "data": {
      "application/vnd.jupyter.widget-view+json": {
       "model_id": "a83fa72bd9634c56a7ce185c18bc19c4",
       "version_major": 2,
       "version_minor": 0
      },
      "text/plain": [
       "Downloading data:   0%|          | 0.00/34.3k [00:00<?, ?B/s]"
      ]
     },
     "metadata": {},
     "output_type": "display_data"
    },
    {
     "data": {
      "application/vnd.jupyter.widget-view+json": {
       "model_id": "66e33ba9065d45779a7b5646cf13dff6",
       "version_major": 2,
       "version_minor": 0
      },
      "text/plain": [
       "Downloading data:   0%|          | 0.00/16.0k [00:00<?, ?B/s]"
      ]
     },
     "metadata": {},
     "output_type": "display_data"
    },
    {
     "data": {
      "application/vnd.jupyter.widget-view+json": {
       "model_id": "ed1d584679eb475eb68f887302c8849b",
       "version_major": 2,
       "version_minor": 0
      },
      "text/plain": [
       "Generating corpus split: 0 examples [00:00, ? examples/s]"
      ]
     },
     "metadata": {},
     "output_type": "display_data"
    },
    {
     "data": {
      "application/vnd.jupyter.widget-view+json": {
       "model_id": "41f5c1fbc77746a1974e17693e8af46b",
       "version_major": 2,
       "version_minor": 0
      },
      "text/plain": [
       "Generating queries split: 0 examples [00:00, ? examples/s]"
      ]
     },
     "metadata": {},
     "output_type": "display_data"
    },
    {
     "data": {
      "application/vnd.jupyter.widget-view+json": {
       "model_id": "70cd1e2ee0c847e4b5af86495d2c6175",
       "version_major": 2,
       "version_minor": 0
      },
      "text/plain": [
       "Generating qrels split: 0 examples [00:00, ? examples/s]"
      ]
     },
     "metadata": {},
     "output_type": "display_data"
    }
   ],
   "source": [
    "wiki = mteb.get_task('LEMBWikimQARetrieval')\n",
    "wiki.load_data()"
   ]
  },
  {
   "cell_type": "code",
   "execution_count": null,
   "metadata": {
    "id": "eUV7EHvfFHfi"
   },
   "outputs": [],
   "source": [
    "corpus = wiki.corpus"
   ]
  },
  {
   "cell_type": "code",
   "execution_count": null,
   "metadata": {
    "colab": {
     "base_uri": "https://localhost:8080/"
    },
    "id": "i6X5EUAHGL3z",
    "outputId": "639f9095-7fc7-49cc-c33e-9936cb3373cd"
   },
   "outputs": [
    {
     "data": {
      "text/plain": [
       "dict_keys(['test'])"
      ]
     },
     "execution_count": 42,
     "metadata": {},
     "output_type": "execute_result"
    }
   ],
   "source": [
    "corpus.keys()"
   ]
  },
  {
   "cell_type": "code",
   "execution_count": null,
   "metadata": {
    "colab": {
     "base_uri": "https://localhost:8080/"
    },
    "id": "NwHRw-A-GQ1I",
    "outputId": "4b9e1c79-4a10-47e2-9bce-aae17b747ce6"
   },
   "outputs": [
    {
     "data": {
      "text/plain": [
       "300"
      ]
     },
     "execution_count": 48,
     "metadata": {},
     "output_type": "execute_result"
    }
   ],
   "source": [
    "len(corpus['test'].keys())"
   ]
  },
  {
   "cell_type": "code",
   "execution_count": null,
   "metadata": {
    "colab": {
     "base_uri": "https://localhost:8080/",
     "height": 182
    },
    "id": "BquWvgU7F00v",
    "outputId": "92acbcd6-8f1e-463f-d54d-4bb50c52a4ff"
   },
   "outputs": [
    {
     "data": {
      "application/vnd.google.colaboratory.intrinsic+json": {
       "type": "string"
      },
      "text/plain": [
       "\"Passage 1:\\nMargaret, Countess of Brienne\\nMarguerite d'Enghien (born 1365 - d. after 1394), was the ruling suo jure Countess of Brienne and of Conversano, suo jure Lady of Enghien, and Lady of Beauvois from 1394 until an unknown date.\\n\\nLife\\nMarguerite was born in 1365, the eldest daughter of Louis of Enghien, Count of Brienne and Conversano, Lord of Enghien, Titular Duke of Athens, and Giovanna of Sanseverino. Marguerite had a brother, Antoine who died at the age of sixteen, leaving her, the eldest daughter, heir to her father's estates and titles.  \\nShe inherited the counties of Brienne and of Conversano, and the Lordship of Enghien from her father Louis of Enghien on 17 March 1394. She was the wife of John of Luxembourg, Sire of Beauvois and the mother of Peter of Luxembourg, Count of Saint-Pol, Count of Brienne and of Conversano who inherited her fiefs, and John II of Luxembourg, Count of Ligny.\\n\\nReign\\nMarguerite became the suo jure Countess of Brienne and Conversano, and Dame of Enghien upon her father's death on 17 March 1394. Her husband John also became Count of Brienne and of Conversano by right of his wife.She died on an unknown date sometime after 1394. Her will was dated 19 September 1393. Her eldest son, Peter received her titles of Brienne and of Conversano.\\n\\nMarriages and issue\\nOn an unknown date, Marguerite married  her first husband, Pierre de Baux, and following his death, she married as her second husband, a relative of her mother, Giacopo of Sanseverino. Both of these early marriages were childless. \\nIn 1380, after Giacopo's death, Marguerite married her third husband, John of Luxembourg, Sire of Beauvois (1370–1397).  He was the son of Guy of Luxembourg, Count of Saint-Pol and Mahaut of Châtillon, Countess of Saint-Pol. By her third husband, Marguerite had five children:\\nPeter of Luxembourg (1390–31 August 1433), Count of Saint-Pol (1430), which he inherited from his aunt Jeanne of Luxembourg, Countess of Saint-Pol and Ligny; he also inherited, on an unknown date, Marguerite's fiefs of Brienne and of Conversano, thus becoming Count of Brienne and of Conversano. He married on 8 May 1405, Margaret de Baux, by whom he had nine children, including Jacquetta of Luxembourg, mother of Elizabeth Woodville Queen-Consort of Edward IV of England.\\nJohn II of Luxembourg, Count of Ligny (1392–5 January 1441), inherited the title of Beauvois from his father, and the title of Ligny from his aunt, Jeanne of Luxembourg. On 23 November 1418, married Jeanne de Béthune, widow of Robert of Bar, Count of Marle and Soissons who had been killed at the Battle of Agincourt on 25 October 1415. John, who was an ally of the English during the Hundred Years War, received Joan of Arc as his prisoner, and subsequently sold her to the English for 10,000 livres.\\nLouis of Luxembourg (died 18 September 1443). He was a statesman and a high-ranking churchman. His posts and clerical titles included Cardinal (1439), Archbishop of Rouen (1437), Chancellor of France (1425), Governor of Paris (1436), Bishop of Thérouanne, Administrator of Ely (1437), Bishop of Frascati (1442). He was buried in Ely Cathedral.\\nCatherine of Luxembourg (born c. 1393)\\nJeanne of Luxembourg (died 1420), married firstly, on 8 September 1415, Louis, Seigneur de Ghistelles (killed at the Battle of Agincourt); she married secondly on 28 October 1419, Jean IV, Viscount of Melun, Constable of Flanders.\\nPassage 2:\\nNocher II, Count of Soissons\\nNocher II (died 1019), Count of Bar-sur-Aube, Count of Soissons. He was the son of Nocher I, Count of Bar-sur-Aube. Nocher's brother Beraud (d. 1052) was Bishop of Soissons.Nocher became Count of Soissons, jure uxoris, upon his marriage to Adelise, Countess of Soissons.  Nocher and Adelisa had three children:\\n\\nNocher III (d. 1040), Count of Bar-sur-Aube, had at least two daughters by unknown wife:\\nAdèle (d. 1053), Countess of Bar-sur-Aube\\nIsabeau\\nGuy, archbishop of Reims\\nRenaud I, Count of SoissonsNocher's son and namesake became Count of Bar-sur-Aube upon his death, and the countship of Soissons reverted to his wife.  His son Renaud would eventually become the Count of Soissons.\\nPassage 3:\\nAdelaide, Countess of Soissons\\nAdelaide (died 1105), was sovereign Countess of Soissons from 1057 until 1105.\\nShe was the daughter of Renaud I, Count of Soissons, and his wife, whose name is unknown, widow of Hilduin III, Count of Montdidier. .\\nAdelaide became ruler of the County of Soissons upon the death of her father and brother, Guy II, Count of Soissons, in 1057.\\nAdelaide married William Busac, Count of Eu, grandson of Richard I, Duke of Normandy.  Adelaide and William had five children:\\n\\nRenaud II, Count of Soissons\\nJohn I, Count of Soissons, married to Aveline de Pierrefonds\\nManasses of Soissons, Bishop of Cambrai, Bishop of Soissons\\nLithuise de Blois, married to Milo I of Montlhéry\\nUnnamed daughter, married to Yves le Vieux.William Busac became Count of Soissons, de jure uxoris, upon their marriage.\\n\\nNotes\\nSources\\nDormay, C., Histoire de la ville de Soissons et de ses rois, ducs, comtes et gouverneurs, Soissons, 1664 (available on Google Books)\\nPassage 4:\\nMargaret, Countess of Soissons\\nMargaret (or Margaretha) of Soissons (died ca. 1350) was ruling Countess of Soissons in 1305-1344. She was the only daughter of Hugh, Count of Soissons, and Johanna of Argies. In 1306 she succeeded her father as Countess of Soissons.\\nMargaret was married to John of Beaumont, son of John II, Count of Holland. Margaret and John had five children:\\n\\nJohanna of Hainault (1323–1350), married first to Louis II, Count of Blois, (three sons), and second to William I, Marquis of Namur, no issue.\\nJohn, Canon of Cambrai.\\nWilliam, Canon of Cambrai, Beauvais and Le Mans.\\nAmalrik, Canon of Cambrai, Dole and Tours.\\nReinout, Canon of Cambrai.Upon their marriage, John became Count of Soissons, jure uxoris.\\n\\nSources\\nDormay, C., Histoire de la ville de Soissons et de ses rois, ducs, comtes et gouverneurs, Soissons, 1664 (available on Google Books)\\nPassage 5:\\nJeanne of Bar, Countess of Marle and Soissons\\nJeanne de Bar, suo jure Countess of Marle and Soissons, Dame d'Oisy, Viscountess of Meaux, and Countess of Saint-Pol, of Brienne, de Ligny, and Conversano (1415 – 14 May 1462)  was a noble French heiress and Sovereign Countess. She was the only child of Robert of Bar, Count of Marle and Soissons, Sire d'Oisy, who was killed at the Battle of Agincourt when she was a baby, leaving her the sole heiress to his titles and estates. In 1430, at the age of fifteen, Jeanne was one of the three women placed in charge of Joan of Arc when the latter was a prisoner in the castle of John II of Luxembourg, Count of Ligny, Jeanne's stepfather. \\nShe was the first wife of Louis of Luxembourg, Count of Saint-Pol, of Brienne, de Ligny, and Conversano, Constable of France.\\n\\nFamily\\nJeanne was born in 1415, the only child of Robert of Bar, Count of Marle and Soissons, Sire d'Oisy (1390- 25 October 1415), whose own mother was Marie de Coucy, Countess of Soissons, granddaughter of English King Edward III of England. Her mother was Jeanne de Béthune, Viscountess of Meaux (c.1397- late 1450).On 25 October 1415, her father was killed in the Battle of Agincourt, leaving Jeanne, who was a baby, as sole heiress to her father's titles and estates. In 1418, her mother married secondly John II of Luxembourg, Count of Ligny and de Guise (1392 – 5 January 1441), son of John of Luxembourg, Sire de Beauvois and Marguerite of Enghien, Countess of Brienne and of Conversano. The marriage was childless.\\nIt was Jeanne's stepfather John who received Joan of Arc as his prisoner, and kept her at his castle of Beaurevoir. Joan, who was three years Jeanne's senior, was placed in the care of Jeanne, her mother and Jeanne of Luxembourg, John's elderly aunt. The three ladies did all they could to comfort Joan in her captivity, and unsuccessfully tried to persuade her to abandon her masculine clothing for feminine attire. They earned Joan's gratitude for their kind and compassionate treatment of her. Despite the pleas of Jeanne and the other two women, John sold Joan of Arc to the English, who were his allies, for 10,000 livres.\\n\\nMarriage and issue\\nOn 16 July 1435, at the age of twenty, Jeanne married Louis of Luxembourg, Count of Saint-Pol, Brienne, de Ligny, and Conversano, Constable of France (1418 – 19 December 1475). The marriage took place at the Chateau de Bohain. She was Louis' first wife. Louis was the eldest son of Peter of Luxembourg, Count of Saint-Pol, Brienne, and Conversano, by his wife Margaret de Baux. Louis had been brought up by his paternal uncle, who was Jeanne's stepfather, John II of Luxembourg, Count of Ligny and Guise; therefore the young couple were well-acquainted with one another. John designated Louis as his heir to the counties of Ligny and Guise, but upon John's death in 1441, King Charles VII of France sequestered the estates and titles. The title of Ligny was eventually restored to Louis. The title and estates of Guise were given to Louis' youngest sister, Isabelle as her dowry, which passed to her husband, Charles, Count of Maine, upon their marriage in 1443.  \\nJeanne succeeded as Viscountess of Meaux suo jure upon the death of her mother in late 1450.\\nJeanne and Louis had seven children:\\n\\nJohn of Luxembourg, Count of Marle and Soissons, Governor of Burgundy (killed at the Battle of Morat on 22 June 1476)\\nJacqueline of Luxembourg (died 1511), married Philippe de Croy, 2nd Count of Porcien, by whom she had issue.\\nPierre II de Luxembourg, Count of Saint-Pol, of Brienne, de Ligny, Marle and Soissons (1448 – 25 October 1482), on 12 July 1466, married Marguerite of Savoy (1439 Turin – 9 March 1483 Bruges), the daughter of Louis, Duke of Savoy and Anne de Lusignan of Cyprus, and widow of Giovanni IV Paleologo, Margrave of Montferrat, by whom he had issue, including Marie de Luxembourg (c. April 1467 – 1 April 1547), wife of François de Bourbon, Count of Vendôme, and from whom Mary, Queen of Scots, King Henry IV of France, the subsequent Bourbon kings of France, and the Lorraine Dukes of Guise were directly descended.\\nHelene of Luxembourg (died 23 August 1488), married Janus of Savoy, Count of Faucigny, Governor of Nice (1440–1491), the brother of her sister-in-law, Marguerite of Savoy, by whom she had a daughter, Louise of Savoy (1467 – 1 May 1530).\\nCharles of Luxembourg, Bishop of Laon (1447 – 24 November 1509), had several illegitimate children by an unknown mistress.\\nAnthony I, Count of Ligny, Brienne, and Roussy (died 1519), married firstly Antoinette de Bauffrémont, Countess de Charny, by whom he had issue; he married secondly, Françoise de Croÿ-Chimay, by whom he had issue; he married thirdly Gillette de Coélivy. His last marriage was childless. By his mistress, Peronne de Machefert, he had an illegitimate son, Antoine of Luxembourg, Bastard of Brienne, who married and left descendants.\\nPhilippe of Luxembourg (died 1521), Abbesse at Moncel\\n\\nDeath\\nJeanne died on 14 May 1462 aged about forty-seven years. Her husband married secondly Marie of Savoy (20 March 1448 – 1475), daughter of Louis, Duke of Savoy and Anne of Cyprus, by whom he had three more children. Marie was a younger sister of his daughter-in-law Marguerite of Savoy. Louis of Luxembourg was imprisoned in the Bastille and afterward beheaded in Paris on 19 December 1475 for treason against King Louis XI of France.\\n\\nAncestry\\nPassage 6:\\nJohn of Luxembourg, Count of Soissons\\nJohn of Luxembourg (died 22 June 1476) was Count of Marle and Count of Soissons between 1462 and 1476, Lord of Dunkirk, Gravelines and Bourbourg.\\nJohn was the eldest son of Louis de Luxembourg, Count of Saint-Pol and Jeanne de Bar, Countess of Marle and Soissons. He became Count of Marle and Soissons, following the death of his mother in 1462. In 1473, John became a member in the Order of the Golden Fleece. He was unable to inherit his father's lands, since his father was beheaded for treason in 1475 and his lands confiscated.\\nJohn was killed at the Battle of Morat, 22 June 1476. He never married and his lands went to his younger brother Peter.\\nPassage 7:\\nWilliam Busac\\nWilliam Busac (1020–1076), son of William I, Count of Eu, and his wife Lesceline, was Count of Eu and Count of Soissons, de jure uxoris.  William was given the nickname Busac by the medieval chronicler Robert of Torigni.\\nWilliam appealed to King Henry I of France, who gave him in marriage Adelaide, the heiress of the county of Soissons. Adelaide was daughter of Renaud I, Count of Soissons and Grand Master of the Hotel de France. William then became Count of Soissons in right of his wife. William and Adelaide had four children:\\n\\nRenaud II, Count of Soissons (died 1099)\\nJohn I, Count of Soissons (died after 1115), married to Aveline de Pierrefonds\\nManasses of Soissons, Bishop of Cambrai, Bishop of Soissons (died 1 Mar 1108)\\nLithuise de Blois, married to Milo I of Montlhéry\\nRaintrude, married to Raoul I of Nesle, a member of the House of Nesle.His son Renaud became Count of Soissons upon William's death, and he was succeeded by his brother John.\\nPassage 8:\\nJohn V, Count of Soissons\\nJohn V (21 March 1281 – 1304), son of John IV, Count of Soissons, and his wife Marguerite of Rumigny. Count of Soissons.\\nJohn inherited the countship of Soissons from his father in 1302.  Nothing is known about his brief rule of the county. He never married and died with no heirs.  Upon his death, his brother Hugh became Count of Soissons.\\n\\nSources\\nDormay, C., Histoire de la ville de Soissons et de ses rois, ducs, comtes et gouverneurs, Soissons, 1664 (available on Google Books)\\nPassage 9:\\nJohn III, Count of Soissons\\nJohn III (died before 8 October 1286), son of John II, Count of Soissons, and Marie de Chimay.  Count of Soissons and Seigneur of Chimay.  John inherited the countship of Soissons upon his father’s death in 1272.\\nJohn married Marguerite de Montfort, daughter of Amaury, Count of Montfort, and his wife Beatrix de Viennois.  John and Marguerite had:\\n\\nMarie de Nesle (d. after 1272), married to Guy de Saint-Rémy\\nJohn IV, Count of Soissons\\nUnnamed daughter, married Eustache IV de Conflans, Seigneur de Mareuil, son of Eustache III de Conflans\\nRaoul de Nesle (killed in the battle of Courtrai, 11 July 1302)\\nAuchier de Nesle.\\nHugh de Nesle, d.1306\\nPassage 10:\\nGuy II, Count of Soissons\\nGuy II (d. 1057), son of Renaud I, Count of Soissons, and his wife (name unknown), widow of Hilduin III, Count of Montdidier. Guy was identified as Count of Soissons in 1042 in a charter in which Gaunilo of Marmoutiers, the treasurer of St. Martin, denoted property. Guy died with his father in 1057 at the siege of Soissons.\\nIt is not known whether or not Guy was married and no children are recorded. Upon his death, his sister Adelaide assumed the countship of Soissons.\\n\\nSources\\nDormay, C., Histoire de la ville de Soissons et de ses rois, ducs, comtes et gouverneurs, Soissons, 1664 (available on Google Books)\""
      ]
     },
     "execution_count": 47,
     "metadata": {},
     "output_type": "execute_result"
    }
   ],
   "source": [
    "corpus['test']['doc_0']['text']"
   ]
  },
  {
   "cell_type": "code",
   "execution_count": null,
   "metadata": {
    "colab": {
     "base_uri": "https://localhost:8080/"
    },
    "id": "OnBnxXpfGtff",
    "outputId": "fbe64d36-d620-4ff8-eaf2-d452aab6a92a"
   },
   "outputs": [
    {
     "data": {
      "text/plain": [
       "dict_keys(['test'])"
      ]
     },
     "execution_count": 51,
     "metadata": {},
     "output_type": "execute_result"
    }
   ],
   "source": [
    "wiki.queries.keys()"
   ]
  },
  {
   "cell_type": "code",
   "execution_count": null,
   "metadata": {
    "colab": {
     "base_uri": "https://localhost:8080/"
    },
    "id": "6VC852gKGx_I",
    "outputId": "d276e6b9-c7b9-4039-c596-27629d295d54"
   },
   "outputs": [
    {
     "data": {
      "text/plain": [
       "300"
      ]
     },
     "execution_count": 54,
     "metadata": {},
     "output_type": "execute_result"
    }
   ],
   "source": [
    "len(wiki.queries['test'].keys())"
   ]
  },
  {
   "cell_type": "code",
   "execution_count": null,
   "metadata": {
    "colab": {
     "base_uri": "https://localhost:8080/",
     "height": 36
    },
    "id": "TW8hnuedF1Ac",
    "outputId": "6f44c87b-c482-4da9-889c-47176b94c6c9"
   },
   "outputs": [
    {
     "data": {
      "application/vnd.google.colaboratory.intrinsic+json": {
       "type": "string"
      },
      "text/plain": [
       "'What is the award that the composer of song The Seeker (The Who Song) earned?'"
      ]
     },
     "execution_count": 57,
     "metadata": {},
     "output_type": "execute_result"
    }
   ],
   "source": [
    "wiki.queries['test']['query_0']"
   ]
  },
  {
   "cell_type": "code",
   "execution_count": null,
   "metadata": {
    "id": "cjHC4-1RHC93"
   },
   "outputs": [],
   "source": [
    "# query: doc\n",
    "# wiki.relevant_docs['test']"
   ]
  },
  {
   "cell_type": "code",
   "execution_count": null,
   "metadata": {
    "colab": {
     "base_uri": "https://localhost:8080/",
     "height": 401,
     "referenced_widgets": [
      "d3d1ac5a871a447797921d2bfaf85785",
      "84fd14e16638400e9b0ffdfa9b3f1657",
      "5c8e7429acb94bfe9c0db617aa753e19",
      "0387b106f66648c79ea220754e8bb382",
      "922806fe89b24d79a8db2046fb003727",
      "61898722d5e94f31a1f8a1ebffe827fa",
      "449c6469b3c1411b9bf578fd39746992",
      "8a6758b78176448b9b6d793de47b9cce",
      "16ab987096ab40008eb6a0749c2200ce",
      "66faf94dc27e4039b10591a853f6b8ff",
      "bf0feffa78d2448487ca419b8c2ab2ae",
      "f9b3b511da53415db6ed82b934f210e7",
      "90bd11c2c05d4e76a5b0662981364c1e",
      "8b8a17f312dd4e8783dd3559e8a34e6b",
      "52e33cbf375f4a30b54fa2aa0c9cb837",
      "18c58b82182e475387b284321c4ac827",
      "479a4f557744476b8122eb7746b24251",
      "381307b3f8754af29c986ae27aa1626e",
      "694ea8abd3cb4604b1b65e66fa7959fd",
      "a4562738b27f4af8903926c636d68ace",
      "9b11817a9000401386b7b2b73c62db8a",
      "66b6103cd921492393ec8211534e18f9",
      "18f2ba52988f44c4bcf0f58ebb90f6a4",
      "566e03d5952e457c8054c692240fbe43",
      "8580c429fdcc4474bbc52698cf09ca47",
      "40a188e962e34adc890e616500587a2b",
      "163150a2c1d542cab06ae3bdbd49933e",
      "2b9e7585e64d4ad189a4535758237926",
      "be0da9011a084dd3af130c1d1f4183c2",
      "654dbd3d25c5480d9dbd491477ae0bee",
      "28818367e7064c7d9873a912f6e4c225",
      "f78d0cef28f248a6a52972cf4480e25d",
      "13d1beee40b74b7ab062f7d25dc45dbe",
      "280dc1c25b684d0babe51c4f6334d542",
      "700825099d6d41f8a2417894623fde47",
      "5d67992d796b488d90cfcf2ec679e182",
      "0907c127235d4f8ca1600c15b88cf3a3",
      "7cc37cf3d5d0495f80586e9d86f1ad6c",
      "03897908cd684e50a8f3f819eb5edbcd",
      "571fc4a9e34640d9a06bc1a069408ed4",
      "14fcfea03fa64b2bb9a82b981ff3b18e",
      "13cdca66c7c94a498b8e2503b58d3c28",
      "991bf8cb81db4d8fb8e9a4ab2e3b2db9",
      "10d1798e3a734f64826bd781fcb6fdfa",
      "02cae5685a554b27a91afff9e1f24c1b",
      "122380d580424c5e9d429e70b31e6c12",
      "1be85a9bdf2f4ec1b6232a53909fa417",
      "5183fc3ac5fe40f0b90797c02be6eef7",
      "8b2475a5fd0245d9a7df42c87648c70b",
      "b03121e204ed4bbdb6129ab942adf748",
      "6fd1acdddec24dee98642c583c507619",
      "2a32c94ab0e84b2ead015cbb160d7da2",
      "5f8a93900b7047769090b202b8a3ac04",
      "f8ebc34dcd4849e8bb14ade249110f18",
      "a719e6114ca94d108baac50c537e2211",
      "89f4b47696034fa38f2f39a89b3e7968",
      "df00482f75494d8ab61039161480d24f",
      "bdd00bd8dcbb4511a2123f6900dd772d",
      "ed10ff1327184476b5c3fad9b16eed9c",
      "ac4255b3d20344feb53ed4774afb93d7",
      "645ca5bc48834178ba56db682abd714a",
      "cdca566b16f44c07b835504be8543fd6",
      "a90440f0227e4bbbbc14dc878a8193fc",
      "d56e9238a7b246a79c332067383bb70d",
      "fba5f4956c7141e58657d3c8347c4054",
      "31e0a03638804beeabc504045fcbc4db",
      "443ebb88ea2a4948a1bcca400ee17bc3",
      "37bc9285311b49dd9ca568dc1cc32bd3",
      "650d6d35db6d4b5b9194b974fdf217ba",
      "e53e121c5847410c889b42d3bc1a6cff",
      "ce3322f37a424eddb38d6bb9b9f98e79",
      "59aa2f2232c843a988458232bb7572b8",
      "8c82604808ec4e63b3e3b7a4f8b696ab",
      "ac3ae74e3671447c8ef2a5c7bd20a885",
      "a15fe9f5b0124a189bf735118697ffb8",
      "92700ceaac7e47fe8303e94ed15f074e",
      "726a0a52b54640f1ac72d619bccc3a2c",
      "e8da42fb96584e08899636e8dcd8a32b",
      "58864ed0549e481383f04f8cae8f71fc",
      "4576c37e1c0c47c384854d763b248efa",
      "b9546933a6154b26bc943ffda569aa79",
      "d5ebf473c46847568c0f649c18d74eae",
      "33649e252b854788a5c65eed2268025b",
      "e966b6b1399e4d7cbcb449a8458e7bfe",
      "0893b95045ff41e1ac41fe53925ef19f",
      "f5703c1537d34252b9e8219b3307b523",
      "a41f200c1af94d84bc009c19f1ab68c5",
      "0219709d76074aea9705d93ba637395a",
      "f5cc2f7fa6754974bc8f5cf14f3d263d",
      "c8f8b415efc84eeda854c0aafdf27df2",
      "cf46d46623e046b581199f8e1115b477",
      "47417a3c3a944add9e26b13a747cc56e",
      "6ef9c5ee05ce46caa82f0aeb816b2a57",
      "65b6789b65f0457db06fe0a7ae227597",
      "8c3250bd31a242118883dd3813c175ea",
      "a27daee9614d4a159b4241aac43316cd",
      "1b83a265bb404c829cef6082e2a50743",
      "bd76ec879bf34ade8fa59c8c7776f167",
      "509fee4ddf2c4ddb8088ea618a819c29",
      "4df32a451e654621a614cd16d1f4e0d4",
      "420ae894e5614d28b52b233f968f55f0",
      "517642811f234eacbeed9b5bd7e7798a",
      "88e9c36987e74d349c2614a26434aacd",
      "d31cfd336db242bd8566f57d9d453ac6",
      "7df4da3709ae4d29933216f90b315a84",
      "b41084c0972945aba1b39ef057fef9f4",
      "a0a8d937bfd846e7a13a478abd1afbdb",
      "6592dc0317534852b8b3933cbc2d8eae",
      "c4f964e2817f438f9eb14df15147fac1",
      "2dbef27f19da419a8a3c2391aaefd8e7",
      "b1ddcb17deb246628cad0c59e24176d4",
      "29602c860db94a298340fc883c8330d4",
      "4cff37152a6e4ea0a0ce54d73e34b3db",
      "cef0d059e6964d8fb89c39f6d17563db",
      "0be7aa6b4fb4472ca82ac4002865c8e3",
      "05e6161b0a234c4f80e0fc1ca47403fe",
      "415ff22b9e9d428886aae03037c43630",
      "374f2bc841844a08bef948438857cd95",
      "9bc7a313db9149cd9cccaf2ced470448",
      "eed42ad5fb4b41579cc7be41d2901b0c",
      "72bb9f9112254563bab9470467eed63a",
      "4e189208bcd5450db6801f775404cef2",
      "4250dcdf4d284423b0ea16e51dc48cec",
      "0dd4e25b85414ca298591a52c0cea467",
      "fa48c88b3c2e4f449bc807cdd7110b06",
      "96b435c8297c45f392d8b4d0aaf9d640",
      "10f9b7ad8cd44a709d14019f6dfa1750",
      "a78fa91d58424a3ebf185b35c4c235a2",
      "cb49445c37634adf941c2ed916843e9e",
      "3799a6356cb444ecb625211bb8c86896",
      "bb95aa7552f14ea6be8cad1fa281103b",
      "75a734f1e4fa444288f3dcd2ee983781"
     ]
    },
    "id": "ZaENMkzTHrdI",
    "outputId": "2bc7652e-8965-4168-a722-9894c541f99b"
   },
   "outputs": [
    {
     "data": {
      "application/vnd.jupyter.widget-view+json": {
       "model_id": "d3d1ac5a871a447797921d2bfaf85785",
       "version_major": 2,
       "version_minor": 0
      },
      "text/plain": [
       "Downloading readme:   0%|          | 0.00/1.20k [00:00<?, ?B/s]"
      ]
     },
     "metadata": {},
     "output_type": "display_data"
    },
    {
     "data": {
      "application/vnd.jupyter.widget-view+json": {
       "model_id": "f9b3b511da53415db6ed82b934f210e7",
       "version_major": 2,
       "version_minor": 0
      },
      "text/plain": [
       "Downloading data:   0%|          | 0.00/200M [00:00<?, ?B/s]"
      ]
     },
     "metadata": {},
     "output_type": "display_data"
    },
    {
     "data": {
      "application/vnd.jupyter.widget-view+json": {
       "model_id": "18f2ba52988f44c4bcf0f58ebb90f6a4",
       "version_major": 2,
       "version_minor": 0
      },
      "text/plain": [
       "Generating corpus split:   0%|          | 0/171332 [00:00<?, ? examples/s]"
      ]
     },
     "metadata": {},
     "output_type": "display_data"
    },
    {
     "data": {
      "application/vnd.jupyter.widget-view+json": {
       "model_id": "280dc1c25b684d0babe51c4f6334d542",
       "version_major": 2,
       "version_minor": 0
      },
      "text/plain": [
       "Casting the dataset:   0%|          | 0/171332 [00:00<?, ? examples/s]"
      ]
     },
     "metadata": {},
     "output_type": "display_data"
    },
    {
     "data": {
      "application/vnd.jupyter.widget-view+json": {
       "model_id": "02cae5685a554b27a91afff9e1f24c1b",
       "version_major": 2,
       "version_minor": 0
      },
      "text/plain": [
       "Downloading data:   0%|          | 0.00/4.75k [00:00<?, ?B/s]"
      ]
     },
     "metadata": {},
     "output_type": "display_data"
    },
    {
     "data": {
      "application/vnd.jupyter.widget-view+json": {
       "model_id": "89f4b47696034fa38f2f39a89b3e7968",
       "version_major": 2,
       "version_minor": 0
      },
      "text/plain": [
       "Generating queries split:   0%|          | 0/50 [00:00<?, ? examples/s]"
      ]
     },
     "metadata": {},
     "output_type": "display_data"
    },
    {
     "data": {
      "application/vnd.jupyter.widget-view+json": {
       "model_id": "443ebb88ea2a4948a1bcca400ee17bc3",
       "version_major": 2,
       "version_minor": 0
      },
      "text/plain": [
       "Casting the dataset:   0%|          | 0/50 [00:00<?, ? examples/s]"
      ]
     },
     "metadata": {},
     "output_type": "display_data"
    },
    {
     "data": {
      "application/vnd.jupyter.widget-view+json": {
       "model_id": "e8da42fb96584e08899636e8dcd8a32b",
       "version_major": 2,
       "version_minor": 0
      },
      "text/plain": [
       "Downloading data:   0%|          | 0.00/3.83M [00:00<?, ?B/s]"
      ]
     },
     "metadata": {},
     "output_type": "display_data"
    },
    {
     "data": {
      "application/vnd.jupyter.widget-view+json": {
       "model_id": "f5cc2f7fa6754974bc8f5cf14f3d263d",
       "version_major": 2,
       "version_minor": 0
      },
      "text/plain": [
       "Generating test split:   0%|          | 0/66336 [00:00<?, ? examples/s]"
      ]
     },
     "metadata": {},
     "output_type": "display_data"
    },
    {
     "data": {
      "application/vnd.jupyter.widget-view+json": {
       "model_id": "4df32a451e654621a614cd16d1f4e0d4",
       "version_major": 2,
       "version_minor": 0
      },
      "text/plain": [
       "Casting the dataset:   0%|          | 0/66336 [00:00<?, ? examples/s]"
      ]
     },
     "metadata": {},
     "output_type": "display_data"
    },
    {
     "data": {
      "application/vnd.jupyter.widget-view+json": {
       "model_id": "b1ddcb17deb246628cad0c59e24176d4",
       "version_major": 2,
       "version_minor": 0
      },
      "text/plain": [
       "Map:   0%|          | 0/66336 [00:00<?, ? examples/s]"
      ]
     },
     "metadata": {},
     "output_type": "display_data"
    },
    {
     "data": {
      "application/vnd.jupyter.widget-view+json": {
       "model_id": "4e189208bcd5450db6801f775404cef2",
       "version_major": 2,
       "version_minor": 0
      },
      "text/plain": [
       "Filter:   0%|          | 0/50 [00:00<?, ? examples/s]"
      ]
     },
     "metadata": {},
     "output_type": "display_data"
    }
   ],
   "source": [
    "covid = mteb.get_task('TRECCOVID')\n",
    "covid.load_data()"
   ]
  },
  {
   "cell_type": "code",
   "execution_count": null,
   "metadata": {
    "colab": {
     "base_uri": "https://localhost:8080/"
    },
    "id": "7RRjwHqvHyGq",
    "outputId": "acd1a48f-6dca-4e23-c898-887be2903d1a"
   },
   "outputs": [
    {
     "data": {
      "text/plain": [
       "(dict_keys(['1', '2', '3', '4', '5', '6', '7', '8', '9', '10', '11', '12', '13', '14', '15', '16', '17', '18', '19', '20', '21', '22', '23', '24', '25', '26', '27', '28', '29', '30', '31', '32', '33', '34', '35', '36', '37', '38', '39', '40', '41', '42', '43', '44', '45', '46', '47', '48', '49', '50']),\n",
       " 'what is the origin of COVID-19',\n",
       " 'how does the coronavirus respond to changes in the weather')"
      ]
     },
     "execution_count": 68,
     "metadata": {},
     "output_type": "execute_result"
    }
   ],
   "source": [
    "covid.queries['test'].keys(), covid.queries['test']['1'], covid.queries['test']['2']"
   ]
  },
  {
   "cell_type": "code",
   "execution_count": null,
   "metadata": {
    "colab": {
     "base_uri": "https://localhost:8080/"
    },
    "id": "IrvQFlMWIBi8",
    "outputId": "0e711c88-b69b-4deb-f370-f9257bd21793"
   },
   "outputs": [
    {
     "data": {
      "text/plain": [
       "171332"
      ]
     },
     "execution_count": 70,
     "metadata": {},
     "output_type": "execute_result"
    }
   ],
   "source": [
    "len(covid.corpus['test'].keys())"
   ]
  },
  {
   "cell_type": "code",
   "execution_count": null,
   "metadata": {
    "colab": {
     "base_uri": "https://localhost:8080/"
    },
    "id": "Ng0EpPT8ISk6",
    "outputId": "e54b6323-7ebc-4b2c-a2a7-fbe3545e509a"
   },
   "outputs": [
    {
     "data": {
      "text/plain": [
       "1565"
      ]
     },
     "execution_count": 73,
     "metadata": {},
     "output_type": "execute_result"
    }
   ],
   "source": [
    "len(covid.relevant_docs['test']['1'])"
   ]
  },
  {
   "cell_type": "code",
   "execution_count": null,
   "metadata": {
    "id": "0nLbCLIeISoo"
   },
   "outputs": [],
   "source": [
    "covid = mteb.get_task('TRECCOVID')\n",
    "covid.load_data()"
   ]
  },
  {
   "cell_type": "markdown",
   "metadata": {
    "id": "dsimevv6IS_V"
   },
   "source": [
    "Summary: \\\n",
    "COVID: 171332 docs, 50 queries, на один вопрос много релевантных документов с метками 1,2 и тд\\\n",
    "LEMBWikimQARetrieval: 300 вопросов, 300 ответов, один к одному\\\n"
   ]
  },
  {
   "cell_type": "code",
   "execution_count": null,
   "metadata": {
    "id": "037RSj3YKppR"
   },
   "outputs": [],
   "source": []
  },
  {
   "cell_type": "markdown",
   "metadata": {
    "id": "xE2twFeEKp8k"
   },
   "source": [
    "## STS + sentence_pairs"
   ]
  },
  {
   "cell_type": "code",
   "execution_count": null,
   "metadata": {
    "id": "xJphZ2RsKsI0"
   },
   "outputs": [],
   "source": [
    "tasks_eng = mteb.get_tasks(task_types=[\"STS\"], languages=['eng'])"
   ]
  },
  {
   "cell_type": "code",
   "execution_count": null,
   "metadata": {
    "colab": {
     "base_uri": "https://localhost:8080/"
    },
    "id": "3OGExsZnKx6C",
    "outputId": "23068e29-16ff-425b-c345-149dd25ea64f"
   },
   "outputs": [
    {
     "data": {
      "text/plain": [
       "MTEBTasks(BiossesSTS(name='BIOSSES', languages=['eng']), SickrSTS(name='SICK-R', languages=['eng']), STS12STS(name='STS12', languages=['eng']), STS13STS(name='STS13', languages=['eng']), STS14STS(name='STS14', languages=['eng']), STS15STS(name='STS15', languages=['eng']), STS16STS(name='STS16', languages=['eng']), STSBenchmarkSTS(name='STSBenchmark', languages=['eng']), IndicCrosslingualSTS(name='IndicCrosslingualSTS', languages=['asm', 'ben', 'eng', '...']), SemRel24STS(name='SemRel24STS', languages=['eng']), STS17Crosslingual(name='STS17', languages=['ara', 'deu', 'eng', '...']), STS22CrosslingualSTSv2(name='STS22.v2', languages=['cmn', 'deu', 'eng', '...']), STSBenchmarkMultilingualSTS(name='STSBenchmarkMultilingualSTS', languages=['eng']))"
      ]
     },
     "execution_count": 75,
     "metadata": {},
     "output_type": "execute_result"
    }
   ],
   "source": [
    "tasks_eng"
   ]
  },
  {
   "cell_type": "code",
   "execution_count": null,
   "metadata": {
    "colab": {
     "base_uri": "https://localhost:8080/",
     "height": 81,
     "referenced_widgets": [
      "1a1fe43145814569b769bd6778f387ee",
      "1368df0dc0154ff2a726c2fbc64b7886",
      "0ee631d6c3fe4b978d33f67dddf21302",
      "36721c27592743359cb1b6d6acc57c2d",
      "7bedf4e715544f07ac3e39a7e5a2a4c4",
      "d4749fca221a42898471ba38dbaffa30",
      "acb18ba889ec4c38b833580623ce58f3",
      "ce53a1f0710f497aa14283b6da759d1b",
      "2c6d908098ae413f893c64af62aa8193",
      "185b694fc51d43ca96b235f536f0cbb2",
      "559a15fdd99644b28690ffebe9ba7f5e",
      "f4950d4569a4448da1b7eaf7a9626f65",
      "40f91746f84c467f8c0d0deec4e75c46",
      "957d8c37b8bb4fc39b2be8e759cffb07",
      "4ae85128fb824fe4ba9e88739259e7bd",
      "8da63a6cbb134458b1fb377ef5ac37fe",
      "876ad3756ebf42c887304b1d1e0dbd18",
      "a52f0534f2354df8bdf3543bf3786b5a",
      "9be73bc2e31847e497e00cfe75af375b",
      "c5cf50c0792e4b19ae192790865d3aad",
      "6655b4a656ff4761887c0d88ea0d3ed1",
      "b37d2fbc9aaf4e8381fc7adf327e70eb"
     ]
    },
    "id": "eruPtHJvKyoB",
    "outputId": "4a990647-17d2-44ce-d792-ca38ec3eda03"
   },
   "outputs": [
    {
     "data": {
      "application/vnd.jupyter.widget-view+json": {
       "model_id": "1a1fe43145814569b769bd6778f387ee",
       "version_major": 2,
       "version_minor": 0
      },
      "text/plain": [
       "Downloading data:   0%|          | 0.00/145k [00:00<?, ?B/s]"
      ]
     },
     "metadata": {},
     "output_type": "display_data"
    },
    {
     "data": {
      "application/vnd.jupyter.widget-view+json": {
       "model_id": "f4950d4569a4448da1b7eaf7a9626f65",
       "version_major": 2,
       "version_minor": 0
      },
      "text/plain": [
       "Generating test split: 0 examples [00:00, ? examples/s]"
      ]
     },
     "metadata": {},
     "output_type": "display_data"
    }
   ],
   "source": [
    "sts = mteb.get_task('STS14')\n",
    "sts.load_data()"
   ]
  },
  {
   "cell_type": "code",
   "execution_count": null,
   "metadata": {
    "colab": {
     "base_uri": "https://localhost:8080/"
    },
    "id": "3V84bQfGLBGE",
    "outputId": "e3b2672e-59ac-4403-ebab-89dbc60c6464"
   },
   "outputs": [
    {
     "data": {
      "text/plain": [
       "DatasetDict({\n",
       "    test: Dataset({\n",
       "        features: ['split', 'sentence1', 'sentence2', 'score'],\n",
       "        num_rows: 3750\n",
       "    })\n",
       "})"
      ]
     },
     "execution_count": 79,
     "metadata": {},
     "output_type": "execute_result"
    }
   ],
   "source": [
    "sts.dataset"
   ]
  },
  {
   "cell_type": "code",
   "execution_count": null,
   "metadata": {
    "colab": {
     "base_uri": "https://localhost:8080/"
    },
    "id": "irbJtl_mLPLu",
    "outputId": "5533549a-3274-44e4-df50-2e2c44a9fa26"
   },
   "outputs": [
    {
     "data": {
      "text/plain": [
       "(\"go figure you 're asking me to prove a negative ?\",\n",
       " \"you 're asking me to prove a negative ?\")"
      ]
     },
     "execution_count": 90,
     "metadata": {},
     "output_type": "execute_result"
    }
   ],
   "source": [
    "#max score\n",
    "sts.dataset['test']['sentence1'][5], sts.dataset['test']['sentence2'][5]"
   ]
  },
  {
   "cell_type": "code",
   "execution_count": null,
   "metadata": {
    "id": "JTSnPllgLtTg"
   },
   "outputs": [],
   "source": [
    "tasks_eng = mteb.get_tasks(task_types=[\"Paraphrase\"], languages=['eng'])"
   ]
  },
  {
   "cell_type": "code",
   "execution_count": null,
   "metadata": {
    "id": "4l9d6JIYMS9K"
   },
   "outputs": [],
   "source": [
    "# quora = mteb.get_task('QQP')"
   ]
  },
  {
   "cell_type": "code",
   "execution_count": null,
   "metadata": {
    "colab": {
     "base_uri": "https://localhost:8080/",
     "height": 81,
     "referenced_widgets": [
      "b362c5b88b104630806625d570ad3a81",
      "2791281ccd524929ba850b5e3712a15c",
      "94f569dc8da24e6eae17b00e3638e307",
      "ea6fa06a2fe247c6a652a621f19abdd0",
      "f0cd552d1bb1473fbcb239e47bfbfba8",
      "804c3d8f6ff3498fb5da8eee8282a56b",
      "2758ca2097e8459280274854bf1dd3da",
      "1246c3ac40ca46fa8a782df74bebacec",
      "7c1d507985e741fe95a8c9ff017d2b41",
      "2193305a8ca649ecbb5b7eca658da3c4",
      "8478dbe3973e41b2a53f18e42fd2df7b",
      "fe15f47aaf5f44679d1ec58ddccdd7da",
      "ffdcec2124694041a036522513fdd135",
      "c1226ee766044f29855b4ea02032be25",
      "75dfb4a564cb45b1a37f8027a45e5e17",
      "611878de55c84188a5679f957fb94fdb",
      "e4c4d9006ffd4d4b8a4de9012e28e151",
      "bff377960efe4cbc9afda5a7c7d8690c",
      "9d6d9bf1269448dda39070dea476fcb2",
      "17b27109968e46c2a586201d69317811",
      "ee2337004d264554aa84eb4ddcfd8027",
      "e48651b8c0be4adc8d828cb36769da5a"
     ]
    },
    "id": "mRl0XQ9aYo1G",
    "outputId": "d4ae209f-fe39-4ba2-8101-de743bcba7ad"
   },
   "outputs": [
    {
     "data": {
      "application/vnd.jupyter.widget-view+json": {
       "model_id": "b362c5b88b104630806625d570ad3a81",
       "version_major": 2,
       "version_minor": 0
      },
      "text/plain": [
       "Resolving data files:   0%|          | 0/1024 [00:00<?, ?it/s]"
      ]
     },
     "metadata": {},
     "output_type": "display_data"
    },
    {
     "data": {
      "application/vnd.jupyter.widget-view+json": {
       "model_id": "fe15f47aaf5f44679d1ec58ddccdd7da",
       "version_major": 2,
       "version_minor": 0
      },
      "text/plain": [
       "Resolving data files:   0%|          | 0/1024 [00:00<?, ?it/s]"
      ]
     },
     "metadata": {},
     "output_type": "display_data"
    }
   ],
   "source": [
    "from datasets import load_dataset\n",
    "ds = load_dataset(\"allenai/c4\", \"en\", split=\"train\", streaming=True)\n",
    "sample = ds.shuffle(buffer_size=100000, seed=42).take(100000)"
   ]
  },
  {
   "cell_type": "code",
   "execution_count": null,
   "metadata": {
    "colab": {
     "base_uri": "https://localhost:8080/"
    },
    "id": "A2TndVXCcKjR",
    "outputId": "fbd8c812-dcbf-432a-fb3a-2ebdad5f77b9"
   },
   "outputs": [
    {
     "data": {
      "text/plain": [
       "{'text': 'Showing \"2500 Headlight\" search results as seen on April 19, 2019.\\nShop for 2500 Headlight - top sales, deals, offers, and 2500 Headlight discounts are available 24/7/365 at Shopneter.com.\\nCustomers who search 2500 Headlight also buy this items: Miniature Snowman, 14k Gold Coin Bezel, Brass Shell Timbales.',\n",
       " 'timestamp': '2019-04-19 12:44:43',\n",
       " 'url': 'http://shopneter.com/2500-headlight.html'}"
      ]
     },
     "execution_count": 24,
     "metadata": {},
     "output_type": "execute_result"
    }
   ],
   "source": [
    "next(iter(sample))"
   ]
  },
  {
   "cell_type": "code",
   "execution_count": null,
   "metadata": {
    "id": "ETN4QmmaMTu2"
   },
   "outputs": [],
   "source": [
    "from datasets import load_dataset\n",
    "\n",
    "dbpedia = load_dataset(\"mteb/dbpedia\")"
   ]
  },
  {
   "cell_type": "code",
   "execution_count": null,
   "metadata": {
    "id": "0VhnCCOvYoXa"
   },
   "outputs": [],
   "source": [
    "# dbpedia['test']['query-id']"
   ]
  },
  {
   "cell_type": "code",
   "execution_count": null,
   "metadata": {
    "colab": {
     "base_uri": "https://localhost:8080/",
     "height": 394,
     "referenced_widgets": [
      "7a2829356aa246fe918b8768800d14b7",
      "9a5c610077d7410eb1edbe4485da1e2b",
      "3fcb76c589b447a7b3c6bfd1c960c9d2",
      "f1b424d68bc245efb3d385a05d72c8aa",
      "761bc2fc53ad4c95b9c48a22f4d28c23",
      "e288c358ec2e4a8db19229b4c91776f2",
      "138adc539c364f0d9e0ae64caded3e34",
      "5e227759c4574c59976e5439403c0d43",
      "8cf7c23e77334bb6afa75dacb585f388",
      "a26e3dacaef64f0889288358379761d4",
      "ea852c2f188a4a62bff67960dcea37c7",
      "8b7af1a3fad7493c8031df34a5587b89",
      "c9641702f4b041719b69f2c1d44e5eda",
      "4aab9c9a0ebf4ca39a844c59d114e0d4",
      "9c67d223fa2944c09453c8b04a65789e",
      "fd9cc73b97fc40929e2f44e31900a95b",
      "4d6ae82b2e824fc1b05d161882366656",
      "4868cea92dbd43db9d7b0011449b7a15",
      "2a586e4b540c45e687274a57cce725fe",
      "85f92d6dd6474c698788f8810690d67c",
      "fd6fd7a1d3ae48f5bf4b2701b9b285f3",
      "690c7b68beaf4a65aab2047a743c0cd2",
      "433d5d57373e43c49556499c5db49b4b",
      "3ce9a5e628dc4b3bbe2c4f87f40e15b3",
      "92806115c8f4426189a766025d818c42",
      "19fc33faf9944084a73cafc5c5d4aea0",
      "7cf6bf74bdd743eaa89c7542227f5b42",
      "69a7812a1b394899a92ee6d1a789aa55",
      "4deebe8f0b9e4510b5ef9c4bd42c72e1",
      "695e08ef1ee14833944fc6e2e8ffaf7f",
      "c99ad8463c504683879205d834c5e372",
      "6fd98025fc1748ff8c7b30cc065d762f",
      "2b0d4b1d3b014bbabbe1e4f68a570482"
     ]
    },
    "id": "GyayDHEPYqU3",
    "outputId": "8009ad43-12c9-401c-d0c9-e15515ef022f"
   },
   "outputs": [
    {
     "data": {
      "application/vnd.jupyter.widget-view+json": {
       "model_id": "7a2829356aa246fe918b8768800d14b7",
       "version_major": 2,
       "version_minor": 0
      },
      "text/plain": [
       "Resolving data files:   0%|          | 0/1024 [00:00<?, ?it/s]"
      ]
     },
     "metadata": {},
     "output_type": "display_data"
    },
    {
     "data": {
      "application/vnd.jupyter.widget-view+json": {
       "model_id": "8b7af1a3fad7493c8031df34a5587b89",
       "version_major": 2,
       "version_minor": 0
      },
      "text/plain": [
       "Resolving data files:   0%|          | 0/1024 [00:00<?, ?it/s]"
      ]
     },
     "metadata": {},
     "output_type": "display_data"
    },
    {
     "data": {
      "application/vnd.jupyter.widget-view+json": {
       "model_id": "433d5d57373e43c49556499c5db49b4b",
       "version_major": 2,
       "version_minor": 0
      },
      "text/plain": [
       "Downloading data:   0%|          | 0/1024 [00:00<?, ?files/s]"
      ]
     },
     "metadata": {},
     "output_type": "display_data"
    },
    {
     "ename": "KeyboardInterrupt",
     "evalue": "",
     "output_type": "error",
     "traceback": [
      "\u001b[0;31m---------------------------------------------------------------------------\u001b[0m",
      "\u001b[0;31mKeyboardInterrupt\u001b[0m                         Traceback (most recent call last)",
      "\u001b[0;32m<ipython-input-17-6e21f6d9c228>\u001b[0m in \u001b[0;36m<cell line: 0>\u001b[0;34m()\u001b[0m\n\u001b[0;32m----> 1\u001b[0;31m \u001b[0mc4\u001b[0m \u001b[0;34m=\u001b[0m \u001b[0mload_dataset\u001b[0m\u001b[0;34m(\u001b[0m\u001b[0;34m\"allenai/c4\"\u001b[0m\u001b[0;34m,\u001b[0m \u001b[0;34m'en'\u001b[0m\u001b[0;34m)\u001b[0m\u001b[0;34m\u001b[0m\u001b[0;34m\u001b[0m\u001b[0m\n\u001b[0m",
      "\u001b[0;32m/usr/local/lib/python3.11/dist-packages/datasets/load.py\u001b[0m in \u001b[0;36mload_dataset\u001b[0;34m(path, name, data_dir, data_files, split, cache_dir, features, download_config, download_mode, verification_mode, ignore_verifications, keep_in_memory, save_infos, revision, token, use_auth_token, task, streaming, num_proc, storage_options, trust_remote_code, **config_kwargs)\u001b[0m\n\u001b[1;32m   2626\u001b[0m \u001b[0;34m\u001b[0m\u001b[0m\n\u001b[1;32m   2627\u001b[0m     \u001b[0;31m# Download and prepare data\u001b[0m\u001b[0;34m\u001b[0m\u001b[0;34m\u001b[0m\u001b[0m\n\u001b[0;32m-> 2628\u001b[0;31m     builder_instance.download_and_prepare(\n\u001b[0m\u001b[1;32m   2629\u001b[0m         \u001b[0mdownload_config\u001b[0m\u001b[0;34m=\u001b[0m\u001b[0mdownload_config\u001b[0m\u001b[0;34m,\u001b[0m\u001b[0;34m\u001b[0m\u001b[0;34m\u001b[0m\u001b[0m\n\u001b[1;32m   2630\u001b[0m         \u001b[0mdownload_mode\u001b[0m\u001b[0;34m=\u001b[0m\u001b[0mdownload_mode\u001b[0m\u001b[0;34m,\u001b[0m\u001b[0;34m\u001b[0m\u001b[0;34m\u001b[0m\u001b[0m\n",
      "\u001b[0;32m/usr/local/lib/python3.11/dist-packages/datasets/builder.py\u001b[0m in \u001b[0;36mdownload_and_prepare\u001b[0;34m(self, output_dir, download_config, download_mode, verification_mode, ignore_verifications, try_from_hf_gcs, dl_manager, base_path, use_auth_token, file_format, max_shard_size, num_proc, storage_options, **download_and_prepare_kwargs)\u001b[0m\n\u001b[1;32m   1027\u001b[0m                         \u001b[0;32mif\u001b[0m \u001b[0mnum_proc\u001b[0m \u001b[0;32mis\u001b[0m \u001b[0;32mnot\u001b[0m \u001b[0;32mNone\u001b[0m\u001b[0;34m:\u001b[0m\u001b[0;34m\u001b[0m\u001b[0;34m\u001b[0m\u001b[0m\n\u001b[1;32m   1028\u001b[0m                             \u001b[0mprepare_split_kwargs\u001b[0m\u001b[0;34m[\u001b[0m\u001b[0;34m\"num_proc\"\u001b[0m\u001b[0;34m]\u001b[0m \u001b[0;34m=\u001b[0m \u001b[0mnum_proc\u001b[0m\u001b[0;34m\u001b[0m\u001b[0;34m\u001b[0m\u001b[0m\n\u001b[0;32m-> 1029\u001b[0;31m                         self._download_and_prepare(\n\u001b[0m\u001b[1;32m   1030\u001b[0m                             \u001b[0mdl_manager\u001b[0m\u001b[0;34m=\u001b[0m\u001b[0mdl_manager\u001b[0m\u001b[0;34m,\u001b[0m\u001b[0;34m\u001b[0m\u001b[0;34m\u001b[0m\u001b[0m\n\u001b[1;32m   1031\u001b[0m                             \u001b[0mverification_mode\u001b[0m\u001b[0;34m=\u001b[0m\u001b[0mverification_mode\u001b[0m\u001b[0;34m,\u001b[0m\u001b[0;34m\u001b[0m\u001b[0;34m\u001b[0m\u001b[0m\n",
      "\u001b[0;32m/usr/local/lib/python3.11/dist-packages/datasets/builder.py\u001b[0m in \u001b[0;36m_download_and_prepare\u001b[0;34m(self, dl_manager, verification_mode, **prepare_split_kwargs)\u001b[0m\n\u001b[1;32m   1100\u001b[0m         \u001b[0msplit_dict\u001b[0m \u001b[0;34m=\u001b[0m \u001b[0mSplitDict\u001b[0m\u001b[0;34m(\u001b[0m\u001b[0mdataset_name\u001b[0m\u001b[0;34m=\u001b[0m\u001b[0mself\u001b[0m\u001b[0;34m.\u001b[0m\u001b[0mdataset_name\u001b[0m\u001b[0;34m)\u001b[0m\u001b[0;34m\u001b[0m\u001b[0;34m\u001b[0m\u001b[0m\n\u001b[1;32m   1101\u001b[0m         \u001b[0msplit_generators_kwargs\u001b[0m \u001b[0;34m=\u001b[0m \u001b[0mself\u001b[0m\u001b[0;34m.\u001b[0m\u001b[0m_make_split_generators_kwargs\u001b[0m\u001b[0;34m(\u001b[0m\u001b[0mprepare_split_kwargs\u001b[0m\u001b[0;34m)\u001b[0m\u001b[0;34m\u001b[0m\u001b[0;34m\u001b[0m\u001b[0m\n\u001b[0;32m-> 1102\u001b[0;31m         \u001b[0msplit_generators\u001b[0m \u001b[0;34m=\u001b[0m \u001b[0mself\u001b[0m\u001b[0;34m.\u001b[0m\u001b[0m_split_generators\u001b[0m\u001b[0;34m(\u001b[0m\u001b[0mdl_manager\u001b[0m\u001b[0;34m,\u001b[0m \u001b[0;34m**\u001b[0m\u001b[0msplit_generators_kwargs\u001b[0m\u001b[0;34m)\u001b[0m\u001b[0;34m\u001b[0m\u001b[0;34m\u001b[0m\u001b[0m\n\u001b[0m\u001b[1;32m   1103\u001b[0m \u001b[0;34m\u001b[0m\u001b[0m\n\u001b[1;32m   1104\u001b[0m         \u001b[0;31m# Checksums verification\u001b[0m\u001b[0;34m\u001b[0m\u001b[0;34m\u001b[0m\u001b[0m\n",
      "\u001b[0;32m/usr/local/lib/python3.11/dist-packages/datasets/packaged_modules/json/json.py\u001b[0m in \u001b[0;36m_split_generators\u001b[0;34m(self, dl_manager)\u001b[0m\n\u001b[1;32m     76\u001b[0m             \u001b[0;32mraise\u001b[0m \u001b[0mValueError\u001b[0m\u001b[0;34m(\u001b[0m\u001b[0;34mf\"At least one data file must be specified, but got data_files={self.config.data_files}\"\u001b[0m\u001b[0;34m)\u001b[0m\u001b[0;34m\u001b[0m\u001b[0;34m\u001b[0m\u001b[0m\n\u001b[1;32m     77\u001b[0m         \u001b[0mdl_manager\u001b[0m\u001b[0;34m.\u001b[0m\u001b[0mdownload_config\u001b[0m\u001b[0;34m.\u001b[0m\u001b[0mextract_on_the_fly\u001b[0m \u001b[0;34m=\u001b[0m \u001b[0;32mTrue\u001b[0m\u001b[0;34m\u001b[0m\u001b[0;34m\u001b[0m\u001b[0m\n\u001b[0;32m---> 78\u001b[0;31m         \u001b[0mdata_files\u001b[0m \u001b[0;34m=\u001b[0m \u001b[0mdl_manager\u001b[0m\u001b[0;34m.\u001b[0m\u001b[0mdownload_and_extract\u001b[0m\u001b[0;34m(\u001b[0m\u001b[0mself\u001b[0m\u001b[0;34m.\u001b[0m\u001b[0mconfig\u001b[0m\u001b[0;34m.\u001b[0m\u001b[0mdata_files\u001b[0m\u001b[0;34m)\u001b[0m\u001b[0;34m\u001b[0m\u001b[0;34m\u001b[0m\u001b[0m\n\u001b[0m\u001b[1;32m     79\u001b[0m         \u001b[0msplits\u001b[0m \u001b[0;34m=\u001b[0m \u001b[0;34m[\u001b[0m\u001b[0;34m]\u001b[0m\u001b[0;34m\u001b[0m\u001b[0;34m\u001b[0m\u001b[0m\n\u001b[1;32m     80\u001b[0m         \u001b[0;32mfor\u001b[0m \u001b[0msplit_name\u001b[0m\u001b[0;34m,\u001b[0m \u001b[0mfiles\u001b[0m \u001b[0;32min\u001b[0m \u001b[0mdata_files\u001b[0m\u001b[0;34m.\u001b[0m\u001b[0mitems\u001b[0m\u001b[0;34m(\u001b[0m\u001b[0;34m)\u001b[0m\u001b[0;34m:\u001b[0m\u001b[0;34m\u001b[0m\u001b[0;34m\u001b[0m\u001b[0m\n",
      "\u001b[0;32m/usr/local/lib/python3.11/dist-packages/datasets/download/download_manager.py\u001b[0m in \u001b[0;36mdownload_and_extract\u001b[0;34m(self, url_or_urls)\u001b[0m\n\u001b[1;32m    432\u001b[0m             \u001b[0mextracted_path\u001b[0m\u001b[0;34m(\u001b[0m\u001b[0ms\u001b[0m\u001b[0;34m)\u001b[0m\u001b[0;34m:\u001b[0m\u001b[0;31m \u001b[0m\u001b[0;31m`\u001b[0m\u001b[0mstr\u001b[0m\u001b[0;31m`\u001b[0m\u001b[0;34m,\u001b[0m \u001b[0mextracted\u001b[0m \u001b[0mpaths\u001b[0m \u001b[0mof\u001b[0m \u001b[0mgiven\u001b[0m \u001b[0mURL\u001b[0m\u001b[0;34m(\u001b[0m\u001b[0ms\u001b[0m\u001b[0;34m)\u001b[0m\u001b[0;34m.\u001b[0m\u001b[0;34m\u001b[0m\u001b[0;34m\u001b[0m\u001b[0m\n\u001b[1;32m    433\u001b[0m         \"\"\"\n\u001b[0;32m--> 434\u001b[0;31m         \u001b[0;32mreturn\u001b[0m \u001b[0mself\u001b[0m\u001b[0;34m.\u001b[0m\u001b[0mextract\u001b[0m\u001b[0;34m(\u001b[0m\u001b[0mself\u001b[0m\u001b[0;34m.\u001b[0m\u001b[0mdownload\u001b[0m\u001b[0;34m(\u001b[0m\u001b[0murl_or_urls\u001b[0m\u001b[0;34m)\u001b[0m\u001b[0;34m)\u001b[0m\u001b[0;34m\u001b[0m\u001b[0;34m\u001b[0m\u001b[0m\n\u001b[0m\u001b[1;32m    435\u001b[0m \u001b[0;34m\u001b[0m\u001b[0m\n\u001b[1;32m    436\u001b[0m     \u001b[0;32mdef\u001b[0m \u001b[0mget_recorded_sizes_checksums\u001b[0m\u001b[0;34m(\u001b[0m\u001b[0mself\u001b[0m\u001b[0;34m)\u001b[0m\u001b[0;34m:\u001b[0m\u001b[0;34m\u001b[0m\u001b[0;34m\u001b[0m\u001b[0m\n",
      "\u001b[0;32m/usr/local/lib/python3.11/dist-packages/datasets/download/download_manager.py\u001b[0m in \u001b[0;36mdownload\u001b[0;34m(self, url_or_urls)\u001b[0m\n\u001b[1;32m    255\u001b[0m         \u001b[0mstart_time\u001b[0m \u001b[0;34m=\u001b[0m \u001b[0mdatetime\u001b[0m\u001b[0;34m.\u001b[0m\u001b[0mnow\u001b[0m\u001b[0;34m(\u001b[0m\u001b[0;34m)\u001b[0m\u001b[0;34m\u001b[0m\u001b[0;34m\u001b[0m\u001b[0m\n\u001b[1;32m    256\u001b[0m         \u001b[0;32mwith\u001b[0m \u001b[0mstack_multiprocessing_download_progress_bars\u001b[0m\u001b[0;34m(\u001b[0m\u001b[0;34m)\u001b[0m\u001b[0;34m:\u001b[0m\u001b[0;34m\u001b[0m\u001b[0;34m\u001b[0m\u001b[0m\n\u001b[0;32m--> 257\u001b[0;31m             downloaded_path_or_paths = map_nested(\n\u001b[0m\u001b[1;32m    258\u001b[0m                 \u001b[0mdownload_func\u001b[0m\u001b[0;34m,\u001b[0m\u001b[0;34m\u001b[0m\u001b[0;34m\u001b[0m\u001b[0m\n\u001b[1;32m    259\u001b[0m                 \u001b[0murl_or_urls\u001b[0m\u001b[0;34m,\u001b[0m\u001b[0;34m\u001b[0m\u001b[0;34m\u001b[0m\u001b[0m\n",
      "\u001b[0;32m/usr/local/lib/python3.11/dist-packages/datasets/utils/py_utils.py\u001b[0m in \u001b[0;36mmap_nested\u001b[0;34m(function, data_struct, dict_only, map_list, map_tuple, map_numpy, num_proc, parallel_min_length, batched, batch_size, types, disable_tqdm, desc)\u001b[0m\n\u001b[1;32m    492\u001b[0m         \u001b[0mnum_proc\u001b[0m \u001b[0;34m=\u001b[0m \u001b[0;36m1\u001b[0m\u001b[0;34m\u001b[0m\u001b[0;34m\u001b[0m\u001b[0m\n\u001b[1;32m    493\u001b[0m     \u001b[0;32mif\u001b[0m \u001b[0many\u001b[0m\u001b[0;34m(\u001b[0m\u001b[0misinstance\u001b[0m\u001b[0;34m(\u001b[0m\u001b[0mv\u001b[0m\u001b[0;34m,\u001b[0m \u001b[0mtypes\u001b[0m\u001b[0;34m)\u001b[0m \u001b[0;32mand\u001b[0m \u001b[0mlen\u001b[0m\u001b[0;34m(\u001b[0m\u001b[0mv\u001b[0m\u001b[0;34m)\u001b[0m \u001b[0;34m>\u001b[0m \u001b[0mlen\u001b[0m\u001b[0;34m(\u001b[0m\u001b[0miterable\u001b[0m\u001b[0;34m)\u001b[0m \u001b[0;32mfor\u001b[0m \u001b[0mv\u001b[0m \u001b[0;32min\u001b[0m \u001b[0miterable\u001b[0m\u001b[0;34m)\u001b[0m\u001b[0;34m:\u001b[0m\u001b[0;34m\u001b[0m\u001b[0;34m\u001b[0m\u001b[0m\n\u001b[0;32m--> 494\u001b[0;31m         mapped = [\n\u001b[0m\u001b[1;32m    495\u001b[0m             map_nested(\n\u001b[1;32m    496\u001b[0m                 \u001b[0mfunction\u001b[0m\u001b[0;34m=\u001b[0m\u001b[0mfunction\u001b[0m\u001b[0;34m,\u001b[0m\u001b[0;34m\u001b[0m\u001b[0;34m\u001b[0m\u001b[0m\n",
      "\u001b[0;32m/usr/local/lib/python3.11/dist-packages/datasets/utils/py_utils.py\u001b[0m in \u001b[0;36m<listcomp>\u001b[0;34m(.0)\u001b[0m\n\u001b[1;32m    493\u001b[0m     \u001b[0;32mif\u001b[0m \u001b[0many\u001b[0m\u001b[0;34m(\u001b[0m\u001b[0misinstance\u001b[0m\u001b[0;34m(\u001b[0m\u001b[0mv\u001b[0m\u001b[0;34m,\u001b[0m \u001b[0mtypes\u001b[0m\u001b[0;34m)\u001b[0m \u001b[0;32mand\u001b[0m \u001b[0mlen\u001b[0m\u001b[0;34m(\u001b[0m\u001b[0mv\u001b[0m\u001b[0;34m)\u001b[0m \u001b[0;34m>\u001b[0m \u001b[0mlen\u001b[0m\u001b[0;34m(\u001b[0m\u001b[0miterable\u001b[0m\u001b[0;34m)\u001b[0m \u001b[0;32mfor\u001b[0m \u001b[0mv\u001b[0m \u001b[0;32min\u001b[0m \u001b[0miterable\u001b[0m\u001b[0;34m)\u001b[0m\u001b[0;34m:\u001b[0m\u001b[0;34m\u001b[0m\u001b[0;34m\u001b[0m\u001b[0m\n\u001b[1;32m    494\u001b[0m         mapped = [\n\u001b[0;32m--> 495\u001b[0;31m             map_nested(\n\u001b[0m\u001b[1;32m    496\u001b[0m                 \u001b[0mfunction\u001b[0m\u001b[0;34m=\u001b[0m\u001b[0mfunction\u001b[0m\u001b[0;34m,\u001b[0m\u001b[0;34m\u001b[0m\u001b[0;34m\u001b[0m\u001b[0m\n\u001b[1;32m    497\u001b[0m                 \u001b[0mdata_struct\u001b[0m\u001b[0;34m=\u001b[0m\u001b[0mobj\u001b[0m\u001b[0;34m,\u001b[0m\u001b[0;34m\u001b[0m\u001b[0;34m\u001b[0m\u001b[0m\n",
      "\u001b[0;32m/usr/local/lib/python3.11/dist-packages/datasets/utils/py_utils.py\u001b[0m in \u001b[0;36mmap_nested\u001b[0;34m(function, data_struct, dict_only, map_list, map_tuple, map_numpy, num_proc, parallel_min_length, batched, batch_size, types, disable_tqdm, desc)\u001b[0m\n\u001b[1;32m    509\u001b[0m                 \u001b[0mbatch_size\u001b[0m \u001b[0;34m=\u001b[0m \u001b[0mmax\u001b[0m\u001b[0;34m(\u001b[0m\u001b[0mlen\u001b[0m\u001b[0;34m(\u001b[0m\u001b[0miterable\u001b[0m\u001b[0;34m)\u001b[0m \u001b[0;34m//\u001b[0m \u001b[0mnum_proc\u001b[0m \u001b[0;34m+\u001b[0m \u001b[0mint\u001b[0m\u001b[0;34m(\u001b[0m\u001b[0mlen\u001b[0m\u001b[0;34m(\u001b[0m\u001b[0miterable\u001b[0m\u001b[0;34m)\u001b[0m \u001b[0;34m%\u001b[0m \u001b[0mnum_proc\u001b[0m \u001b[0;34m>\u001b[0m \u001b[0;36m0\u001b[0m\u001b[0;34m)\u001b[0m\u001b[0;34m,\u001b[0m \u001b[0;36m1\u001b[0m\u001b[0;34m)\u001b[0m\u001b[0;34m\u001b[0m\u001b[0;34m\u001b[0m\u001b[0m\n\u001b[1;32m    510\u001b[0m             \u001b[0miterable\u001b[0m \u001b[0;34m=\u001b[0m \u001b[0mlist\u001b[0m\u001b[0;34m(\u001b[0m\u001b[0miter_batched\u001b[0m\u001b[0;34m(\u001b[0m\u001b[0miterable\u001b[0m\u001b[0;34m,\u001b[0m \u001b[0mbatch_size\u001b[0m\u001b[0;34m)\u001b[0m\u001b[0;34m)\u001b[0m\u001b[0;34m\u001b[0m\u001b[0;34m\u001b[0m\u001b[0m\n\u001b[0;32m--> 511\u001b[0;31m         mapped = [\n\u001b[0m\u001b[1;32m    512\u001b[0m             \u001b[0m_single_map_nested\u001b[0m\u001b[0;34m(\u001b[0m\u001b[0;34m(\u001b[0m\u001b[0mfunction\u001b[0m\u001b[0;34m,\u001b[0m \u001b[0mobj\u001b[0m\u001b[0;34m,\u001b[0m \u001b[0mbatched\u001b[0m\u001b[0;34m,\u001b[0m \u001b[0mbatch_size\u001b[0m\u001b[0;34m,\u001b[0m \u001b[0mtypes\u001b[0m\u001b[0;34m,\u001b[0m \u001b[0;32mNone\u001b[0m\u001b[0;34m,\u001b[0m \u001b[0;32mTrue\u001b[0m\u001b[0;34m,\u001b[0m \u001b[0;32mNone\u001b[0m\u001b[0;34m)\u001b[0m\u001b[0;34m)\u001b[0m\u001b[0;34m\u001b[0m\u001b[0;34m\u001b[0m\u001b[0m\n\u001b[1;32m    513\u001b[0m             \u001b[0;32mfor\u001b[0m \u001b[0mobj\u001b[0m \u001b[0;32min\u001b[0m \u001b[0mhf_tqdm\u001b[0m\u001b[0;34m(\u001b[0m\u001b[0miterable\u001b[0m\u001b[0;34m,\u001b[0m \u001b[0mdisable\u001b[0m\u001b[0;34m=\u001b[0m\u001b[0mdisable_tqdm\u001b[0m\u001b[0;34m,\u001b[0m \u001b[0mdesc\u001b[0m\u001b[0;34m=\u001b[0m\u001b[0mdesc\u001b[0m\u001b[0;34m)\u001b[0m\u001b[0;34m\u001b[0m\u001b[0;34m\u001b[0m\u001b[0m\n",
      "\u001b[0;32m/usr/local/lib/python3.11/dist-packages/datasets/utils/py_utils.py\u001b[0m in \u001b[0;36m<listcomp>\u001b[0;34m(.0)\u001b[0m\n\u001b[1;32m    510\u001b[0m             \u001b[0miterable\u001b[0m \u001b[0;34m=\u001b[0m \u001b[0mlist\u001b[0m\u001b[0;34m(\u001b[0m\u001b[0miter_batched\u001b[0m\u001b[0;34m(\u001b[0m\u001b[0miterable\u001b[0m\u001b[0;34m,\u001b[0m \u001b[0mbatch_size\u001b[0m\u001b[0;34m)\u001b[0m\u001b[0;34m)\u001b[0m\u001b[0;34m\u001b[0m\u001b[0;34m\u001b[0m\u001b[0m\n\u001b[1;32m    511\u001b[0m         mapped = [\n\u001b[0;32m--> 512\u001b[0;31m             \u001b[0m_single_map_nested\u001b[0m\u001b[0;34m(\u001b[0m\u001b[0;34m(\u001b[0m\u001b[0mfunction\u001b[0m\u001b[0;34m,\u001b[0m \u001b[0mobj\u001b[0m\u001b[0;34m,\u001b[0m \u001b[0mbatched\u001b[0m\u001b[0;34m,\u001b[0m \u001b[0mbatch_size\u001b[0m\u001b[0;34m,\u001b[0m \u001b[0mtypes\u001b[0m\u001b[0;34m,\u001b[0m \u001b[0;32mNone\u001b[0m\u001b[0;34m,\u001b[0m \u001b[0;32mTrue\u001b[0m\u001b[0;34m,\u001b[0m \u001b[0;32mNone\u001b[0m\u001b[0;34m)\u001b[0m\u001b[0;34m)\u001b[0m\u001b[0;34m\u001b[0m\u001b[0;34m\u001b[0m\u001b[0m\n\u001b[0m\u001b[1;32m    513\u001b[0m             \u001b[0;32mfor\u001b[0m \u001b[0mobj\u001b[0m \u001b[0;32min\u001b[0m \u001b[0mhf_tqdm\u001b[0m\u001b[0;34m(\u001b[0m\u001b[0miterable\u001b[0m\u001b[0;34m,\u001b[0m \u001b[0mdisable\u001b[0m\u001b[0;34m=\u001b[0m\u001b[0mdisable_tqdm\u001b[0m\u001b[0;34m,\u001b[0m \u001b[0mdesc\u001b[0m\u001b[0;34m=\u001b[0m\u001b[0mdesc\u001b[0m\u001b[0;34m)\u001b[0m\u001b[0;34m\u001b[0m\u001b[0;34m\u001b[0m\u001b[0m\n\u001b[1;32m    514\u001b[0m         ]\n",
      "\u001b[0;32m/usr/local/lib/python3.11/dist-packages/datasets/utils/py_utils.py\u001b[0m in \u001b[0;36m_single_map_nested\u001b[0;34m(args)\u001b[0m\n\u001b[1;32m    378\u001b[0m         \u001b[0;32mand\u001b[0m \u001b[0mall\u001b[0m\u001b[0;34m(\u001b[0m\u001b[0;32mnot\u001b[0m \u001b[0misinstance\u001b[0m\u001b[0;34m(\u001b[0m\u001b[0mv\u001b[0m\u001b[0;34m,\u001b[0m \u001b[0;34m(\u001b[0m\u001b[0mdict\u001b[0m\u001b[0;34m,\u001b[0m \u001b[0mtypes\u001b[0m\u001b[0;34m)\u001b[0m\u001b[0;34m)\u001b[0m \u001b[0;32mfor\u001b[0m \u001b[0mv\u001b[0m \u001b[0;32min\u001b[0m \u001b[0mdata_struct\u001b[0m\u001b[0;34m)\u001b[0m\u001b[0;34m\u001b[0m\u001b[0;34m\u001b[0m\u001b[0m\n\u001b[1;32m    379\u001b[0m     ):\n\u001b[0;32m--> 380\u001b[0;31m         \u001b[0;32mreturn\u001b[0m \u001b[0;34m[\u001b[0m\u001b[0mmapped_item\u001b[0m \u001b[0;32mfor\u001b[0m \u001b[0mbatch\u001b[0m \u001b[0;32min\u001b[0m \u001b[0miter_batched\u001b[0m\u001b[0;34m(\u001b[0m\u001b[0mdata_struct\u001b[0m\u001b[0;34m,\u001b[0m \u001b[0mbatch_size\u001b[0m\u001b[0;34m)\u001b[0m \u001b[0;32mfor\u001b[0m \u001b[0mmapped_item\u001b[0m \u001b[0;32min\u001b[0m \u001b[0mfunction\u001b[0m\u001b[0;34m(\u001b[0m\u001b[0mbatch\u001b[0m\u001b[0;34m)\u001b[0m\u001b[0;34m]\u001b[0m\u001b[0;34m\u001b[0m\u001b[0;34m\u001b[0m\u001b[0m\n\u001b[0m\u001b[1;32m    381\u001b[0m \u001b[0;34m\u001b[0m\u001b[0m\n\u001b[1;32m    382\u001b[0m     \u001b[0;31m# Reduce logging to keep things readable in multiprocessing with tqdm\u001b[0m\u001b[0;34m\u001b[0m\u001b[0;34m\u001b[0m\u001b[0m\n",
      "\u001b[0;32m/usr/local/lib/python3.11/dist-packages/datasets/utils/py_utils.py\u001b[0m in \u001b[0;36m<listcomp>\u001b[0;34m(.0)\u001b[0m\n\u001b[1;32m    378\u001b[0m         \u001b[0;32mand\u001b[0m \u001b[0mall\u001b[0m\u001b[0;34m(\u001b[0m\u001b[0;32mnot\u001b[0m \u001b[0misinstance\u001b[0m\u001b[0;34m(\u001b[0m\u001b[0mv\u001b[0m\u001b[0;34m,\u001b[0m \u001b[0;34m(\u001b[0m\u001b[0mdict\u001b[0m\u001b[0;34m,\u001b[0m \u001b[0mtypes\u001b[0m\u001b[0;34m)\u001b[0m\u001b[0;34m)\u001b[0m \u001b[0;32mfor\u001b[0m \u001b[0mv\u001b[0m \u001b[0;32min\u001b[0m \u001b[0mdata_struct\u001b[0m\u001b[0;34m)\u001b[0m\u001b[0;34m\u001b[0m\u001b[0;34m\u001b[0m\u001b[0m\n\u001b[1;32m    379\u001b[0m     ):\n\u001b[0;32m--> 380\u001b[0;31m         \u001b[0;32mreturn\u001b[0m \u001b[0;34m[\u001b[0m\u001b[0mmapped_item\u001b[0m \u001b[0;32mfor\u001b[0m \u001b[0mbatch\u001b[0m \u001b[0;32min\u001b[0m \u001b[0miter_batched\u001b[0m\u001b[0;34m(\u001b[0m\u001b[0mdata_struct\u001b[0m\u001b[0;34m,\u001b[0m \u001b[0mbatch_size\u001b[0m\u001b[0;34m)\u001b[0m \u001b[0;32mfor\u001b[0m \u001b[0mmapped_item\u001b[0m \u001b[0;32min\u001b[0m \u001b[0mfunction\u001b[0m\u001b[0;34m(\u001b[0m\u001b[0mbatch\u001b[0m\u001b[0;34m)\u001b[0m\u001b[0;34m]\u001b[0m\u001b[0;34m\u001b[0m\u001b[0;34m\u001b[0m\u001b[0m\n\u001b[0m\u001b[1;32m    381\u001b[0m \u001b[0;34m\u001b[0m\u001b[0m\n\u001b[1;32m    382\u001b[0m     \u001b[0;31m# Reduce logging to keep things readable in multiprocessing with tqdm\u001b[0m\u001b[0;34m\u001b[0m\u001b[0;34m\u001b[0m\u001b[0m\n",
      "\u001b[0;32m/usr/local/lib/python3.11/dist-packages/datasets/download/download_manager.py\u001b[0m in \u001b[0;36m_download_batched\u001b[0;34m(self, url_or_filenames, download_config)\u001b[0m\n\u001b[1;32m    298\u001b[0m             )  # enable multithreading if files are small\n\u001b[1;32m    299\u001b[0m \u001b[0;34m\u001b[0m\u001b[0m\n\u001b[0;32m--> 300\u001b[0;31m             return thread_map(\n\u001b[0m\u001b[1;32m    301\u001b[0m                 \u001b[0mdownload_func\u001b[0m\u001b[0;34m,\u001b[0m\u001b[0;34m\u001b[0m\u001b[0;34m\u001b[0m\u001b[0m\n\u001b[1;32m    302\u001b[0m                 \u001b[0murl_or_filenames\u001b[0m\u001b[0;34m,\u001b[0m\u001b[0;34m\u001b[0m\u001b[0;34m\u001b[0m\u001b[0m\n",
      "\u001b[0;32m/usr/local/lib/python3.11/dist-packages/tqdm/contrib/concurrent.py\u001b[0m in \u001b[0;36mthread_map\u001b[0;34m(fn, *iterables, **tqdm_kwargs)\u001b[0m\n\u001b[1;32m     67\u001b[0m     \"\"\"\n\u001b[1;32m     68\u001b[0m     \u001b[0;32mfrom\u001b[0m \u001b[0mconcurrent\u001b[0m\u001b[0;34m.\u001b[0m\u001b[0mfutures\u001b[0m \u001b[0;32mimport\u001b[0m \u001b[0mThreadPoolExecutor\u001b[0m\u001b[0;34m\u001b[0m\u001b[0;34m\u001b[0m\u001b[0m\n\u001b[0;32m---> 69\u001b[0;31m     \u001b[0;32mreturn\u001b[0m \u001b[0m_executor_map\u001b[0m\u001b[0;34m(\u001b[0m\u001b[0mThreadPoolExecutor\u001b[0m\u001b[0;34m,\u001b[0m \u001b[0mfn\u001b[0m\u001b[0;34m,\u001b[0m \u001b[0;34m*\u001b[0m\u001b[0miterables\u001b[0m\u001b[0;34m,\u001b[0m \u001b[0;34m**\u001b[0m\u001b[0mtqdm_kwargs\u001b[0m\u001b[0;34m)\u001b[0m\u001b[0;34m\u001b[0m\u001b[0;34m\u001b[0m\u001b[0m\n\u001b[0m\u001b[1;32m     70\u001b[0m \u001b[0;34m\u001b[0m\u001b[0m\n\u001b[1;32m     71\u001b[0m \u001b[0;34m\u001b[0m\u001b[0m\n",
      "\u001b[0;32m/usr/local/lib/python3.11/dist-packages/tqdm/contrib/concurrent.py\u001b[0m in \u001b[0;36m_executor_map\u001b[0;34m(PoolExecutor, fn, *iterables, **tqdm_kwargs)\u001b[0m\n\u001b[1;32m     49\u001b[0m         with PoolExecutor(max_workers=max_workers, initializer=tqdm_class.set_lock,\n\u001b[1;32m     50\u001b[0m                           initargs=(lk,)) as ex:\n\u001b[0;32m---> 51\u001b[0;31m             \u001b[0;32mreturn\u001b[0m \u001b[0mlist\u001b[0m\u001b[0;34m(\u001b[0m\u001b[0mtqdm_class\u001b[0m\u001b[0;34m(\u001b[0m\u001b[0mex\u001b[0m\u001b[0;34m.\u001b[0m\u001b[0mmap\u001b[0m\u001b[0;34m(\u001b[0m\u001b[0mfn\u001b[0m\u001b[0;34m,\u001b[0m \u001b[0;34m*\u001b[0m\u001b[0miterables\u001b[0m\u001b[0;34m,\u001b[0m \u001b[0mchunksize\u001b[0m\u001b[0;34m=\u001b[0m\u001b[0mchunksize\u001b[0m\u001b[0;34m)\u001b[0m\u001b[0;34m,\u001b[0m \u001b[0;34m**\u001b[0m\u001b[0mkwargs\u001b[0m\u001b[0;34m)\u001b[0m\u001b[0;34m)\u001b[0m\u001b[0;34m\u001b[0m\u001b[0;34m\u001b[0m\u001b[0m\n\u001b[0m\u001b[1;32m     52\u001b[0m \u001b[0;34m\u001b[0m\u001b[0m\n\u001b[1;32m     53\u001b[0m \u001b[0;34m\u001b[0m\u001b[0m\n",
      "\u001b[0;32m/usr/local/lib/python3.11/dist-packages/tqdm/notebook.py\u001b[0m in \u001b[0;36m__iter__\u001b[0;34m(self)\u001b[0m\n\u001b[1;32m    248\u001b[0m         \u001b[0;32mtry\u001b[0m\u001b[0;34m:\u001b[0m\u001b[0;34m\u001b[0m\u001b[0;34m\u001b[0m\u001b[0m\n\u001b[1;32m    249\u001b[0m             \u001b[0mit\u001b[0m \u001b[0;34m=\u001b[0m \u001b[0msuper\u001b[0m\u001b[0;34m(\u001b[0m\u001b[0;34m)\u001b[0m\u001b[0;34m.\u001b[0m\u001b[0m__iter__\u001b[0m\u001b[0;34m(\u001b[0m\u001b[0;34m)\u001b[0m\u001b[0;34m\u001b[0m\u001b[0;34m\u001b[0m\u001b[0m\n\u001b[0;32m--> 250\u001b[0;31m             \u001b[0;32mfor\u001b[0m \u001b[0mobj\u001b[0m \u001b[0;32min\u001b[0m \u001b[0mit\u001b[0m\u001b[0;34m:\u001b[0m\u001b[0;34m\u001b[0m\u001b[0;34m\u001b[0m\u001b[0m\n\u001b[0m\u001b[1;32m    251\u001b[0m                 \u001b[0;31m# return super(tqdm...) will not catch exception\u001b[0m\u001b[0;34m\u001b[0m\u001b[0;34m\u001b[0m\u001b[0m\n\u001b[1;32m    252\u001b[0m                 \u001b[0;32myield\u001b[0m \u001b[0mobj\u001b[0m\u001b[0;34m\u001b[0m\u001b[0;34m\u001b[0m\u001b[0m\n",
      "\u001b[0;32m/usr/local/lib/python3.11/dist-packages/tqdm/std.py\u001b[0m in \u001b[0;36m__iter__\u001b[0;34m(self)\u001b[0m\n\u001b[1;32m   1179\u001b[0m \u001b[0;34m\u001b[0m\u001b[0m\n\u001b[1;32m   1180\u001b[0m         \u001b[0;32mtry\u001b[0m\u001b[0;34m:\u001b[0m\u001b[0;34m\u001b[0m\u001b[0;34m\u001b[0m\u001b[0m\n\u001b[0;32m-> 1181\u001b[0;31m             \u001b[0;32mfor\u001b[0m \u001b[0mobj\u001b[0m \u001b[0;32min\u001b[0m \u001b[0miterable\u001b[0m\u001b[0;34m:\u001b[0m\u001b[0;34m\u001b[0m\u001b[0;34m\u001b[0m\u001b[0m\n\u001b[0m\u001b[1;32m   1182\u001b[0m                 \u001b[0;32myield\u001b[0m \u001b[0mobj\u001b[0m\u001b[0;34m\u001b[0m\u001b[0;34m\u001b[0m\u001b[0m\n\u001b[1;32m   1183\u001b[0m                 \u001b[0;31m# Update and possibly print the progressbar.\u001b[0m\u001b[0;34m\u001b[0m\u001b[0;34m\u001b[0m\u001b[0m\n",
      "\u001b[0;32m/usr/lib/python3.11/concurrent/futures/_base.py\u001b[0m in \u001b[0;36mresult_iterator\u001b[0;34m()\u001b[0m\n\u001b[1;32m    617\u001b[0m                     \u001b[0;31m# Careful not to keep a reference to the popped future\u001b[0m\u001b[0;34m\u001b[0m\u001b[0;34m\u001b[0m\u001b[0m\n\u001b[1;32m    618\u001b[0m                     \u001b[0;32mif\u001b[0m \u001b[0mtimeout\u001b[0m \u001b[0;32mis\u001b[0m \u001b[0;32mNone\u001b[0m\u001b[0;34m:\u001b[0m\u001b[0;34m\u001b[0m\u001b[0;34m\u001b[0m\u001b[0m\n\u001b[0;32m--> 619\u001b[0;31m                         \u001b[0;32myield\u001b[0m \u001b[0m_result_or_cancel\u001b[0m\u001b[0;34m(\u001b[0m\u001b[0mfs\u001b[0m\u001b[0;34m.\u001b[0m\u001b[0mpop\u001b[0m\u001b[0;34m(\u001b[0m\u001b[0;34m)\u001b[0m\u001b[0;34m)\u001b[0m\u001b[0;34m\u001b[0m\u001b[0;34m\u001b[0m\u001b[0m\n\u001b[0m\u001b[1;32m    620\u001b[0m                     \u001b[0;32melse\u001b[0m\u001b[0;34m:\u001b[0m\u001b[0;34m\u001b[0m\u001b[0;34m\u001b[0m\u001b[0m\n\u001b[1;32m    621\u001b[0m                         \u001b[0;32myield\u001b[0m \u001b[0m_result_or_cancel\u001b[0m\u001b[0;34m(\u001b[0m\u001b[0mfs\u001b[0m\u001b[0;34m.\u001b[0m\u001b[0mpop\u001b[0m\u001b[0;34m(\u001b[0m\u001b[0;34m)\u001b[0m\u001b[0;34m,\u001b[0m \u001b[0mend_time\u001b[0m \u001b[0;34m-\u001b[0m \u001b[0mtime\u001b[0m\u001b[0;34m.\u001b[0m\u001b[0mmonotonic\u001b[0m\u001b[0;34m(\u001b[0m\u001b[0;34m)\u001b[0m\u001b[0;34m)\u001b[0m\u001b[0;34m\u001b[0m\u001b[0;34m\u001b[0m\u001b[0m\n",
      "\u001b[0;32m/usr/lib/python3.11/concurrent/futures/_base.py\u001b[0m in \u001b[0;36m_result_or_cancel\u001b[0;34m(***failed resolving arguments***)\u001b[0m\n\u001b[1;32m    315\u001b[0m     \u001b[0;32mtry\u001b[0m\u001b[0;34m:\u001b[0m\u001b[0;34m\u001b[0m\u001b[0;34m\u001b[0m\u001b[0m\n\u001b[1;32m    316\u001b[0m         \u001b[0;32mtry\u001b[0m\u001b[0;34m:\u001b[0m\u001b[0;34m\u001b[0m\u001b[0;34m\u001b[0m\u001b[0m\n\u001b[0;32m--> 317\u001b[0;31m             \u001b[0;32mreturn\u001b[0m \u001b[0mfut\u001b[0m\u001b[0;34m.\u001b[0m\u001b[0mresult\u001b[0m\u001b[0;34m(\u001b[0m\u001b[0mtimeout\u001b[0m\u001b[0;34m)\u001b[0m\u001b[0;34m\u001b[0m\u001b[0;34m\u001b[0m\u001b[0m\n\u001b[0m\u001b[1;32m    318\u001b[0m         \u001b[0;32mfinally\u001b[0m\u001b[0;34m:\u001b[0m\u001b[0;34m\u001b[0m\u001b[0;34m\u001b[0m\u001b[0m\n\u001b[1;32m    319\u001b[0m             \u001b[0mfut\u001b[0m\u001b[0;34m.\u001b[0m\u001b[0mcancel\u001b[0m\u001b[0;34m(\u001b[0m\u001b[0;34m)\u001b[0m\u001b[0;34m\u001b[0m\u001b[0;34m\u001b[0m\u001b[0m\n",
      "\u001b[0;32m/usr/lib/python3.11/concurrent/futures/_base.py\u001b[0m in \u001b[0;36mresult\u001b[0;34m(self, timeout)\u001b[0m\n\u001b[1;32m    449\u001b[0m                     \u001b[0;32mreturn\u001b[0m \u001b[0mself\u001b[0m\u001b[0;34m.\u001b[0m\u001b[0m__get_result\u001b[0m\u001b[0;34m(\u001b[0m\u001b[0;34m)\u001b[0m\u001b[0;34m\u001b[0m\u001b[0;34m\u001b[0m\u001b[0m\n\u001b[1;32m    450\u001b[0m \u001b[0;34m\u001b[0m\u001b[0m\n\u001b[0;32m--> 451\u001b[0;31m                 \u001b[0mself\u001b[0m\u001b[0;34m.\u001b[0m\u001b[0m_condition\u001b[0m\u001b[0;34m.\u001b[0m\u001b[0mwait\u001b[0m\u001b[0;34m(\u001b[0m\u001b[0mtimeout\u001b[0m\u001b[0;34m)\u001b[0m\u001b[0;34m\u001b[0m\u001b[0;34m\u001b[0m\u001b[0m\n\u001b[0m\u001b[1;32m    452\u001b[0m \u001b[0;34m\u001b[0m\u001b[0m\n\u001b[1;32m    453\u001b[0m                 \u001b[0;32mif\u001b[0m \u001b[0mself\u001b[0m\u001b[0;34m.\u001b[0m\u001b[0m_state\u001b[0m \u001b[0;32min\u001b[0m \u001b[0;34m[\u001b[0m\u001b[0mCANCELLED\u001b[0m\u001b[0;34m,\u001b[0m \u001b[0mCANCELLED_AND_NOTIFIED\u001b[0m\u001b[0;34m]\u001b[0m\u001b[0;34m:\u001b[0m\u001b[0;34m\u001b[0m\u001b[0;34m\u001b[0m\u001b[0m\n",
      "\u001b[0;32m/usr/lib/python3.11/threading.py\u001b[0m in \u001b[0;36mwait\u001b[0;34m(self, timeout)\u001b[0m\n\u001b[1;32m    325\u001b[0m         \u001b[0;32mtry\u001b[0m\u001b[0;34m:\u001b[0m    \u001b[0;31m# restore state no matter what (e.g., KeyboardInterrupt)\u001b[0m\u001b[0;34m\u001b[0m\u001b[0;34m\u001b[0m\u001b[0m\n\u001b[1;32m    326\u001b[0m             \u001b[0;32mif\u001b[0m \u001b[0mtimeout\u001b[0m \u001b[0;32mis\u001b[0m \u001b[0;32mNone\u001b[0m\u001b[0;34m:\u001b[0m\u001b[0;34m\u001b[0m\u001b[0;34m\u001b[0m\u001b[0m\n\u001b[0;32m--> 327\u001b[0;31m                 \u001b[0mwaiter\u001b[0m\u001b[0;34m.\u001b[0m\u001b[0macquire\u001b[0m\u001b[0;34m(\u001b[0m\u001b[0;34m)\u001b[0m\u001b[0;34m\u001b[0m\u001b[0;34m\u001b[0m\u001b[0m\n\u001b[0m\u001b[1;32m    328\u001b[0m                 \u001b[0mgotit\u001b[0m \u001b[0;34m=\u001b[0m \u001b[0;32mTrue\u001b[0m\u001b[0;34m\u001b[0m\u001b[0;34m\u001b[0m\u001b[0m\n\u001b[1;32m    329\u001b[0m             \u001b[0;32melse\u001b[0m\u001b[0;34m:\u001b[0m\u001b[0;34m\u001b[0m\u001b[0;34m\u001b[0m\u001b[0m\n",
      "\u001b[0;31mKeyboardInterrupt\u001b[0m: "
     ]
    }
   ],
   "source": [
    "c4 = load_dataset(\"allenai/c4\", 'en')"
   ]
  },
  {
   "cell_type": "code",
   "execution_count": null,
   "metadata": {
    "id": "GckBN4TuaDnt"
   },
   "outputs": [],
   "source": []
  },
  {
   "cell_type": "code",
   "execution_count": null,
   "metadata": {
    "colab": {
     "base_uri": "https://localhost:8080/",
     "height": 99,
     "referenced_widgets": [
      "f822200acb694118af3fd7de6a5b4b4b",
      "7bf2bd1201f54c3795ee0193dec96496",
      "2564ec486de24dc68eb30269c8ae46a1",
      "4500b8ec4c524cf1b8306f0ebbd7f3a1",
      "e54b361e84a84485bf9a0e6fe96e138d",
      "1154b73a518948c3a877d5f0d6bd003f",
      "bf0a072eb3e840e1bce4daa93d47dac5",
      "60c802d022fb4328819824d916d7cd6e",
      "8b6e3ce6b9ac48a288ed7c161b962398",
      "f2390889dfc244ba969865cf1ad53b77",
      "ba6afb89eb2a4c77b81bf7971795c949",
      "e9e7399a35c74339b9b12214f7f08f15",
      "a076967449b84e36a462f1269083db79",
      "254c78e403f8418cab9e5efff6bd5615",
      "ecf8d54cd4ff45e39fdc8f03ff1158a3",
      "33adcc8a3aa74d129f5d3b0583c3b167",
      "4acce2b842d84f85ac93c9e0b156a989",
      "34176ddec2af4feebcd2ef18e2e7255b",
      "15ffdc6a81fc4e4fa3034f9a04eb23f4",
      "fe294cbebde14bb6aa7aace87339dac3",
      "b9f22dd418634e149906b369afefb18c",
      "e1974d424dc441539f9893bba0b92f28"
     ]
    },
    "id": "Ha77brPEZZfh",
    "outputId": "911480c4-5416-4287-9c33-37a7b9ea7c03"
   },
   "outputs": [
    {
     "data": {
      "application/vnd.jupyter.widget-view+json": {
       "model_id": "f822200acb694118af3fd7de6a5b4b4b",
       "version_major": 2,
       "version_minor": 0
      },
      "text/plain": [
       "Resolving data files:   0%|          | 0/1024 [00:00<?, ?it/s]"
      ]
     },
     "metadata": {},
     "output_type": "display_data"
    },
    {
     "data": {
      "application/vnd.jupyter.widget-view+json": {
       "model_id": "e9e7399a35c74339b9b12214f7f08f15",
       "version_major": 2,
       "version_minor": 0
      },
      "text/plain": [
       "Resolving data files:   0%|          | 0/1024 [00:00<?, ?it/s]"
      ]
     },
     "metadata": {},
     "output_type": "display_data"
    },
    {
     "name": "stdout",
     "output_type": "stream",
     "text": [
      "10000\n"
     ]
    }
   ],
   "source": [
    "ds = load_dataset(\"allenai/c4\", \"en\", split=\"train\", streaming=True)\n",
    "sample = ds.shuffle(buffer_size=100000, seed=42).take(100000)\n",
    "\n",
    "# Создаём итератор по батчам\n",
    "batch_iterator = sample.iter(batch_size=10000)\n",
    "\n",
    "# Получаем первый батч\n",
    "batch32 = next(batch_iterator)\n",
    "print(len(batch32[\"text\"]))  # 32\n"
   ]
  },
  {
   "cell_type": "code",
   "execution_count": null,
   "metadata": {
    "colab": {
     "base_uri": "https://localhost:8080/",
     "height": 72
    },
    "id": "lLnihzR5ZbLX",
    "outputId": "7b1b263f-f6d8-4010-db64-238d2bcb6503"
   },
   "outputs": [
    {
     "data": {
      "application/vnd.google.colaboratory.intrinsic+json": {
       "type": "string"
      },
      "text/plain": [
       "'Showing \"2500 Headlight\" search results as seen on April 19, 2019.\\nShop for 2500 Headlight - top sales, deals, offers, and 2500 Headlight discounts are available 24/7/365 at Shopneter.com.\\nCustomers who search 2500 Headlight also buy this items: Miniature Snowman, 14k Gold Coin Bezel, Brass Shell Timbales.'"
      ]
     },
     "execution_count": 33,
     "metadata": {},
     "output_type": "execute_result"
    }
   ],
   "source": [
    "batch32['text'][0]"
   ]
  },
  {
   "cell_type": "code",
   "execution_count": null,
   "metadata": {
    "colab": {
     "base_uri": "https://localhost:8080/",
     "height": 182
    },
    "id": "wSf0Oz4oc7lR",
    "outputId": "ace9c82e-8e38-46a4-d40e-7d3f2f43c681"
   },
   "outputs": [
    {
     "data": {
      "application/vnd.google.colaboratory.intrinsic+json": {
       "type": "string"
      },
      "text/plain": [
       "\"GAME NOTES: The 10th-ranked Michigan Wolverines will attempt to keep their undefeated reign atop the Big Ten Conference standings alive on Sunday afternoon when they travel to Bloomington to take on the Indiana Hoosiers at Assembly Hall.\\nMichigan is 8-0 in the Big Ten for the first time since the 1976-77 season and has won 10 straight overall, which is its second-longest winning streak under head coach John Beilein, falling short of only its 16-game run to start last season. The Wolverines success continued on Thursday night at home, as they improved to 16-4 following a 75-66 win over Purdue.\\nIndiana is in the midst of a disappointing campaign by its lofty standards, as it is 13-8 overall and just 3-5 in league action. The Hoosiers have lost two of three, most recently dropping a 60-55 decision at Nebraska on Thursday, but they have defended their home floor well with wins in 11 of 13 matchups at Assembly Hall.\\nThe Hoosiers have nearly doubled up the Wolverines in the all-time series, holding a 103-56 advantage, which includes wins in both of the matchups last season.\\nThe Wolverines opened up a lead as large as 17 late in the second half of their most recent game and held on to defeat Purdue by nine, shooting a blistering 60.9 percent from the field in the process. Nik Stauskas led the way with 16 points, while Caris LeVert tallied a double-double with 14 points and 11 rebounds and also helped out on the defensive end of the floor with three steals and two blocks. Derrick Walton Jr. and Jordan Morgan netted 14 and 11 points, respectively.\\nMichigan's dominance has been well documented this season. It not only boasts an outstanding offense, shooting 49 percent from the field for 77.2 ppg, but it also holds opponents to only 43.3 percent shooting and 64.4 ppg. The team has no discernable weaknesses, boasting positive rebounding (+2.4) and turnover (+2.1) margins and great percentages from 3-point range (.395) and the foul line (.749). Stauskas (18.4 ppg) has been especially potent from long distance, draining 50 3-pointers at a 45.9 percent clip. Glenn Robinson III (13.4 ppg), LeVert (12.0 ppg) and Walton (8.6 ppg) are also integral pieces of the puzzle.\\nThe Hoosiers put forth an outstanding first-half effort at Nebraska on Thursday, running out to a 13-point lead at intermission, but they fell flat in the second stanza and eventually lost the five-point decision thanks in part to a prolonged 27-10 run by the Cornhuskers. Indiana shot 45.5 percent from the field but were hindered by a game-high 19 turnovers. Kevin Ferrell drained 4-of-7 from beyond the arc for 14 points, while Will Sheehey and Stanford Robinson netted 12 points apiece.\\nDespite its modest record, IU has displayed great balanced this season, as it outshoots its opponents from the field, 44.7 percent to 40 percent, while sporting a +8.5 scoring margin. Its advantage on the glass (+11.0) ranks in the top-five nationally, although it also gives away possessions with a -2.5 turnover margin. Ferrell leads the way with 17.3 ppg with impressive showings from 3-point range (.414) and the free-throw line (.842). Noah Vonleh (11.8 ppg, 9.3 rpg) is a double-double threat each time out, and Sheehey brings 10.2 ppg to the table.\\nThe Hoosiers have been much better on their home floor than they have been away from Bloomington, but they have been too inconsistent of late to trust against one of the nation's hottest teams.\""
      ]
     },
     "execution_count": 29,
     "metadata": {},
     "output_type": "execute_result"
    }
   ],
   "source": [
    "batch32['text'][1]"
   ]
  },
  {
   "cell_type": "code",
   "execution_count": null,
   "metadata": {
    "colab": {
     "base_uri": "https://localhost:8080/",
     "height": 182
    },
    "id": "TeVbmttMdBmA",
    "outputId": "4b141bdb-c949-4545-8a24-a3451bb4a9f6"
   },
   "outputs": [
    {
     "data": {
      "application/vnd.google.colaboratory.intrinsic+json": {
       "type": "string"
      },
      "text/plain": [
       "'Located in Melbourne, Tivoli Hi-Fi & Home Cinema are a family owned business who have not only lived through all the revolutions of the music industry, but have seen, sold and serviced every technology the hifi industry has put up. Our business is run and operated by music lovers, we listen to music, buy music, stream music and go to live music gigs, so our purpose is to help like-minded music lovers get the best home experience from their music and stock some of the best equipment in the world to achieve this.\\nAt Tivoli Hi-Fi & Home Cinema we specialise in turntables, amplifiers, CD players, music streamers, televisions, headphones, DA converters and of course speakers of every shape and size, and have 9 display/demonstration rooms, a vast array of hifi to demonstrate, and can replace or add to your existing stereo or create whole systems. Whether you’re after straight forward invisible hifi, more advanced multi room digital music systems, or a totally bespoke home cinema let Tivoli Hi-Fi take care of your project.\\nSpeak to one of our specialists for advice or to book an appointment, and let Tivoli Hi-Fi bring superior music quality into your home.\\nI was having a look at there brands they supply and thought I would have a look next time I was In the area. And WOW the store is awesome. Loved the layout and being able to try all the headphones out first. Some of the headphones were worth 1000’s. I bought a pair worth around $900 and am extremely happy with them. I’ll be back for sure!\\nThank you for visiting the page of Tivoli Hi-Fi & Home Cinema as part of the Rainbow gay friendly network. Tivoli Hi-Fi & Home Cinema is located in Victoria and are happy to assist the gay and lesbian /lgbti community when looking for Home Entertainment Retailers. Tivoli Hi-Fi & Home Cinema is proud to be part of the rainbow flag Australia network and can be contacted on (03) 9813 3533.'"
      ]
     },
     "execution_count": 30,
     "metadata": {},
     "output_type": "execute_result"
    }
   ],
   "source": [
    "batch32['text'][2]"
   ]
  },
  {
   "cell_type": "code",
   "execution_count": null,
   "metadata": {
    "colab": {
     "base_uri": "https://localhost:8080/",
     "height": 72
    },
    "id": "8aMajHHTdC55",
    "outputId": "9ff06dbd-46e9-4d94-f83e-0723efe7ee42"
   },
   "outputs": [
    {
     "data": {
      "application/vnd.google.colaboratory.intrinsic+json": {
       "type": "string"
      },
      "text/plain": [
       "'Regular price $65.00. Select colors on sale!\\nSmooth cups and a comfortable fit make our Top Tier T-Shirt Bra perfect for every day.\\nElegant, sophisticated, and oh-so comfortable, this is the ultimate everday t-shirt bra. Smooth cups and superior support make our Top Tier Underwire T-Shirt Bra the perfect companion for almost any knit, tee, or close-fitting top.'"
      ]
     },
     "execution_count": 31,
     "metadata": {},
     "output_type": "execute_result"
    }
   ],
   "source": [
    "batch32['text'][3]"
   ]
  },
  {
   "cell_type": "code",
   "execution_count": null,
   "metadata": {
    "id": "aTLNSdeWd1SM"
   },
   "outputs": [],
   "source": [
    "Как думаешь для построения похожестей слоев норм просто взять универсальный датасет типа C4, который содержит очень разнообразные примеры, брать оттуда батчи случайные, считать по ним метрики, потом по батчам усреднять.\n",
    "типо вот так\n"
   ]
  },
  {
   "cell_type": "code",
   "execution_count": null,
   "metadata": {
    "id": "6Se7fSxddG-m"
   },
   "outputs": [],
   "source": [
    "ds = load_dataset(\"allenai/c4\", \"en\", split=\"train\", streaming=True)\n"
   ]
  },
  {
   "cell_type": "code",
   "execution_count": null,
   "metadata": {
    "colab": {
     "base_uri": "https://localhost:8080/",
     "height": 81,
     "referenced_widgets": [
      "5e85bca940154e728edf00dab3f80360",
      "841f8f3b701749b3b21510142b26941c",
      "d65255f1e7934384996c81b1f5f141b0",
      "60f053e79ce2461ea12898bb799f0f69",
      "824e457e1a054b208f8fc0b00114cc14",
      "6d547d8ef3d84a7cb676e920278e2054",
      "87b3a8319d874184bb157a795db59f58",
      "916cb6049cb94dc2bb3b119e8bb74aed",
      "6a29c9064e6b470db9644075cc3e1ea1",
      "c5eccecd5019471e86c160c41317441e",
      "01e768bfff6342e1a0351f979d32287d",
      "5463126615b34060ace9ae3e9e419e50",
      "7e26c527e33d438a8f520e76081cc7d4",
      "debf7dfd646a43ac96aa31674bb5c670",
      "6178c99c653246a1995f9f2cb9bc829b",
      "c7926596de394815946b1fedad9f5d2d",
      "6ac7e8ca9a8c46cfabaa4f65c8bd5384",
      "ad2ce87b559b4126bf75005b2ca8df84",
      "7f500f5b818d4482a636ce8074b1a560",
      "3a0a5d700190475380443608a7c7dc91",
      "2bce0c19a3f4479ca97d84e7aded5aa5",
      "0129bc49779e4adca715751d4194e3af"
     ]
    },
    "id": "FXvXVCTxeY9_",
    "outputId": "173f8c67-7432-4062-c4ab-361fd849bad5"
   },
   "outputs": [
    {
     "data": {
      "application/vnd.jupyter.widget-view+json": {
       "model_id": "5e85bca940154e728edf00dab3f80360",
       "version_major": 2,
       "version_minor": 0
      },
      "text/plain": [
       "Resolving data files:   0%|          | 0/1024 [00:00<?, ?it/s]"
      ]
     },
     "metadata": {},
     "output_type": "display_data"
    },
    {
     "data": {
      "application/vnd.jupyter.widget-view+json": {
       "model_id": "5463126615b34060ace9ae3e9e419e50",
       "version_major": 2,
       "version_minor": 0
      },
      "text/plain": [
       "Resolving data files:   0%|          | 0/1024 [00:00<?, ?it/s]"
      ]
     },
     "metadata": {},
     "output_type": "display_data"
    }
   ],
   "source": [
    "ds = load_dataset(\"allenai/c4\", \"en\", split=\"train\", streaming=True)\n",
    "\n",
    "all_texts = []\n",
    "for i in range(10):\n",
    "\n",
    "  ds_shuffled = ds.shuffle(buffer_size=10_000, seed=42)\n",
    "\n",
    "\n",
    "  sample = ds_shuffled.take(10_000)\n",
    "  batch = [s['text'] for s in sample]\n",
    "  all_texts += batch"
   ]
  },
  {
   "cell_type": "code",
   "execution_count": null,
   "metadata": {
    "colab": {
     "base_uri": "https://localhost:8080/"
    },
    "id": "5CU9rlmoeZyO",
    "outputId": "9fe71206-5682-4692-b4f4-37df1932a004"
   },
   "outputs": [
    {
     "data": {
      "text/plain": [
       "100000"
      ]
     },
     "execution_count": 45,
     "metadata": {},
     "output_type": "execute_result"
    }
   ],
   "source": [
    "len(all_texts)"
   ]
  },
  {
   "cell_type": "code",
   "execution_count": null,
   "metadata": {
    "colab": {
     "base_uri": "https://localhost:8080/",
     "height": 81,
     "referenced_widgets": [
      "e331fa88b22240e4a7e57a12d1bf5497",
      "0c98c6174d714fbfa1415ef0a94accf9",
      "9ecfb075ab674af2a9e4794de8a6c621",
      "fd3795a3bcf24e85bf4a41661e959377",
      "3d9f4774ff564bd6a22f571facaeb299",
      "2a4bd17b251942a394ebfc2bdd6fb713",
      "25b6cb4982f7466aa95a1d00beaf742c",
      "b111190df9cf4d78b421f67a317095c2",
      "ecc000126290424d9c9c0825d6db1720",
      "5f9fc4eaa80242df80434bf88c2308a3",
      "58f99a585b5344d99423c2edd4843a3a",
      "c5327a0140164f8ea7afe7c218309e89",
      "02384f9f3cb6499ba6fd28c68db3fd4a",
      "763d857f27974abb99ba0ab307e27f19",
      "5fb4e4aaecbd497caaf1da6604587499",
      "6cbbf6e488aa443d8c83e39b6b119660",
      "f2058573ad964a909aad186619434388",
      "9a665a42450148d5aa76b1f25e2a7210",
      "6d34e613c4da49678a4d808ed4430e1c",
      "989ab12e137a4d938435445c2aee4b8a",
      "417bbc6a99d44235a3087b9a7dbcf10f",
      "6f19c25c36504df9ad795e5034eb414d"
     ]
    },
    "id": "RtxmMJDKebsM",
    "outputId": "b2b79f2f-cd9d-48b8-c0b4-97461fb37d30"
   },
   "outputs": [
    {
     "data": {
      "application/vnd.jupyter.widget-view+json": {
       "model_id": "e331fa88b22240e4a7e57a12d1bf5497",
       "version_major": 2,
       "version_minor": 0
      },
      "text/plain": [
       "Resolving data files:   0%|          | 0/1024 [00:00<?, ?it/s]"
      ]
     },
     "metadata": {},
     "output_type": "display_data"
    },
    {
     "data": {
      "application/vnd.jupyter.widget-view+json": {
       "model_id": "c5327a0140164f8ea7afe7c218309e89",
       "version_major": 2,
       "version_minor": 0
      },
      "text/plain": [
       "Resolving data files:   0%|          | 0/1024 [00:00<?, ?it/s]"
      ]
     },
     "metadata": {},
     "output_type": "display_data"
    }
   ],
   "source": [
    "from datasets import load_dataset\n",
    "\n",
    "# 1. Подгружаем и перемешиваем буфером 100 000 сразу\n",
    "ds = load_dataset(\"allenai/c4\", \"en\", split=\"train\", streaming=True)\n",
    "ds_shuffled = ds.shuffle(buffer_size=100_000, seed=42)\n",
    "\n",
    "# 2. Берём сразу 100 000 примеров\n",
    "sample_100k = ds_shuffled.take(100_000)\n",
    "all_texts = [ex[\"text\"] for ex in sample_100k]"
   ]
  },
  {
   "cell_type": "code",
   "execution_count": null,
   "metadata": {
    "colab": {
     "base_uri": "https://localhost:8080/",
     "height": 127
    },
    "id": "rgiH0P85etrV",
    "outputId": "a16caa84-1e94-40fb-eb3b-94eb77cc97c0"
   },
   "outputs": [
    {
     "data": {
      "application/vnd.google.colaboratory.intrinsic+json": {
       "type": "string"
      },
      "text/plain": [
       "'A beautifully manufactured 90 degree die grinder that’s a sheer joy to use. It’s less than 6” long and fits comfortably in the hand for extended use without discomfort. Use it with rotary files, or Scotch-Brite Roloc discs to shape and polish your work.\\nAllows you to use any type of cutoff wheel with your 1/4\" collet die grinder. The complete arbor set includes the shank and two screw mandrels for 1/4\" and 3/8\" hole sizes.\\nSwivel action - makes deburring and countersink holes fast and easy. Molded handle with 2” long plated steel shaft with 1/4”-28 threaded holder. Includes (1) 3/8” X 100° 3-flute burring cutter and 8” extension shaft for deburring.'"
      ]
     },
     "execution_count": 49,
     "metadata": {},
     "output_type": "execute_result"
    }
   ],
   "source": [
    "all_texts[6]"
   ]
  },
  {
   "cell_type": "code",
   "execution_count": null,
   "metadata": {
    "id": "ksg9jyRAgrPi"
   },
   "outputs": [],
   "source": []
  },
  {
   "cell_type": "markdown",
   "metadata": {
    "id": "pPDELZtgg3Cl"
   },
   "source": [
    "# Считаем метрики похожести разных слоев модели"
   ]
  },
  {
   "cell_type": "markdown",
   "metadata": {
    "id": "5jAmNvCig8Pz"
   },
   "source": [
    "Тексты для расчета"
   ]
  },
  {
   "cell_type": "code",
   "execution_count": null,
   "metadata": {
    "colab": {
     "base_uri": "https://localhost:8080/",
     "height": 242,
     "referenced_widgets": [
      "355366421faf4d9f8c706b1a02b20b17",
      "4d39c464b41244d38bb104a1cfe02f6f",
      "baa9bca785da4b17b550a8877ab3f87f",
      "d26554d785074c208fae29f5cd57e9e1",
      "13aede1fdf1a4b54b32a3c431f1da2d2",
      "137aa11f018f45e8a5883ac5ebfdfab9",
      "b40ee26fb5ee46e9b5d62db0c32bc155",
      "104b2b776740487ca3ecbe42f95ba845",
      "2a525732b1654d97a2355a84c8201976",
      "23ef7522bfb94c25aafa36888642c99b",
      "14aca4a9b938456fb2cfff7cfee2eaaa",
      "1228d3ac1a3248cc976844b51241c3d0",
      "245085d6720444a3ad76b1b66711b60f",
      "6d6150b951bc47cdbbd141060d71a46c",
      "2260a9534db9497ea58453da3f3395e6",
      "9bcedbb4882c4ebc96900dee422b3c98",
      "9d9de7a43fb34bb79a5690c55c7fe7bf",
      "4e92d87b7bba443a8f123b79434c7699",
      "2bd4b5fe55824006a07bf2d779c314e0",
      "a1be1d8c04c34d4bb691956d0d564f6c",
      "2bd1954d40e241cab40f8a15948b869c",
      "737f9e10d2b74a408227076a5ef4f60e",
      "741edb051cb84bd2bb94eb04023d706a",
      "3fb89e17271043e796dd2655579661db",
      "587d06460caa433b80189739b23e83dd",
      "ba1a98ae1a584f7d961454f04fef90ad",
      "9076f78835204d43a33dc907f97b082e",
      "84e85df7365d4c7f826f699543ba6b46",
      "0b12ea6b23ac49b2ad0735a81ee7e8a7",
      "e247624e12f140a1a84b6fc72fbb1b04",
      "8dc5b68f5fd140259013830bb5a46ae7",
      "aebe800f78f844af95bc1d5098b57b57",
      "dbd0614fbf7047128ca614c4a8fb7051"
     ]
    },
    "id": "LSFYS2tTEURV",
    "outputId": "e857cbcc-ea6b-44d8-8762-6f241f0117e9"
   },
   "outputs": [
    {
     "name": "stderr",
     "output_type": "stream",
     "text": [
      "/usr/local/lib/python3.11/dist-packages/huggingface_hub/utils/_auth.py:94: UserWarning: \n",
      "The secret `HF_TOKEN` does not exist in your Colab secrets.\n",
      "To authenticate with the Hugging Face Hub, create a token in your settings tab (https://huggingface.co/settings/tokens), set it as secret in your Google Colab and restart your session.\n",
      "You will be able to reuse this secret in all of your notebooks.\n",
      "Please note that authentication is recommended but still optional to access public models or datasets.\n",
      "  warnings.warn(\n"
     ]
    },
    {
     "data": {
      "application/vnd.jupyter.widget-view+json": {
       "model_id": "355366421faf4d9f8c706b1a02b20b17",
       "version_major": 2,
       "version_minor": 0
      },
      "text/plain": [
       "Downloading readme:   0%|          | 0.00/41.1k [00:00<?, ?B/s]"
      ]
     },
     "metadata": {},
     "output_type": "display_data"
    },
    {
     "data": {
      "application/vnd.jupyter.widget-view+json": {
       "model_id": "1228d3ac1a3248cc976844b51241c3d0",
       "version_major": 2,
       "version_minor": 0
      },
      "text/plain": [
       "Resolving data files:   0%|          | 0/1024 [00:00<?, ?it/s]"
      ]
     },
     "metadata": {},
     "output_type": "display_data"
    },
    {
     "data": {
      "application/vnd.jupyter.widget-view+json": {
       "model_id": "741edb051cb84bd2bb94eb04023d706a",
       "version_major": 2,
       "version_minor": 0
      },
      "text/plain": [
       "Resolving data files:   0%|          | 0/1024 [00:00<?, ?it/s]"
      ]
     },
     "metadata": {},
     "output_type": "display_data"
    }
   ],
   "source": [
    "from datasets import load_dataset\n",
    "\n",
    "# 1. Подгружаем и перемешиваем буфером 100 000 сразу\n",
    "ds = load_dataset(\"allenai/c4\", \"en\", split=\"train\", streaming=True)\n",
    "ds_shuffled = ds.shuffle(buffer_size=20_000, seed=42)\n",
    "\n",
    "# 2. Берём сразу 100 000 примеров\n",
    "sample = ds_shuffled.take(20_000)\n",
    "texts = [ex[\"text\"] for ex in sample]"
   ]
  },
  {
   "cell_type": "code",
   "execution_count": null,
   "metadata": {
    "id": "s23vIjmqk-6L"
   },
   "outputs": [],
   "source": [
    "del ds\n",
    "torch.cuda.empty_cache()"
   ]
  },
  {
   "cell_type": "code",
   "execution_count": null,
   "metadata": {
    "colab": {
     "base_uri": "https://localhost:8080/",
     "height": 284,
     "referenced_widgets": [
      "5076d52fb1e349f6a33430e0f7c18557",
      "33e71eb2a3554ec383d04962b29c2f65",
      "096630b2d9fe4de2a1af514c1b375817",
      "8bd11980c78f4376b0d0eb45d83089fb",
      "274d01568bf6465ca7955a4c18750516",
      "264e8593af0e43e7ab25f549c3ff5c53",
      "fbb36cedf0bd4a4c8cf6ea7dc3d6ad62",
      "7d5f864944714c30abce525d3803b17b",
      "abcc4911976043708aaf75e1b8732693",
      "2dcd1dab37824fe6974e1f04ec51b549",
      "5b5cfe8d4a094e76a618ec23ea393825",
      "c1f4573fd1ea444ea9b96447acb5de34",
      "2edda7fecbb9429093311044d7c80e06",
      "c4b95eedb4054a26ab6a6afcb2c57402",
      "6481c860a8e047729bc7e32ca70eb485",
      "2cd39d84fb8f46a48daaa0f81fdd8cce",
      "54c8d1bec17d4bc2b461272d352895d2",
      "a52002bbc8e04b6b9ad6cc521d4ee9d0",
      "3b166b4d177845478fad91f5ccc6bfd0",
      "e06539a82ffb40029ab99b94885ae2a9",
      "ec54d204d3ef4855b13b68c42516f746",
      "a54702e1da8b4fd7bed806875a274de8",
      "f1552299d2c345d595ae9be58b44b56d",
      "b39f298529914b7299fa7f1fb046dc52",
      "073a194b8a0946859500d8d66b64fdbf",
      "a6ee34eb266a457cb7fba5d6e38103d2",
      "6a38fdc8ac5e43c2833d839c48201039",
      "b7fc541215b14abcb007ce65c7248c55",
      "d995f8dab2f5466a9ad2b72b900963ce",
      "ceb88ffc64c642beb9cad4fa7e068b5a",
      "43e884697cf749fb9030d2117f25887d",
      "4ed8e8c2860d491288c5e4d77a64faf6",
      "4e09bc7f638141ca8c9cbf3013514b63",
      "e6d0ac8a49584abf879855cc26851077",
      "1733df0936e44f7d91d6f491d600ce47",
      "e4ab7594e5924889b65472da9eefb33f",
      "79bba85db66348e7a2dd086cc4683866",
      "bec1780a1b7049f6a0021b223ef6a3fe",
      "fe3db40630644976ba16633be9eb212e",
      "e637fb8da5224257a69e326ca76fa5bf",
      "b6f1dab9f07d40b480ef2e01fe8912b6",
      "d71a60f982c34e7b81ed3ea9ad3893ca",
      "9b9817ef85b147e89034213214ee30cc",
      "54b929263307458a9c70c8bc1d52c653",
      "9ff3c60d77504b8cb5d448223cba5531",
      "55c8d98e6a1b4aef9ccbdaffd4a1f7cb",
      "b137092bc3b04ef693c195938304d0be",
      "3658b2b142534592ac5270117e582561",
      "540c8335c3c24b59a5d846e602d4da19",
      "a8c35f587f734d9d8fb57e2f94bc1513",
      "022b49bfb703408b90b5b02d3e9a18d6",
      "ce66c88e8ad34e30a0690bacc9baf8b0",
      "6aae206134644a20aa36303dbd93b33e",
      "739757012a1b42dca8077802f29509fd",
      "5858756b962349ceaa7bcc7347945459",
      "bc1ffdb12bc24b5eb675a3cad9ccec6e",
      "92a61d2fb7ce4d739bee2693f69601ec",
      "ea66202342b84598b6528c8bbe616433",
      "d9e2358bd7b14ccbbe023cb09c819170",
      "8f6c34cd5f284d8ca28acc2aabddc05f",
      "238f87bf188a4b5eb966c917f90026e9",
      "5a1861d5ab7b44d6b3a540eaa2a5413d",
      "1450df30ee6c4ae4ad6242759f11e89f",
      "deccf0204b7a4ec7a0cbb8d05d44906b",
      "0daf08bf29f5437abec8e035f95dfbfd",
      "591064e5d7ad492ba1cea3607d8b0c43"
     ]
    },
    "id": "bNhyfTt2aMlD",
    "outputId": "654fc709-4f4d-4648-cc06-d0ebcf6d06f4"
   },
   "outputs": [
    {
     "data": {
      "application/vnd.jupyter.widget-view+json": {
       "model_id": "5076d52fb1e349f6a33430e0f7c18557",
       "version_major": 2,
       "version_minor": 0
      },
      "text/plain": [
       "config.json:   0%|          | 0.00/570 [00:00<?, ?B/s]"
      ]
     },
     "metadata": {},
     "output_type": "display_data"
    },
    {
     "name": "stderr",
     "output_type": "stream",
     "text": [
      "Xet Storage is enabled for this repo, but the 'hf_xet' package is not installed. Falling back to regular HTTP download. For better performance, install the package with: `pip install huggingface_hub[hf_xet]` or `pip install hf_xet`\n",
      "WARNING:huggingface_hub.file_download:Xet Storage is enabled for this repo, but the 'hf_xet' package is not installed. Falling back to regular HTTP download. For better performance, install the package with: `pip install huggingface_hub[hf_xet]` or `pip install hf_xet`\n"
     ]
    },
    {
     "data": {
      "application/vnd.jupyter.widget-view+json": {
       "model_id": "c1f4573fd1ea444ea9b96447acb5de34",
       "version_major": 2,
       "version_minor": 0
      },
      "text/plain": [
       "model.safetensors:   0%|          | 0.00/440M [00:00<?, ?B/s]"
      ]
     },
     "metadata": {},
     "output_type": "display_data"
    },
    {
     "data": {
      "application/vnd.jupyter.widget-view+json": {
       "model_id": "f1552299d2c345d595ae9be58b44b56d",
       "version_major": 2,
       "version_minor": 0
      },
      "text/plain": [
       "tokenizer_config.json:   0%|          | 0.00/48.0 [00:00<?, ?B/s]"
      ]
     },
     "metadata": {},
     "output_type": "display_data"
    },
    {
     "data": {
      "application/vnd.jupyter.widget-view+json": {
       "model_id": "e6d0ac8a49584abf879855cc26851077",
       "version_major": 2,
       "version_minor": 0
      },
      "text/plain": [
       "vocab.txt:   0%|          | 0.00/232k [00:00<?, ?B/s]"
      ]
     },
     "metadata": {},
     "output_type": "display_data"
    },
    {
     "data": {
      "application/vnd.jupyter.widget-view+json": {
       "model_id": "9ff3c60d77504b8cb5d448223cba5531",
       "version_major": 2,
       "version_minor": 0
      },
      "text/plain": [
       "tokenizer.json:   0%|          | 0.00/466k [00:00<?, ?B/s]"
      ]
     },
     "metadata": {},
     "output_type": "display_data"
    },
    {
     "data": {
      "application/vnd.jupyter.widget-view+json": {
       "model_id": "bc1ffdb12bc24b5eb675a3cad9ccec6e",
       "version_major": 2,
       "version_minor": 0
      },
      "text/plain": [
       "  0%|          | 0/313 [00:00<?, ?it/s]"
      ]
     },
     "metadata": {},
     "output_type": "display_data"
    },
    {
     "name": "stdout",
     "output_type": "stream",
     "text": [
      "Все эмбеддинги сохранены в bert_embeddings_batch\n"
     ]
    }
   ],
   "source": [
    "\n",
    "# ─────────────────────────────────────────────────────────────\n",
    "# 1. Конфигурация\n",
    "# ─────────────────────────────────────────────────────────────\n",
    "MODEL_NAME = \"bert-base-uncased\"\n",
    "SAVE_DIR   = \"bert_embeddings_batch\"\n",
    "os.makedirs(SAVE_DIR, exist_ok=True)\n",
    "\n",
    "BATCH_SIZE = 64        # BERT-base маленькая, можно смело 32–64\n",
    "MAX_LEN    = 256\n",
    "\n",
    "# ─────────────────────────────────────────────────────────────\n",
    "# 2. Загрузка модели и токенизатора\n",
    "# ─────────────────────────────────────────────────────────────\n",
    "device = \"cuda\" if torch.cuda.is_available() else \"cpu\"\n",
    "\n",
    "model = AutoModel.from_pretrained(\n",
    "    MODEL_NAME,\n",
    "    output_hidden_states=True,\n",
    "    # torch_dtype=torch.float16 if device == \"cuda\" else torch.float32,\n",
    "    device_map=\"auto\" if device == \"cuda\" else None,\n",
    ").eval()\n",
    "\n",
    "tokenizer = AutoTokenizer.from_pretrained(\n",
    "    MODEL_NAME,\n",
    "    padding_side=\"right\",\n",
    "    use_fast=True\n",
    ")\n",
    "\n",
    "num_layers = model.config.num_hidden_layers + 1   # 13 для BERT-base\n",
    "\n",
    "# ─────────────────────────────────────────────────────────────\n",
    "# 3. Вычисляем и сохраняем эмбеддинги\n",
    "# ─────────────────────────────────────────────────────────────\n",
    "problem_batches = []\n",
    "\n",
    "for batch_idx in tqdm(range(0, len(texts), BATCH_SIZE),\n",
    "                      total=(len(texts)+BATCH_SIZE-1)//BATCH_SIZE):\n",
    "\n",
    "    batch_texts = texts[batch_idx : batch_idx + BATCH_SIZE]\n",
    "\n",
    "    encoded = tokenizer(\n",
    "        batch_texts,\n",
    "        return_tensors=\"pt\",\n",
    "        padding=True,\n",
    "        truncation=True,\n",
    "        max_length=MAX_LEN\n",
    "    ).to(model.device)\n",
    "\n",
    "    with torch.no_grad():                 # BERT-base → fp16 optional\n",
    "        outputs = model(**encoded)\n",
    "\n",
    "    # Сохраняем все скрытые слои\n",
    "    for layer_idx, hs in enumerate(outputs.hidden_states):  # hs: [B,L,H]\n",
    "        mask     = encoded.attention_mask.unsqueeze(-1).to(hs.dtype)\n",
    "        avg_emb  = (hs * mask).sum(1) / mask.sum(1)\n",
    "        embeddings = avg_emb.cpu()\n",
    "\n",
    "        if torch.isinf(avg_emb).any():\n",
    "            problem_batches.append(batch_idx)\n",
    "\n",
    "        layer_dir = os.path.join(SAVE_DIR, f\"layer_{layer_idx}\")\n",
    "        os.makedirs(layer_dir, exist_ok=True)\n",
    "        torch.save(embeddings, os.path.join(layer_dir,\n",
    "                                            f\"batch_{batch_idx}.pt\"))\n",
    "\n",
    "    # очистка\n",
    "    del outputs, encoded, embeddings\n",
    "    gc.collect(); torch.cuda.empty_cache()\n",
    "\n",
    "if problem_batches:\n",
    "    print(\"Найдены inf в батчах:\", problem_batches)\n",
    "print(f\"Все эмбеддинги сохранены в {SAVE_DIR}\")\n"
   ]
  },
  {
   "cell_type": "code",
   "execution_count": null,
   "metadata": {
    "id": "9VyxIzEe9OcH"
   },
   "outputs": [],
   "source": [
    "def load_layer_embeddings(layer_idx):\n",
    "    layer_dir = os.path.join(SAVE_DIR, f\"layer_{layer_idx}\")\n",
    "    batch_files = sorted(os.listdir(layer_dir), key=lambda x: int(x.split('_')[1].split('.')[0]))\n",
    "    return torch.cat([torch.load(os.path.join(layer_dir, f)) for f in batch_files], dim=0)"
   ]
  },
  {
   "cell_type": "code",
   "execution_count": null,
   "metadata": {
    "id": "a8cFk0cB9K2p"
   },
   "outputs": [],
   "source": [
    "for layer_idx in range(num_layers):\n",
    "  a = load_layer_embeddings(layer_idx)\n",
    "  if torch.isinf(a).sum() != 0:\n",
    "    print(f\"INF layer, {layer_idx}\")\n",
    "  if torch.isnan(a).sum() != 0:\n",
    "    print(f\"NANS layer, {layer_idx}\")"
   ]
  },
  {
   "cell_type": "code",
   "execution_count": null,
   "metadata": {
    "id": "hhMxKasuytsf"
   },
   "outputs": [],
   "source": [
    "import logging\n",
    "from datetime import datetime\n",
    "import numpy as np\n",
    "import torch\n",
    "import gc\n",
    "\n",
    "# === Настройка логгера ===\n",
    "def setup_logging(log_file):\n",
    "    logger = logging.getLogger(\"metrics_logger\")\n",
    "    logger.setLevel(logging.INFO)\n",
    "\n",
    "    if logger.hasHandlers():\n",
    "        logger.handlers.clear()\n",
    "\n",
    "    formatter = logging.Formatter('%(asctime)s - %(levelname)s - %(message)s')\n",
    "\n",
    "    file_handler = logging.FileHandler(log_file, mode='w')\n",
    "    file_handler.setFormatter(formatter)\n",
    "\n",
    "    console_handler = logging.StreamHandler()\n",
    "    console_handler.setFormatter(formatter)\n",
    "\n",
    "    logger.addHandler(file_handler)\n",
    "    logger.addHandler(console_handler)\n",
    "\n",
    "    return logger\n",
    "\n",
    "# === Подсчет метрики ===\n",
    "def calculate_metric(a, b, metric_name, batch_size=1000, trials=10):\n",
    "    cls = ALL_MEASURES[metric_name]\n",
    "    metrics = []\n",
    "\n",
    "    for i in range(trials):\n",
    "        idx = np.random.permutation(a.shape[0])[:batch_size]\n",
    "        metric = cls(a[idx], b[idx], shape='nd')\n",
    "        metrics.append(metric)\n",
    "\n",
    "    return np.mean(metrics), np.std(metrics)"
   ]
  },
  {
   "cell_type": "code",
   "execution_count": null,
   "metadata": {
    "id": "Jm-jS3EYyyLr"
   },
   "outputs": [],
   "source": [
    "PATH = '/content/drive/MyDrive/PTLS/NLP/BERT_BASE_UNCASED_SIM/'\n",
    "LOG_FILE = 'similarity_metrics.log'"
   ]
  },
  {
   "cell_type": "code",
   "execution_count": null,
   "metadata": {
    "colab": {
     "base_uri": "https://localhost:8080/"
    },
    "id": "MIxnzF2ex76L",
    "outputId": "43ce10c7-fd5e-4b85-c5d4-25a1d9be0d21"
   },
   "outputs": [
    {
     "name": "stderr",
     "output_type": "stream",
     "text": [
      "2025-05-05 12:58:34,227 - INFO - Finished DistanceCorrelation in 0:04:13.007808\n",
      "INFO:metrics_logger:Finished DistanceCorrelation in 0:04:13.007808\n",
      "2025-05-05 12:58:34,229 - INFO - === All metrics completed in 0:20:42.705888 ===\n",
      "INFO:metrics_logger:=== All metrics completed in 0:20:42.705888 ===\n"
     ]
    }
   ],
   "source": [
    "# === Константы ===\n",
    "METRICS = ['CKA', 'RSA', 'JaccardSimilarity', 'DistanceCorrelation']\n",
    "\n",
    "# === Инициализация логгера ===\n",
    "logger = setup_logging(LOG_FILE)\n",
    "\n",
    "# === Основной процесс ===\n",
    "try:\n",
    "    logger.info(\"=== Start metrics calculation ===\")\n",
    "    logger.info(f\"Metrics to compute: {', '.join(METRICS)}\")\n",
    "    start_time = datetime.now()\n",
    "\n",
    "    for metric_name in METRICS:\n",
    "        metric_start = datetime.now()\n",
    "        logger.info(f\"{'='*40}\\nProcessing: {metric_name}\")\n",
    "\n",
    "        matrix = np.zeros((num_layers, num_layers))\n",
    "        matrix_std = np.zeros((num_layers, num_layers))\n",
    "\n",
    "        for i in range(num_layers):\n",
    "            a = load_layer_embeddings(i)\n",
    "            logger.info(f\"Layer {i} | Shape: {a.shape}\")\n",
    "\n",
    "            for j in range(i, num_layers):\n",
    "                b = load_layer_embeddings(j)\n",
    "\n",
    "                try:\n",
    "                    metr, metr_std = calculate_metric(a.float(), b.float(), metric_name, batch_size=3000, trials=5)\n",
    "                    matrix[i, j] = matrix[j, i] = metr\n",
    "                    matrix_std[i, j] = matrix_std[j, i] = metr_std\n",
    "\n",
    "                    logger.info(f\"{metric_name} | L{i}-L{j}: {metr:.4f} ± {metr_std:.4f} | \"\n",
    "                                f\"GPU Mem: {torch.cuda.memory_allocated() / 1024**2:.1f} MB\")\n",
    "                except Exception as e:\n",
    "                    logger.error(f\"Metric error for L{i}-L{j}: {e}\", exc_info=True)\n",
    "\n",
    "                del b\n",
    "                torch.cuda.empty_cache()\n",
    "                gc.collect()\n",
    "                clear_output()\n",
    "\n",
    "            del a\n",
    "            torch.cuda.empty_cache()\n",
    "            gc.collect()\n",
    "\n",
    "        save_res(matrix, f\"{PATH}{metric_name}.pkl\")\n",
    "        save_res(matrix_std, f\"{PATH}{metric_name}_std.pkl\")\n",
    "\n",
    "        logger.info(f\"Finished {metric_name} in {datetime.now() - metric_start}\")\n",
    "\n",
    "\n",
    "except Exception as e:\n",
    "    logger.critical(f\"Fatal error: {e}\", exc_info=True)\n",
    "finally:\n",
    "    logger.info(f\"=== All metrics completed in {datetime.now() - start_time} ===\")\n",
    "    for handler in logger.handlers:\n",
    "        handler.close()"
   ]
  },
  {
   "cell_type": "markdown",
   "metadata": {
    "id": "wl8_1tharCEA"
   },
   "source": [
    "# Смотрим на метрики"
   ]
  },
  {
   "cell_type": "code",
   "execution_count": null,
   "metadata": {
    "id": "tjxvhiWQscIM"
   },
   "outputs": [],
   "source": [
    "import scipy.cluster.hierarchy as sch\n",
    "from scipy.spatial.distance import squareform"
   ]
  },
  {
   "cell_type": "code",
   "execution_count": null,
   "metadata": {
    "id": "2H0ZDt4ArGj9"
   },
   "outputs": [],
   "source": [
    "PATH = '/content/drive/MyDrive/PTLS/NLP/BERT_BASE_UNCASED_SIM/'"
   ]
  },
  {
   "cell_type": "code",
   "execution_count": null,
   "metadata": {
    "colab": {
     "base_uri": "https://localhost:8080/",
     "height": 566
    },
    "id": "S3fbXKSH4WZZ",
    "outputId": "b7e137a4-ce37-4977-f51e-7222632c6a5c"
   },
   "outputs": [
    {
     "data": {
      "image/png": "[encoded data removed]",
      "text/plain": [
       "<Figure size 1000x600 with 2 Axes>"
      ]
     },
     "metadata": {},
     "output_type": "display_data"
    }
   ],
   "source": [
    "matr = load_res(PATH + 'CKA.pkl')\n",
    "plt.figure(figsize=(10, 6))  # Adjust figure size\n",
    "\n",
    "sns.heatmap(\n",
    "    matr,\n",
    "    cmap=\"coolwarm\",  # Color map\n",
    "    linewidths=0.5  # Cell spacing\n",
    ")\n",
    "\n",
    "plt.title(\"CKA\", fontsize=16)\n",
    "plt.xlabel(\"layer\")\n",
    "plt.ylabel(\"layer\")\n",
    "\n",
    "plt.show()"
   ]
  },
  {
   "cell_type": "code",
   "execution_count": null,
   "metadata": {
    "colab": {
     "base_uri": "https://localhost:8080/",
     "height": 414
    },
    "id": "c_Lwqsv9rZbc",
    "outputId": "5f0d217d-8287-40b9-c332-b27abf569a80"
   },
   "outputs": [
    {
     "data": {
      "image/png": "[encoded data removed]",
      "text/plain": [
       "<Figure size 1000x400 with 1 Axes>"
      ]
     },
     "metadata": {},
     "output_type": "display_data"
    },
    {
     "name": "stdout",
     "output_type": "stream",
     "text": [
      "Полученные кластеры слоёв:\n",
      "  Кластер 1: [9, 10, 11, 12]\n",
      "  Кластер 2: [4, 5, 6, 7, 8]\n",
      "  Кластер 3: [1, 2, 3]\n",
      "  Кластер 4: [0]\n"
     ]
    }
   ],
   "source": [
    "# 2. Из сходства → в расстояние\n",
    "metr = 'CKA'\n",
    "dist_mat = 1.0 - matr\n",
    "condensed = squareform(dist_mat, checks=False)   # форма (n_layers · (n_layers − 1)/2,)\n",
    "\n",
    "# 3. Иерархическая агломерация (Ward linkage)\n",
    "linkage = sch.linkage(condensed, method=\"ward\")\n",
    "\n",
    "# 4. Дендрограмма\n",
    "plt.figure(figsize=(10, 4))\n",
    "sch.dendrogram(linkage,\n",
    "               labels=np.arange(matr.shape[0]),  # подпишем номер слоя\n",
    "               leaf_rotation=90)\n",
    "plt.title(f\"Кластеризация слоёв по {metr}\")\n",
    "plt.xlabel(\"Слой\")\n",
    "plt.ylabel(f\"Расстояние = 1 − {metr}\")\n",
    "plt.tight_layout()\n",
    "plt.show()\n",
    "\n",
    "# 5-a. Сформировать k кластеров\n",
    "k = 4                                           # ← поменяйте при необходимости\n",
    "cluster_ids = sch.fcluster(linkage, k, criterion=\"maxclust\")\n",
    "\n",
    "# 5-b. …или по высоте порога\n",
    "# threshold = 0.4                               # ← расстояние-порог\n",
    "# cluster_ids = sch.fcluster(linkage, threshold, criterion=\"distance\")\n",
    "\n",
    "# 6. Сгруппуем слои по кластерам\n",
    "clusters = {}\n",
    "for layer, cid in enumerate(cluster_ids):\n",
    "    clusters.setdefault(cid, []).append(layer)\n",
    "\n",
    "print(\"Полученные кластеры слоёв:\")\n",
    "for cid, layers in sorted(clusters.items()):\n",
    "    print(f\"  Кластер {cid}: {layers}\")\n"
   ]
  },
  {
   "cell_type": "code",
   "execution_count": null,
   "metadata": {
    "colab": {
     "base_uri": "https://localhost:8080/",
     "height": 560
    },
    "id": "DJf9N6Zm8DAE",
    "outputId": "fa3a990b-2a6e-42aa-9d1d-a907e5db80e3"
   },
   "outputs": [
    {
     "data": {
      "image/png": "[encoded data removed]",
      "text/plain": [
       "<Figure size 1000x600 with 2 Axes>"
      ]
     },
     "metadata": {},
     "output_type": "display_data"
    }
   ],
   "source": [
    "matr = load_res(PATH + 'RSA.pkl')\n",
    "plt.figure(figsize=(10, 6))  # Adjust figure size\n",
    "\n",
    "sns.heatmap(\n",
    "    matr,\n",
    "    cmap=\"coolwarm\",  # Color map\n",
    "    linewidths=0.5  # Cell spacing\n",
    ")\n",
    "\n",
    "plt.title(\"RSA\", fontsize=16)\n",
    "plt.xlabel(\"layer\")\n",
    "plt.ylabel(\"layer\")\n",
    "\n",
    "plt.show()"
   ]
  },
  {
   "cell_type": "code",
   "execution_count": null,
   "metadata": {
    "colab": {
     "base_uri": "https://localhost:8080/",
     "height": 414
    },
    "id": "mR3PT6GBrcri",
    "outputId": "5121020f-1f94-4513-83f1-afd978b3ee6b"
   },
   "outputs": [
    {
     "data": {
      "image/png": "[encoded data removed]",
      "text/plain": [
       "<Figure size 1000x400 with 1 Axes>"
      ]
     },
     "metadata": {},
     "output_type": "display_data"
    },
    {
     "name": "stdout",
     "output_type": "stream",
     "text": [
      "Полученные кластеры слоёв:\n",
      "  Кластер 1: [10, 11, 12]\n",
      "  Кластер 2: [5, 6, 7, 8, 9]\n",
      "  Кластер 3: [1, 2, 3, 4]\n",
      "  Кластер 4: [0]\n"
     ]
    }
   ],
   "source": [
    "# 2. Из сходства → в расстояние\n",
    "metr = 'RSA'\n",
    "dist_mat = 1.0 - matr\n",
    "condensed = squareform(dist_mat, checks=False)   # форма (n_layers · (n_layers − 1)/2,)\n",
    "\n",
    "# 3. Иерархическая агломерация (Ward linkage)\n",
    "linkage = sch.linkage(condensed, method=\"ward\")\n",
    "\n",
    "# 4. Дендрограмма\n",
    "plt.figure(figsize=(10, 4))\n",
    "sch.dendrogram(linkage,\n",
    "               labels=np.arange(matr.shape[0]),  # подпишем номер слоя\n",
    "               leaf_rotation=90)\n",
    "plt.title(f\"Кластеризация слоёв по {metr}\")\n",
    "plt.xlabel(\"Слой\")\n",
    "plt.ylabel(f\"Расстояние = 1 − {metr}\")\n",
    "plt.tight_layout()\n",
    "plt.show()\n",
    "\n",
    "# 5-a. Сформировать k кластеров\n",
    "k = 4                                           # ← поменяйте при необходимости\n",
    "cluster_ids = sch.fcluster(linkage, k, criterion=\"maxclust\")\n",
    "\n",
    "# 5-b. …или по высоте порога\n",
    "# threshold = 0.4                               # ← расстояние-порог\n",
    "# cluster_ids = sch.fcluster(linkage, threshold, criterion=\"distance\")\n",
    "\n",
    "# 6. Сгруппуем слои по кластерам\n",
    "clusters = {}\n",
    "for layer, cid in enumerate(cluster_ids):\n",
    "    clusters.setdefault(cid, []).append(layer)\n",
    "\n",
    "print(\"Полученные кластеры слоёв:\")\n",
    "for cid, layers in sorted(clusters.items()):\n",
    "    print(f\"  Кластер {cid}: {layers}\")\n"
   ]
  },
  {
   "cell_type": "code",
   "execution_count": null,
   "metadata": {
    "colab": {
     "base_uri": "https://localhost:8080/",
     "height": 566
    },
    "id": "WdZ6Ti6pRJJk",
    "outputId": "9864d8b6-8e6b-4b6b-801e-0fda556b84c1"
   },
   "outputs": [
    {
     "data": {
      "image/png": "[encoded data removed]",
      "text/plain": [
       "<Figure size 1000x600 with 2 Axes>"
      ]
     },
     "metadata": {},
     "output_type": "display_data"
    }
   ],
   "source": [
    "matr = load_res(PATH + 'JaccardSimilarity.pkl')\n",
    "plt.figure(figsize=(10, 6))  # Adjust figure size\n",
    "\n",
    "sns.heatmap(\n",
    "    matr,\n",
    "    cmap=\"coolwarm\",  # Color map\n",
    "    linewidths=0.5  # Cell spacing\n",
    ")\n",
    "\n",
    "plt.title(\"Jaccard\", fontsize=16)\n",
    "plt.xlabel(\"layer\")\n",
    "plt.ylabel(\"layer\")\n",
    "\n",
    "plt.show()"
   ]
  },
  {
   "cell_type": "code",
   "execution_count": null,
   "metadata": {
    "colab": {
     "base_uri": "https://localhost:8080/",
     "height": 414
    },
    "id": "YvjATSSSrwEd",
    "outputId": "2cb5fe0a-ecf8-41e3-d6ce-6757527983f1"
   },
   "outputs": [
    {
     "data": {
      "image/png": "[encoded data removed]",
      "text/plain": [
       "<Figure size 1000x400 with 1 Axes>"
      ]
     },
     "metadata": {},
     "output_type": "display_data"
    },
    {
     "name": "stdout",
     "output_type": "stream",
     "text": [
      "Полученные кластеры слоёв:\n",
      "  Кластер 1: [1, 2, 3]\n",
      "  Кластер 2: [0]\n",
      "  Кластер 3: [10, 11, 12]\n",
      "  Кластер 4: [4, 5, 6, 7, 8, 9]\n"
     ]
    }
   ],
   "source": [
    "# 2. Из сходства → в расстояние\n",
    "metr = 'Jaccard'\n",
    "dist_mat = 1.0 - matr\n",
    "condensed = squareform(dist_mat, checks=False)   # форма (n_layers · (n_layers − 1)/2,)\n",
    "\n",
    "# 3. Иерархическая агломерация (Ward linkage)\n",
    "linkage = sch.linkage(condensed, method=\"ward\")\n",
    "\n",
    "# 4. Дендрограмма\n",
    "plt.figure(figsize=(10, 4))\n",
    "sch.dendrogram(linkage,\n",
    "               labels=np.arange(matr.shape[0]),  # подпишем номер слоя\n",
    "               leaf_rotation=90)\n",
    "plt.title(f\"Кластеризация слоёв по {metr}\")\n",
    "plt.xlabel(\"Слой\")\n",
    "plt.ylabel(f\"Расстояние = 1 − {metr}\")\n",
    "plt.tight_layout()\n",
    "plt.show()\n",
    "\n",
    "# 5-a. Сформировать k кластеров\n",
    "k = 4                                           # ← поменяйте при необходимости\n",
    "cluster_ids = sch.fcluster(linkage, k, criterion=\"maxclust\")\n",
    "\n",
    "# 5-b. …или по высоте порога\n",
    "# threshold = 0.4                               # ← расстояние-порог\n",
    "# cluster_ids = sch.fcluster(linkage, threshold, criterion=\"distance\")\n",
    "\n",
    "# 6. Сгруппуем слои по кластерам\n",
    "clusters = {}\n",
    "for layer, cid in enumerate(cluster_ids):\n",
    "    clusters.setdefault(cid, []).append(layer)\n",
    "\n",
    "print(\"Полученные кластеры слоёв:\")\n",
    "for cid, layers in sorted(clusters.items()):\n",
    "    print(f\"  Кластер {cid}: {layers}\")\n"
   ]
  },
  {
   "cell_type": "code",
   "execution_count": null,
   "metadata": {
    "colab": {
     "base_uri": "https://localhost:8080/",
     "height": 560
    },
    "id": "dURubBYpRfxV",
    "outputId": "1500fe72-f118-45b7-a848-625391edb698"
   },
   "outputs": [
    {
     "data": {
      "image/png": "[encoded data removed]",
      "text/plain": [
       "<Figure size 1000x600 with 2 Axes>"
      ]
     },
     "metadata": {},
     "output_type": "display_data"
    }
   ],
   "source": [
    "matr = load_res(PATH + 'DistanceCorrelation.pkl')\n",
    "plt.figure(figsize=(10, 6))  # Adjust figure size\n",
    "\n",
    "sns.heatmap(\n",
    "    matr,\n",
    "    cmap=\"coolwarm\",  # Color map\n",
    "    linewidths=0.5  # Cell spacing\n",
    ")\n",
    "\n",
    "plt.title(\"Dist_corr\", fontsize=16)\n",
    "plt.xlabel(\"layer\")\n",
    "plt.ylabel(\"layer\")\n",
    "\n",
    "plt.show()"
   ]
  },
  {
   "cell_type": "code",
   "execution_count": null,
   "metadata": {
    "colab": {
     "base_uri": "https://localhost:8080/",
     "height": 414
    },
    "id": "wLeLZTdIRoqU",
    "outputId": "5a6f035e-84cf-4c53-d087-f709024cb5dd"
   },
   "outputs": [
    {
     "data": {
      "image/png": "[encoded data removed]",
      "text/plain": [
       "<Figure size 1000x400 with 1 Axes>"
      ]
     },
     "metadata": {},
     "output_type": "display_data"
    },
    {
     "name": "stdout",
     "output_type": "stream",
     "text": [
      "Полученные кластеры слоёв:\n",
      "  Кластер 1: [9, 10, 11, 12]\n",
      "  Кластер 2: [4, 5, 6, 7, 8]\n",
      "  Кластер 3: [1, 2, 3]\n",
      "  Кластер 4: [0]\n"
     ]
    }
   ],
   "source": [
    "metr = 'DistanceCorrelation'\n",
    "dist_mat = 1.0 - matr\n",
    "condensed = squareform(dist_mat, checks=False)   # форма (n_layers · (n_layers − 1)/2,)\n",
    "\n",
    "# 3. Иерархическая агломерация (Ward linkage)\n",
    "linkage = sch.linkage(condensed, method=\"ward\")\n",
    "\n",
    "# 4. Дендрограмма\n",
    "plt.figure(figsize=(10, 4))\n",
    "sch.dendrogram(linkage,\n",
    "               labels=np.arange(matr.shape[0]),  # подпишем номер слоя\n",
    "               leaf_rotation=90)\n",
    "plt.title(f\"Кластеризация слоёв по {metr}\")\n",
    "plt.xlabel(\"Слой\")\n",
    "plt.ylabel(f\"Расстояние = 1 − {metr}\")\n",
    "plt.tight_layout()\n",
    "plt.show()\n",
    "\n",
    "# 5-a. Сформировать k кластеров\n",
    "k = 4                                           # ← поменяйте при необходимости\n",
    "cluster_ids = sch.fcluster(linkage, k, criterion=\"maxclust\")\n",
    "\n",
    "# 5-b. …или по высоте порога\n",
    "# threshold = 0.4                               # ← расстояние-порог\n",
    "# cluster_ids = sch.fcluster(linkage, threshold, criterion=\"distance\")\n",
    "\n",
    "# 6. Сгруппуем слои по кластерам\n",
    "clusters = {}\n",
    "for layer, cid in enumerate(cluster_ids):\n",
    "    clusters.setdefault(cid, []).append(layer)\n",
    "\n",
    "print(\"Полученные кластеры слоёв:\")\n",
    "for cid, layers in sorted(clusters.items()):\n",
    "    print(f\"  Кластер {cid}: {layers}\")\n"
   ]
  }
 ],
 "metadata": {
  "accelerator": "GPU",
  "colab": {
   "collapsed_sections": [
    "rU69WGfu887H",
    "pPDELZtgg3Cl",
    "wl8_1tharCEA"
   ],
   "gpuType": "L4",
   "machine_shape": "hm",
   "provenance": []
  },
  "kernelspec": {
   "display_name": "Python 3",
   "name": "python3"
  },
  "language_info": {
   "name": "python"
  }
 },
 "nbformat": 4,
 "nbformat_minor": 0
}
